{
 "cells": [
  {
   "cell_type": "code",
   "execution_count": 1,
   "id": "e006baaf",
   "metadata": {
    "execution": {
     "iopub.execute_input": "2023-03-28T01:27:34.248428Z",
     "iopub.status.busy": "2023-03-28T01:27:34.247713Z",
     "iopub.status.idle": "2023-03-28T01:27:34.261831Z",
     "shell.execute_reply": "2023-03-28T01:27:34.260703Z"
    },
    "papermill": {
     "duration": 0.033908,
     "end_time": "2023-03-28T01:27:34.264034",
     "exception": false,
     "start_time": "2023-03-28T01:27:34.230126",
     "status": "completed"
    },
    "tags": [
     "injected-parameters"
    ]
   },
   "outputs": [],
   "source": [
    "# Parameters\n",
    "TOKENIZER = \"bert-base-cased\"\n",
    "LEARNING_RATE = 5e-05\n",
    "BATCH_SIZE = 8\n",
    "EPOCHS = 2\n"
   ]
  },
  {
   "cell_type": "code",
   "execution_count": 2,
   "id": "33a805df-781a-4297-b1f7-3380207ae3a2",
   "metadata": {
    "execution": {
     "iopub.execute_input": "2023-03-28T01:27:34.278830Z",
     "iopub.status.busy": "2023-03-28T01:27:34.278527Z",
     "iopub.status.idle": "2023-03-28T01:27:37.630297Z",
     "shell.execute_reply": "2023-03-28T01:27:37.629493Z"
    },
    "papermill": {
     "duration": 3.363816,
     "end_time": "2023-03-28T01:27:37.634645",
     "exception": false,
     "start_time": "2023-03-28T01:27:34.270829",
     "status": "completed"
    },
    "tags": []
   },
   "outputs": [
    {
     "name": "stderr",
     "output_type": "stream",
     "text": [
      "/afs/crc.nd.edu/user/p/painswor/anaconda3/envs/framework-example/lib/python3.9/site-packages/tqdm/auto.py:21: TqdmWarning: IProgress not found. Please update jupyter and ipywidgets. See https://ipywidgets.readthedocs.io/en/stable/user_install.html\n",
      "  from .autonotebook import tqdm as notebook_tqdm\n"
     ]
    }
   ],
   "source": [
    "#| hide\n",
    "import pandas as pd\n",
    "import torch\n",
    "\n",
    "import torch.nn as nn\n",
    "from transformers import BertTokenizer, BertForSequenceClassification\n",
    "\n",
    "# Training\n",
    "\n",
    "import torch.optim as optim\n",
    "\n",
    "# Evaluation\n",
    "\n",
    "from sklearn.metrics import accuracy_score, classification_report, confusion_matrix\n",
    "import seaborn as sns\n",
    "\n",
    "import pandas as pd\n",
    "import os\n",
    "from nltk.tokenize import word_tokenize\n",
    "from collections import defaultdict\n",
    "from nltk.corpus import wordnet as wn\n",
    "from nltk.stem import WordNetLemmatizer\n",
    "from nltk import pos_tag\n",
    "from nltk.corpus import stopwords\n",
    "from sklearn.model_selection import StratifiedShuffleSplit\n",
    "from sklearn.model_selection import train_test_split\n",
    "from sklearn.preprocessing import LabelEncoder\n",
    "#import tensorflow as tf\n",
    "from transformers import TFAutoModelForSequenceClassification\n",
    "import numpy as np\n",
    "import pandas as pd\n",
    "from datasets import load_dataset, Dataset, DatasetDict\n",
    "\n",
    "from transformers import AutoTokenizer\n",
    "import matplotlib.pyplot as plt\n",
    "from dvclive import Live\n",
    "from dvclive.huggingface import DVCLiveCallback"
   ]
  },
  {
   "cell_type": "markdown",
   "id": "6b7a5757-4277-4049-a76e-200826e5b7e7",
   "metadata": {
    "papermill": {
     "duration": 0.009325,
     "end_time": "2023-03-28T01:27:37.655309",
     "exception": false,
     "start_time": "2023-03-28T01:27:37.645984",
     "status": "completed"
    },
    "tags": []
   },
   "source": [
    "# Model Training and Evaluation"
   ]
  },
  {
   "cell_type": "markdown",
   "id": "4b899075-1e7d-4cf2-aee1-b664cf02e65d",
   "metadata": {
    "papermill": {
     "duration": 0.004362,
     "end_time": "2023-03-28T01:27:37.666457",
     "exception": false,
     "start_time": "2023-03-28T01:27:37.662095",
     "status": "completed"
    },
    "tags": []
   },
   "source": [
    "### Define Parameters"
   ]
  },
  {
   "cell_type": "code",
   "execution_count": 3,
   "id": "c4a56bdb-b91c-4fa3-a578-32c471b91804",
   "metadata": {
    "execution": {
     "iopub.execute_input": "2023-03-28T01:27:37.678699Z",
     "iopub.status.busy": "2023-03-28T01:27:37.677289Z",
     "iopub.status.idle": "2023-03-28T01:27:37.690589Z",
     "shell.execute_reply": "2023-03-28T01:27:37.689474Z"
    },
    "papermill": {
     "duration": 0.021767,
     "end_time": "2023-03-28T01:27:37.692586",
     "exception": false,
     "start_time": "2023-03-28T01:27:37.670819",
     "status": "completed"
    },
    "tags": []
   },
   "outputs": [],
   "source": [
    "TOKENIZER: str = \"bert-base-cased\"\n",
    "LEARNING_RATE: float = 5e-5\n",
    "BATCH_SIZE: int = 8\n",
    "EPOCHS: int = 2"
   ]
  },
  {
   "cell_type": "code",
   "execution_count": 4,
   "id": "8ba979f9",
   "metadata": {
    "execution": {
     "iopub.execute_input": "2023-03-28T01:27:37.704483Z",
     "iopub.status.busy": "2023-03-28T01:27:37.704176Z",
     "iopub.status.idle": "2023-03-28T01:27:38.045891Z",
     "shell.execute_reply": "2023-03-28T01:27:38.045026Z"
    },
    "papermill": {
     "duration": 0.351825,
     "end_time": "2023-03-28T01:27:38.049691",
     "exception": false,
     "start_time": "2023-03-28T01:27:37.697866",
     "status": "completed"
    },
    "tags": []
   },
   "outputs": [],
   "source": [
    "live = Live(dir=\"../training\", dvcyaml=False, report=None)\n"
   ]
  },
  {
   "cell_type": "code",
   "execution_count": 5,
   "id": "97420f47-830a-4d1e-8731-c2bb8a907dda",
   "metadata": {
    "execution": {
     "iopub.execute_input": "2023-03-28T01:27:38.067712Z",
     "iopub.status.busy": "2023-03-28T01:27:38.067004Z",
     "iopub.status.idle": "2023-03-28T01:27:38.102826Z",
     "shell.execute_reply": "2023-03-28T01:27:38.101922Z"
    },
    "papermill": {
     "duration": 0.04639,
     "end_time": "2023-03-28T01:27:38.105492",
     "exception": false,
     "start_time": "2023-03-28T01:27:38.059102",
     "status": "completed"
    },
    "tags": []
   },
   "outputs": [],
   "source": [
    "Corpus = pd.read_csv('Text_label_data_c119.csv')\n",
    "\n",
    "# Step - a : Remove blank rows if any.\n",
    "Corpus = Corpus.fillna('Null')\n",
    "Corpus = Corpus[Corpus['text'] != 'Null']\n",
    "\n",
    "# Step - a.1 : Remove any non text fields\n",
    "Corpus['integer_field'] = Corpus.apply(lambda x: str(x['text']).isnumeric(), axis=1)\n",
    "Corpus = Corpus[Corpus['integer_field'] == False]\n",
    "Corpus = Corpus[['label','text']]\n",
    "\n",
    "X = Corpus['text']\n",
    "y = Corpus['label']"
   ]
  },
  {
   "cell_type": "code",
   "execution_count": 6,
   "id": "ee068200-fc22-472d-a812-a29a07d5a8b6",
   "metadata": {
    "execution": {
     "iopub.execute_input": "2023-03-28T01:27:38.127791Z",
     "iopub.status.busy": "2023-03-28T01:27:38.127125Z",
     "iopub.status.idle": "2023-03-28T01:27:38.133237Z",
     "shell.execute_reply": "2023-03-28T01:27:38.132202Z"
    },
    "papermill": {
     "duration": 0.018795,
     "end_time": "2023-03-28T01:27:38.134848",
     "exception": false,
     "start_time": "2023-03-28T01:27:38.116053",
     "status": "completed"
    },
    "tags": []
   },
   "outputs": [],
   "source": [
    "# creates 10 fold cross validation datasets\n",
    "ss = StratifiedShuffleSplit(n_splits=10, test_size=0.20, random_state=0)\n",
    "ss.get_n_splits(X, y)\n",
    "\n",
    "# Train: 60%\n",
    "# Validation: 20%\n",
    "# Test: 20%\n",
    "temp_index = 0"
   ]
  },
  {
   "cell_type": "code",
   "execution_count": 7,
   "id": "79bc3806-f33e-45d8-8318-ec5472a3d9d8",
   "metadata": {
    "execution": {
     "iopub.execute_input": "2023-03-28T01:27:38.146087Z",
     "iopub.status.busy": "2023-03-28T01:27:38.145773Z",
     "iopub.status.idle": "2023-03-28T01:27:38.185807Z",
     "shell.execute_reply": "2023-03-28T01:27:38.185026Z"
    },
    "papermill": {
     "duration": 0.049152,
     "end_time": "2023-03-28T01:27:38.189055",
     "exception": false,
     "start_time": "2023-03-28T01:27:38.139903",
     "status": "completed"
    },
    "tags": []
   },
   "outputs": [],
   "source": [
    "for train_index, test_index in ss.split(X,y):\n",
    "    X_train , X_test = X.iloc[train_index],X.iloc[test_index]\n",
    "    y_train , y_test = y.iloc[train_index] , y.iloc[test_index]\n",
    "    X_train, X_val, y_train, y_val = train_test_split(X_train, y_train, test_size=.20, random_state=0)\n",
    "    Encoder = LabelEncoder()\n",
    "    y_train = Encoder.fit_transform(y_train)\n",
    "    y_test = Encoder.fit_transform(y_test)\n",
    "    y_val_encode = Encoder.fit_transform(y_val)\n",
    "    final_train = pd.DataFrame({'text':X_train,'label':y_train})\n",
    "    final_test = pd.DataFrame({'text':X_test,'label':y_test})\n",
    "    final_val = pd.DataFrame({'text':X_val,'label':y_val_encode})"
   ]
  },
  {
   "cell_type": "markdown",
   "id": "4c4f47f7-6523-4dbe-b705-dd031f37d7db",
   "metadata": {
    "papermill": {
     "duration": 0.005281,
     "end_time": "2023-03-28T01:27:38.204953",
     "exception": false,
     "start_time": "2023-03-28T01:27:38.199672",
     "status": "completed"
    },
    "tags": []
   },
   "source": [
    "tokenize data"
   ]
  },
  {
   "cell_type": "code",
   "execution_count": 8,
   "id": "0015fa67-7293-4abd-b26e-56ecbdc58777",
   "metadata": {
    "execution": {
     "iopub.execute_input": "2023-03-28T01:27:38.235582Z",
     "iopub.status.busy": "2023-03-28T01:27:38.234224Z",
     "iopub.status.idle": "2023-03-28T01:27:39.717998Z",
     "shell.execute_reply": "2023-03-28T01:27:39.716858Z"
    },
    "papermill": {
     "duration": 1.494363,
     "end_time": "2023-03-28T01:27:39.721055",
     "exception": false,
     "start_time": "2023-03-28T01:27:38.226692",
     "status": "completed"
    },
    "tags": []
   },
   "outputs": [
    {
     "name": "stderr",
     "output_type": "stream",
     "text": [
      "\r",
      "Map:   0%|                                                                                                                                                                         | 0/1757 [00:00<?, ? examples/s]"
     ]
    },
    {
     "name": "stderr",
     "output_type": "stream",
     "text": [
      "\r",
      "Map:  57%|████████████████████████████████████████████████████████████████████████████████████████▊                                                                   | 1000/1757 [00:00<00:00, 1668.46 examples/s]"
     ]
    },
    {
     "name": "stderr",
     "output_type": "stream",
     "text": [
      "\r",
      "Map: 100%|████████████████████████████████████████████████████████████████████████████████████████████████████████████████████████████████████████████████████████████| 1757/1757 [00:00<00:00, 2051.70 examples/s]"
     ]
    },
    {
     "name": "stderr",
     "output_type": "stream",
     "text": [
      "\r",
      "                                                                                                                                                                                                                   "
     ]
    },
    {
     "name": "stderr",
     "output_type": "stream",
     "text": [
      "\r"
     ]
    },
    {
     "name": "stderr",
     "output_type": "stream",
     "text": [
      "\r",
      "Map:   0%|                                                                                                                                                                          | 0/550 [00:00<?, ? examples/s]"
     ]
    },
    {
     "name": "stderr",
     "output_type": "stream",
     "text": [
      "\r",
      "Map: 100%|██████████████████████████████████████████████████████████████████████████████████████████████████████████████████████████████████████████████████████████████| 550/550 [00:00<00:00, 3256.16 examples/s]"
     ]
    },
    {
     "name": "stderr",
     "output_type": "stream",
     "text": [
      "\r",
      "                                                                                                                                                                                                                   "
     ]
    },
    {
     "name": "stderr",
     "output_type": "stream",
     "text": [
      "\r"
     ]
    },
    {
     "name": "stderr",
     "output_type": "stream",
     "text": [
      "\r",
      "Map:   0%|                                                                                                                                                                          | 0/440 [00:00<?, ? examples/s]"
     ]
    },
    {
     "name": "stderr",
     "output_type": "stream",
     "text": [
      "\r",
      "Map: 100%|██████████████████████████████████████████████████████████████████████████████████████████████████████████████████████████████████████████████████████████████| 440/440 [00:00<00:00, 3339.58 examples/s]"
     ]
    },
    {
     "name": "stderr",
     "output_type": "stream",
     "text": [
      "\r",
      "                                                                                                                                                                                                                   "
     ]
    },
    {
     "name": "stderr",
     "output_type": "stream",
     "text": [
      "\r"
     ]
    }
   ],
   "source": [
    "train_ds = Dataset.from_pandas(final_train)\n",
    "test_ds = Dataset.from_pandas(final_test)\n",
    "val_ds = Dataset.from_pandas(final_val)\n",
    "\n",
    "raw_datasets = DatasetDict()\n",
    "raw_datasets['train'] = train_ds\n",
    "raw_datasets['test'] = test_ds\n",
    "raw_datasets['val'] = val_ds\n",
    "\n",
    "tokenizer = AutoTokenizer.from_pretrained(TOKENIZER)\n",
    "\n",
    "def tokenize_function(examples):\n",
    "      return tokenizer(examples[\"text\"], padding=\"max_length\", truncation=True)\n",
    "    \n",
    "tokenized_datasets = raw_datasets.map(tokenize_function, batched=True)\n",
    "\n",
    "full_train_dataset = tokenized_datasets[\"train\"]\n",
    "full_eval_dataset = tokenized_datasets[\"test\"]\n",
    "full_val_dataset = tokenized_datasets[\"val\"]"
   ]
  },
  {
   "cell_type": "markdown",
   "id": "47eca388-cd87-4e76-baf2-29e0e7e9dcbc",
   "metadata": {
    "papermill": {
     "duration": 0.00531,
     "end_time": "2023-03-28T01:27:39.737490",
     "exception": false,
     "start_time": "2023-03-28T01:27:39.732180",
     "status": "completed"
    },
    "tags": []
   },
   "source": [
    "## Train Model"
   ]
  },
  {
   "cell_type": "code",
   "execution_count": 9,
   "id": "c7a7dc58-2920-4b99-95d4-fda771a40602",
   "metadata": {
    "execution": {
     "iopub.execute_input": "2023-03-28T01:27:39.751315Z",
     "iopub.status.busy": "2023-03-28T01:27:39.749643Z",
     "iopub.status.idle": "2023-03-28T01:27:40.109828Z",
     "shell.execute_reply": "2023-03-28T01:27:40.108803Z"
    },
    "papermill": {
     "duration": 0.37085,
     "end_time": "2023-03-28T01:27:40.113680",
     "exception": false,
     "start_time": "2023-03-28T01:27:39.742830",
     "status": "completed"
    },
    "tags": []
   },
   "outputs": [],
   "source": [
    "import numpy as np\n",
    "import evaluate\n",
    "\n",
    "accuracy = evaluate.load(\"accuracy\")\n",
    "\n",
    "def compute_metrics(eval_pred):\n",
    "    predictions, labels = eval_pred\n",
    "    predictions = np.argmax(predictions, axis=1)\n",
    "    return accuracy.compute(predictions=predictions, references=labels)"
   ]
  },
  {
   "cell_type": "code",
   "execution_count": 10,
   "id": "fd2ace5e",
   "metadata": {
    "execution": {
     "iopub.execute_input": "2023-03-28T01:27:40.133795Z",
     "iopub.status.busy": "2023-03-28T01:27:40.133370Z",
     "iopub.status.idle": "2023-03-28T01:27:40.139615Z",
     "shell.execute_reply": "2023-03-28T01:27:40.138394Z"
    },
    "papermill": {
     "duration": 0.016374,
     "end_time": "2023-03-28T01:27:40.141352",
     "exception": false,
     "start_time": "2023-03-28T01:27:40.124978",
     "status": "completed"
    },
    "tags": []
   },
   "outputs": [],
   "source": [
    "from transformers import DataCollatorWithPadding\n",
    "\n",
    "data_collator = DataCollatorWithPadding(tokenizer=tokenizer)"
   ]
  },
  {
   "cell_type": "code",
   "execution_count": 11,
   "id": "a805ae92-768a-436f-8c4f-6c082be2f328",
   "metadata": {
    "execution": {
     "iopub.execute_input": "2023-03-28T01:27:40.153794Z",
     "iopub.status.busy": "2023-03-28T01:27:40.153445Z",
     "iopub.status.idle": "2023-03-28T01:27:40.159096Z",
     "shell.execute_reply": "2023-03-28T01:27:40.157999Z"
    },
    "papermill": {
     "duration": 0.0138,
     "end_time": "2023-03-28T01:27:40.160627",
     "exception": false,
     "start_time": "2023-03-28T01:27:40.146827",
     "status": "completed"
    },
    "tags": []
   },
   "outputs": [],
   "source": [
    "from transformers import AutoModelForSequenceClassification\n",
    "from transformers import TrainingArguments, Trainer"
   ]
  },
  {
   "cell_type": "code",
   "execution_count": 12,
   "id": "1f36400e-a87a-448e-8e1e-e3dd8b7919d3",
   "metadata": {
    "execution": {
     "iopub.execute_input": "2023-03-28T01:27:40.172801Z",
     "iopub.status.busy": "2023-03-28T01:27:40.172516Z",
     "iopub.status.idle": "2023-03-28T01:27:41.908435Z",
     "shell.execute_reply": "2023-03-28T01:27:41.907641Z"
    },
    "papermill": {
     "duration": 1.745763,
     "end_time": "2023-03-28T01:27:41.911763",
     "exception": false,
     "start_time": "2023-03-28T01:27:40.166000",
     "status": "completed"
    },
    "tags": []
   },
   "outputs": [
    {
     "name": "stderr",
     "output_type": "stream",
     "text": [
      "Some weights of the model checkpoint at bert-base-cased were not used when initializing BertForSequenceClassification: ['cls.seq_relationship.weight', 'cls.predictions.transform.LayerNorm.bias', 'cls.predictions.decoder.weight', 'cls.predictions.transform.LayerNorm.weight', 'cls.predictions.transform.dense.bias', 'cls.predictions.transform.dense.weight', 'cls.predictions.bias', 'cls.seq_relationship.bias']\n",
      "- This IS expected if you are initializing BertForSequenceClassification from the checkpoint of a model trained on another task or with another architecture (e.g. initializing a BertForSequenceClassification model from a BertForPreTraining model).\n",
      "- This IS NOT expected if you are initializing BertForSequenceClassification from the checkpoint of a model that you expect to be exactly identical (initializing a BertForSequenceClassification model from a BertForSequenceClassification model).\n"
     ]
    },
    {
     "name": "stderr",
     "output_type": "stream",
     "text": [
      "Some weights of BertForSequenceClassification were not initialized from the model checkpoint at bert-base-cased and are newly initialized: ['classifier.weight', 'classifier.bias']\n",
      "You should probably TRAIN this model on a down-stream task to be able to use it for predictions and inference.\n"
     ]
    }
   ],
   "source": [
    "model = AutoModelForSequenceClassification.from_pretrained(TOKENIZER, num_labels=7)"
   ]
  },
  {
   "cell_type": "code",
   "execution_count": 13,
   "id": "d8e9cdba-af30-45c4-9de2-32839c47a728",
   "metadata": {
    "execution": {
     "iopub.execute_input": "2023-03-28T01:27:41.932370Z",
     "iopub.status.busy": "2023-03-28T01:27:41.931779Z",
     "iopub.status.idle": "2023-03-28T01:29:19.402016Z",
     "shell.execute_reply": "2023-03-28T01:29:19.401224Z"
    },
    "papermill": {
     "duration": 97.482437,
     "end_time": "2023-03-28T01:29:19.405592",
     "exception": false,
     "start_time": "2023-03-28T01:27:41.923155",
     "status": "completed"
    },
    "tags": []
   },
   "outputs": [
    {
     "name": "stderr",
     "output_type": "stream",
     "text": [
      "/afs/crc.nd.edu/user/p/painswor/anaconda3/envs/framework-example/lib/python3.9/site-packages/transformers/optimization.py:391: FutureWarning: This implementation of AdamW is deprecated and will be removed in a future version. Use the PyTorch implementation torch.optim.AdamW instead, or set `no_deprecation_warning=True` to disable this warning\n",
      "  warnings.warn(\n"
     ]
    },
    {
     "name": "stderr",
     "output_type": "stream",
     "text": [
      "You're using a BertTokenizerFast tokenizer. Please note that with a fast tokenizer, using the `__call__` method is faster than using a method to encode the text followed by a call to the `pad` method to get a padded encoding.\n"
     ]
    },
    {
     "name": "stderr",
     "output_type": "stream",
     "text": [
      "/afs/crc.nd.edu/user/p/painswor/anaconda3/envs/framework-example/lib/python3.9/site-packages/torch/nn/parallel/_functions.py:68: UserWarning: Was asked to gather along dimension 0, but all input tensors were scalars; will instead unsqueeze and return a vector.\n",
      "  warnings.warn('Was asked to gather along dimension 0, but all '\n"
     ]
    },
    {
     "data": {
      "text/html": [
       "\n",
       "    <div>\n",
       "      \n",
       "      <progress value='110' max='110' style='width:300px; height:20px; vertical-align: middle;'></progress>\n",
       "      [110/110 01:21, Epoch 2/2]\n",
       "    </div>\n",
       "    <table border=\"1\" class=\"dataframe\">\n",
       "  <thead>\n",
       " <tr style=\"text-align: left;\">\n",
       "      <th>Epoch</th>\n",
       "      <th>Training Loss</th>\n",
       "      <th>Validation Loss</th>\n",
       "      <th>Accuracy</th>\n",
       "    </tr>\n",
       "  </thead>\n",
       "  <tbody>\n",
       "    <tr>\n",
       "      <td>1</td>\n",
       "      <td>No log</td>\n",
       "      <td>0.976519</td>\n",
       "      <td>0.707273</td>\n",
       "    </tr>\n",
       "    <tr>\n",
       "      <td>2</td>\n",
       "      <td>No log</td>\n",
       "      <td>0.924040</td>\n",
       "      <td>0.707273</td>\n",
       "    </tr>\n",
       "  </tbody>\n",
       "</table><p>"
      ],
      "text/plain": [
       "<IPython.core.display.HTML object>"
      ]
     },
     "metadata": {},
     "output_type": "display_data"
    },
    {
     "name": "stderr",
     "output_type": "stream",
     "text": [
      "/afs/crc.nd.edu/user/p/painswor/anaconda3/envs/framework-example/lib/python3.9/site-packages/torch/nn/parallel/_functions.py:68: UserWarning: Was asked to gather along dimension 0, but all input tensors were scalars; will instead unsqueeze and return a vector.\n",
      "  warnings.warn('Was asked to gather along dimension 0, but all '\n"
     ]
    },
    {
     "name": "stderr",
     "output_type": "stream",
     "text": [
      "WARNING:dvclive:Failed to dvc add ../output/: Output(s) outside of DVC project: ../output. See <\u001b[36mhttps://dvc.org/doc/user-guide/managing-external-data\u001b[39m> for more info.\n"
     ]
    },
    {
     "name": "stderr",
     "output_type": "stream",
     "text": [
      "INFO:dvclive:To run with DVC, add this to /afs/crc.nd.edu/group/TAI/Users/painswor/nbdev-framework-example/dvc.yaml:\n",
      "stages:\n",
      "  dvclive:\n",
      "    cmd: <python my_code_file.py my_args>\n",
      "    deps:\n",
      "    - <my_code_file.py>\n",
      "\n"
     ]
    }
   ],
   "source": [
    "training_args = TrainingArguments(\n",
    "    output_dir=\"../output/\",\n",
    "    learning_rate=LEARNING_RATE,\n",
    "    per_device_train_batch_size=BATCH_SIZE,\n",
    "    per_device_eval_batch_size=BATCH_SIZE,\n",
    "    num_train_epochs=EPOCHS,\n",
    "    weight_decay=0.01,\n",
    "    evaluation_strategy=\"epoch\",\n",
    "    save_strategy=\"epoch\",\n",
    "    load_best_model_at_end=True,\n",
    ")\n",
    "\n",
    "trainer = Trainer(\n",
    "    model=model,\n",
    "    args=training_args,\n",
    "    train_dataset=full_train_dataset,\n",
    "    eval_dataset=full_eval_dataset,\n",
    "    tokenizer=tokenizer,\n",
    "    data_collator=data_collator,\n",
    "    compute_metrics=compute_metrics,\n",
    ")\n",
    "\n",
    "trainer.add_callback(DVCLiveCallback(live=live))\n",
    "history = trainer.train()\n",
    "    "
   ]
  },
  {
   "cell_type": "code",
   "execution_count": 14,
   "id": "0316b9e5-6036-48c8-824c-c362f3bd7f2d",
   "metadata": {
    "execution": {
     "iopub.execute_input": "2023-03-28T01:29:19.434192Z",
     "iopub.status.busy": "2023-03-28T01:29:19.433875Z",
     "iopub.status.idle": "2023-03-28T01:29:22.854601Z",
     "shell.execute_reply": "2023-03-28T01:29:22.853801Z"
    },
    "papermill": {
     "duration": 3.432593,
     "end_time": "2023-03-28T01:29:22.858543",
     "exception": false,
     "start_time": "2023-03-28T01:29:19.425950",
     "status": "completed"
    },
    "tags": []
   },
   "outputs": [
    {
     "name": "stderr",
     "output_type": "stream",
     "text": [
      "/afs/crc.nd.edu/user/p/painswor/anaconda3/envs/framework-example/lib/python3.9/site-packages/torch/nn/parallel/_functions.py:68: UserWarning: Was asked to gather along dimension 0, but all input tensors were scalars; will instead unsqueeze and return a vector.\n",
      "  warnings.warn('Was asked to gather along dimension 0, but all '\n"
     ]
    },
    {
     "data": {
      "text/html": [],
      "text/plain": [
       "<IPython.core.display.HTML object>"
      ]
     },
     "metadata": {},
     "output_type": "display_data"
    },
    {
     "data": {
      "text/plain": [
       "{'eval_loss': 0.9240401983261108,\n",
       " 'eval_accuracy': 0.7072727272727273,\n",
       " 'eval_runtime': 3.407,\n",
       " 'eval_samples_per_second': 161.435,\n",
       " 'eval_steps_per_second': 5.283,\n",
       " 'epoch': 2.0}"
      ]
     },
     "execution_count": 14,
     "metadata": {},
     "output_type": "execute_result"
    }
   ],
   "source": [
    "trainer.evaluate()"
   ]
  },
  {
   "cell_type": "markdown",
   "id": "15c1dd0d-f3c4-474b-b47b-832b8d96fa73",
   "metadata": {
    "papermill": {
     "duration": 0.007313,
     "end_time": "2023-03-28T01:29:22.877856",
     "exception": false,
     "start_time": "2023-03-28T01:29:22.870543",
     "status": "completed"
    },
    "tags": []
   },
   "source": [
    "## Evaluate Results"
   ]
  },
  {
   "cell_type": "code",
   "execution_count": 15,
   "id": "60194b00-1868-4f66-974a-bf7cef105f06",
   "metadata": {
    "execution": {
     "iopub.execute_input": "2023-03-28T01:29:22.891151Z",
     "iopub.status.busy": "2023-03-28T01:29:22.890807Z",
     "iopub.status.idle": "2023-03-28T01:29:25.643511Z",
     "shell.execute_reply": "2023-03-28T01:29:25.642657Z"
    },
    "papermill": {
     "duration": 2.763403,
     "end_time": "2023-03-28T01:29:25.647100",
     "exception": false,
     "start_time": "2023-03-28T01:29:22.883697",
     "status": "completed"
    },
    "tags": []
   },
   "outputs": [
    {
     "name": "stderr",
     "output_type": "stream",
     "text": [
      "/afs/crc.nd.edu/user/p/painswor/anaconda3/envs/framework-example/lib/python3.9/site-packages/torch/nn/parallel/_functions.py:68: UserWarning: Was asked to gather along dimension 0, but all input tensors were scalars; will instead unsqueeze and return a vector.\n",
      "  warnings.warn('Was asked to gather along dimension 0, but all '\n"
     ]
    },
    {
     "data": {
      "text/plain": [
       "{'accuracy': 0.675}"
      ]
     },
     "execution_count": 15,
     "metadata": {},
     "output_type": "execute_result"
    }
   ],
   "source": [
    "predictions = trainer.predict(full_val_dataset)\n",
    "preds = np.argmax(predictions.predictions, axis=-1)\n",
    "metric = evaluate.load(\"accuracy\")\n",
    "metric.compute(predictions=preds, references=full_val_dataset['label'])"
   ]
  },
  {
   "cell_type": "code",
   "execution_count": 16,
   "id": "f54ba034-59f4-4611-8bb2-c78d0f4a5b5e",
   "metadata": {
    "execution": {
     "iopub.execute_input": "2023-03-28T01:29:25.731671Z",
     "iopub.status.busy": "2023-03-28T01:29:25.730944Z",
     "iopub.status.idle": "2023-03-28T01:29:25.746654Z",
     "shell.execute_reply": "2023-03-28T01:29:25.745853Z"
    },
    "papermill": {
     "duration": 0.088285,
     "end_time": "2023-03-28T01:29:25.748552",
     "exception": false,
     "start_time": "2023-03-28T01:29:25.660267",
     "status": "completed"
    },
    "tags": []
   },
   "outputs": [
    {
     "name": "stdout",
     "output_type": "stream",
     "text": [
      "Correct based on my actual predictions: "
     ]
    },
    {
     "name": "stdout",
     "output_type": "stream",
     "text": [
      " "
     ]
    },
    {
     "name": "stdout",
     "output_type": "stream",
     "text": [
      "0.675"
     ]
    },
    {
     "name": "stdout",
     "output_type": "stream",
     "text": [
      "\n"
     ]
    }
   ],
   "source": [
    "heat_map = np.zeros((7,7), dtype=float)\n",
    "correct = 0\n",
    "for index, label in enumerate(final_val[\"label\"]):\n",
    "\n",
    "    if label == preds[index]:\n",
    "        correct = correct + 1 \n",
    "    heat_map[6 - preds[index]][label] = heat_map[ 6 - preds[index]][label] + 1\n",
    "    \n",
    "print(\"Correct based on my actual predictions: \", correct/len(preds))"
   ]
  },
  {
   "cell_type": "code",
   "execution_count": 17,
   "id": "75e74c0b",
   "metadata": {
    "execution": {
     "iopub.execute_input": "2023-03-28T01:29:25.763235Z",
     "iopub.status.busy": "2023-03-28T01:29:25.762805Z",
     "iopub.status.idle": "2023-03-28T01:29:25.770205Z",
     "shell.execute_reply": "2023-03-28T01:29:25.769197Z"
    },
    "papermill": {
     "duration": 0.016761,
     "end_time": "2023-03-28T01:29:25.771966",
     "exception": false,
     "start_time": "2023-03-28T01:29:25.755205",
     "status": "completed"
    },
    "tags": []
   },
   "outputs": [],
   "source": [
    "live.log_metric(\"eval\", correct/len(preds))"
   ]
  },
  {
   "cell_type": "markdown",
   "id": "3877eb86-7f63-4790-b83e-da970ec33521",
   "metadata": {
    "papermill": {
     "duration": 0.006333,
     "end_time": "2023-03-28T01:29:25.784992",
     "exception": false,
     "start_time": "2023-03-28T01:29:25.778659",
     "status": "completed"
    },
    "tags": []
   },
   "source": [
    "## Plot Results"
   ]
  },
  {
   "cell_type": "code",
   "execution_count": 18,
   "id": "81f3c935-5e05-4bb0-b8ed-42e66fd11fbc",
   "metadata": {
    "execution": {
     "iopub.execute_input": "2023-03-28T01:29:25.799146Z",
     "iopub.status.busy": "2023-03-28T01:29:25.798794Z",
     "iopub.status.idle": "2023-03-28T01:29:26.184063Z",
     "shell.execute_reply": "2023-03-28T01:29:26.183239Z"
    },
    "papermill": {
     "duration": 0.397298,
     "end_time": "2023-03-28T01:29:26.188504",
     "exception": false,
     "start_time": "2023-03-28T01:29:25.791206",
     "status": "completed"
    },
    "tags": []
   },
   "outputs": [
    {
     "name": "stderr",
     "output_type": "stream",
     "text": [
      "/tmp/ipykernel_513686/2874890264.py:6: RuntimeWarning: invalid value encountered in scalar divide\n",
      "  heat_map[index][index_2] = val / total\n"
     ]
    },
    {
     "data": {
      "text/plain": [
       "<Axes: >"
      ]
     },
     "execution_count": 18,
     "metadata": {},
     "output_type": "execute_result"
    },
    {
     "data": {
      "image/png": "[encoded data removed]",
      "text/plain": [
       "<Figure size 1100x900 with 2 Axes>"
      ]
     },
     "metadata": {},
     "output_type": "display_data"
    }
   ],
   "source": [
    "for index, category in enumerate(heat_map):\n",
    "    total = 0\n",
    "    for val in category:\n",
    "        total = total + val\n",
    "    for index_2, val in enumerate(category):\n",
    "        heat_map[index][index_2] = val / total\n",
    "\n",
    "fig, ax = plt.subplots(figsize=(11,9))\n",
    "fig.set_tight_layout(True)\n",
    "# color map\n",
    "labels = ['II','ME','AU','AF','DE','EQ','AI']\n",
    "y_labels = ['AI','EQ','DE','AF','AU','ME','II']\n",
    "\n",
    "sns.heatmap(heat_map,cmap=\"Blues\",xticklabels=labels, yticklabels=y_labels, annot=True)\n"
   ]
  },
  {
   "cell_type": "code",
   "execution_count": 19,
   "id": "d0babf83",
   "metadata": {
    "execution": {
     "iopub.execute_input": "2023-03-28T01:29:26.213253Z",
     "iopub.status.busy": "2023-03-28T01:29:26.212877Z",
     "iopub.status.idle": "2023-03-28T01:29:26.242642Z",
     "shell.execute_reply": "2023-03-28T01:29:26.241220Z"
    },
    "papermill": {
     "duration": 0.042973,
     "end_time": "2023-03-28T01:29:26.245628",
     "exception": false,
     "start_time": "2023-03-28T01:29:26.202655",
     "status": "completed"
    },
    "tags": []
   },
   "outputs": [],
   "source": [
    "actual = final_val[\"label\"].tolist()\n",
    "predicted = preds\n",
    "live.log_sklearn_plot(\"confusion_matrix\", actual, predicted)"
   ]
  }
 ],
 "metadata": {
  "kernelspec": {
   "display_name": "Python 3",
   "language": "python",
   "name": "python3"
  },
  "language_info": {
   "codemirror_mode": {
    "name": "ipython",
    "version": 3
   },
   "file_extension": ".py",
   "mimetype": "text/x-python",
   "name": "python",
   "nbconvert_exporter": "python",
   "pygments_lexer": "ipython3",
   "version": "3.9.16"
  },
  "papermill": {
   "default_parameters": {},
   "duration": 116.584855,
   "end_time": "2023-03-28T01:29:29.493995",
   "environment_variables": {},
   "exception": null,
   "input_path": "nbs/exp.ipynb",
   "output_path": "scripts/exp.ipynb",
   "parameters": {
    "BATCH_SIZE": 8,
    "EPOCHS": 2,
    "LEARNING_RATE": 5e-05,
    "TOKENIZER": "bert-base-cased"
   },
   "start_time": "2023-03-28T01:27:32.909140",
   "version": "2.4.0"
  }
 },
 "nbformat": 4,
 "nbformat_minor": 5
}