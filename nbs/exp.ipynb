{
 "cells": [
  {
   "cell_type": "code",
   "execution_count": 2,
   "id": "33a805df-781a-4297-b1f7-3380207ae3a2",
   "metadata": {},
   "outputs": [],
   "source": [
    "#| hide\n",
    "import pandas as pd\n",
    "import torch\n",
    "\n",
    "import torch.nn as nn\n",
    "from transformers import BertTokenizer, BertForSequenceClassification\n",
    "\n",
    "# Training\n",
    "\n",
    "import torch.optim as optim\n",
    "\n",
    "# Evaluation\n",
    "\n",
    "from sklearn.metrics import accuracy_score, classification_report, confusion_matrix\n",
    "import seaborn as sns\n",
    "\n",
    "import pandas as pd\n",
    "import os\n",
    "from nltk.tokenize import word_tokenize\n",
    "from collections import defaultdict\n",
    "from nltk.corpus import wordnet as wn\n",
    "from nltk.stem import WordNetLemmatizer\n",
    "from nltk import pos_tag\n",
    "from nltk.corpus import stopwords\n",
    "from sklearn.model_selection import StratifiedShuffleSplit, train_test_split\n",
    "from sklearn.preprocessing import LabelEncoder\n",
    "#import tensorflow as tf\n",
    "from transformers import TFAutoModelForSequenceClassification\n",
    "import numpy as np\n",
    "import pandas as pd\n",
    "from datasets import load_dataset, Dataset, DatasetDict\n",
    "\n",
    "from transformers import AutoTokenizer\n",
    "import matplotlib.pyplot as plt\n",
    "from dvclive import Live\n",
    "from dvclive.huggingface import DVCLiveCallback"
   ]
  },
  {
   "cell_type": "markdown",
   "id": "6b7a5757-4277-4049-a76e-200826e5b7e7",
   "metadata": {},
   "source": [
    "# Model Training and Evaluation"
   ]
  },
  {
   "cell_type": "markdown",
   "id": "4b899075-1e7d-4cf2-aee1-b664cf02e65d",
   "metadata": {},
   "source": [
    "### Define Parameters"
   ]
  },
  {
   "cell_type": "code",
   "execution_count": 4,
   "id": "c4a56bdb-b91c-4fa3-a578-32c471b91804",
   "metadata": {
    "tags": [
     "parameters"
    ]
   },
   "outputs": [],
   "source": [
    "TOKENIZER: str = \"bert-base-cased\"\n",
    "LEARNING_RATE: float = 5e-5\n",
    "BATCH_SIZE: int = 8\n",
    "EPOCHS: int = 2"
   ]
  },
  {
   "cell_type": "code",
   "execution_count": 5,
   "id": "8ba979f9",
   "metadata": {},
   "outputs": [],
   "source": [
    "live = Live(dir=\"../eval\", dvcyaml=False, report=None)\n"
   ]
  },
  {
   "cell_type": "code",
   "execution_count": 8,
   "id": "97420f47-830a-4d1e-8731-c2bb8a907dda",
   "metadata": {},
   "outputs": [],
   "source": [
    "Corpus = pd.read_csv('Text_label_data_c119.csv')\n",
    "\n",
    "# Step - a : Remove blank rows if any.\n",
    "Corpus = Corpus.fillna('Null')\n",
    "Corpus = Corpus[Corpus['text'] != 'Null']\n",
    "\n",
    "# Step - a.1 : Remove any non text fields\n",
    "Corpus['integer_field'] = Corpus.apply(lambda x: str(x['text']).isnumeric(), axis=1)\n",
    "Corpus = Corpus[Corpus['integer_field'] == False]\n",
    "Corpus = Corpus[['label','text']]\n",
    "\n",
    "X = Corpus['text']\n",
    "y = Corpus['label']"
   ]
  },
  {
   "cell_type": "code",
   "execution_count": 9,
   "id": "ee068200-fc22-472d-a812-a29a07d5a8b6",
   "metadata": {},
   "outputs": [],
   "source": [
    "# creates 10 fold cross validation datasets\n",
    "ss = StratifiedShuffleSplit(n_splits=10, test_size=0.20, random_state=0)\n",
    "ss.get_n_splits(X, y)\n",
    "\n",
    "# Train: 60%\n",
    "# Validation: 20%\n",
    "# Test: 20%\n",
    "temp_index = 0"
   ]
  },
  {
   "cell_type": "code",
   "execution_count": 10,
   "id": "79bc3806-f33e-45d8-8318-ec5472a3d9d8",
   "metadata": {},
   "outputs": [],
   "source": [
    "for train_index, test_index in ss.split(X,y):\n",
    "    X_train , X_test = X.iloc[train_index],X.iloc[test_index]\n",
    "    y_train , y_test = y.iloc[train_index] , y.iloc[test_index]\n",
    "    X_train, X_val, y_train, y_val = train_test_split(X_train, y_train, test_size=.20, random_state=0)\n",
    "    Encoder = LabelEncoder()\n",
    "    y_train = Encoder.fit_transform(y_train)\n",
    "    y_test = Encoder.fit_transform(y_test)\n",
    "    y_val_encode = Encoder.fit_transform(y_val)\n",
    "    final_train = pd.DataFrame({'text':X_train,'label':y_train})\n",
    "    final_test = pd.DataFrame({'text':X_test,'label':y_test})\n",
    "    final_val = pd.DataFrame({'text':X_val,'label':y_val_encode})"
   ]
  },
  {
   "cell_type": "markdown",
   "id": "4c4f47f7-6523-4dbe-b705-dd031f37d7db",
   "metadata": {},
   "source": [
    "tokenize data"
   ]
  },
  {
   "cell_type": "code",
   "execution_count": 11,
   "id": "0015fa67-7293-4abd-b26e-56ecbdc58777",
   "metadata": {},
   "outputs": [
    {
     "name": "stderr",
     "output_type": "stream",
     "text": [
      "                                                                 \r"
     ]
    }
   ],
   "source": [
    "train_ds = Dataset.from_pandas(final_train)\n",
    "test_ds = Dataset.from_pandas(final_test)\n",
    "val_ds = Dataset.from_pandas(final_val)\n",
    "\n",
    "raw_datasets = DatasetDict()\n",
    "raw_datasets['train'] = train_ds\n",
    "raw_datasets['test'] = test_ds\n",
    "raw_datasets['val'] = val_ds\n",
    "\n",
    "tokenizer = AutoTokenizer.from_pretrained(TOKENIZER)\n",
    "\n",
    "def tokenize_function(examples):\n",
    "      return tokenizer(examples[\"text\"], padding=\"max_length\", truncation=True)\n",
    "    \n",
    "tokenized_datasets = raw_datasets.map(tokenize_function, batched=True)\n",
    "\n",
    "full_train_dataset = tokenized_datasets[\"train\"]\n",
    "full_eval_dataset = tokenized_datasets[\"test\"]\n",
    "full_val_dataset = tokenized_datasets[\"val\"]"
   ]
  },
  {
   "cell_type": "markdown",
   "id": "47eca388-cd87-4e76-baf2-29e0e7e9dcbc",
   "metadata": {},
   "source": [
    "## Train Model"
   ]
  },
  {
   "cell_type": "code",
   "execution_count": 12,
   "id": "c7a7dc58-2920-4b99-95d4-fda771a40602",
   "metadata": {},
   "outputs": [],
   "source": [
    "import numpy as np\n",
    "import evaluate\n",
    "\n",
    "accuracy = evaluate.load(\"accuracy\")\n",
    "\n",
    "def compute_metrics(eval_pred):\n",
    "    predictions, labels = eval_pred\n",
    "    predictions = np.argmax(predictions, axis=1)\n",
    "    return accuracy.compute(predictions=predictions, references=labels)"
   ]
  },
  {
   "cell_type": "code",
   "execution_count": 13,
   "id": "fd2ace5e",
   "metadata": {},
   "outputs": [],
   "source": [
    "from transformers import DataCollatorWithPadding\n",
    "\n",
    "data_collator = DataCollatorWithPadding(tokenizer=tokenizer)"
   ]
  },
  {
   "cell_type": "code",
   "execution_count": 14,
   "id": "a805ae92-768a-436f-8c4f-6c082be2f328",
   "metadata": {},
   "outputs": [],
   "source": [
    "from transformers import AutoModelForSequenceClassification\n",
    "from transformers import TrainingArguments, Trainer"
   ]
  },
  {
   "cell_type": "code",
   "execution_count": 15,
   "id": "1f36400e-a87a-448e-8e1e-e3dd8b7919d3",
   "metadata": {},
   "outputs": [
    {
     "name": "stderr",
     "output_type": "stream",
     "text": [
      "Some weights of the model checkpoint at bert-base-cased were not used when initializing BertForSequenceClassification: ['cls.predictions.decoder.weight', 'cls.predictions.transform.LayerNorm.bias', 'cls.predictions.transform.dense.weight', 'cls.predictions.transform.dense.bias', 'cls.predictions.bias', 'cls.seq_relationship.bias', 'cls.seq_relationship.weight', 'cls.predictions.transform.LayerNorm.weight']\n",
      "- This IS expected if you are initializing BertForSequenceClassification from the checkpoint of a model trained on another task or with another architecture (e.g. initializing a BertForSequenceClassification model from a BertForPreTraining model).\n",
      "- This IS NOT expected if you are initializing BertForSequenceClassification from the checkpoint of a model that you expect to be exactly identical (initializing a BertForSequenceClassification model from a BertForSequenceClassification model).\n",
      "Some weights of BertForSequenceClassification were not initialized from the model checkpoint at bert-base-cased and are newly initialized: ['classifier.weight', 'classifier.bias']\n",
      "You should probably TRAIN this model on a down-stream task to be able to use it for predictions and inference.\n"
     ]
    }
   ],
   "source": [
    "model = AutoModelForSequenceClassification.from_pretrained(TOKENIZER, num_labels=7)"
   ]
  },
  {
   "cell_type": "code",
   "execution_count": 16,
   "id": "d8e9cdba-af30-45c4-9de2-32839c47a728",
   "metadata": {},
   "outputs": [
    {
     "name": "stderr",
     "output_type": "stream",
     "text": [
      "/afs/crc.nd.edu/user/p/painswor/anaconda3/envs/framework-example/lib/python3.9/site-packages/transformers/optimization.py:391: FutureWarning: This implementation of AdamW is deprecated and will be removed in a future version. Use the PyTorch implementation torch.optim.AdamW instead, or set `no_deprecation_warning=True` to disable this warning\n",
      "  warnings.warn(\n",
      "You're using a BertTokenizerFast tokenizer. Please note that with a fast tokenizer, using the `__call__` method is faster than using a method to encode the text followed by a call to the `pad` method to get a padded encoding.\n",
      "/afs/crc.nd.edu/user/p/painswor/anaconda3/envs/framework-example/lib/python3.9/site-packages/torch/nn/parallel/_functions.py:68: UserWarning: Was asked to gather along dimension 0, but all input tensors were scalars; will instead unsqueeze and return a vector.\n",
      "  warnings.warn('Was asked to gather along dimension 0, but all '\n"
     ]
    },
    {
     "data": {
      "text/html": [
       "\n",
       "    <div>\n",
       "      \n",
       "      <progress value='3' max='110' style='width:300px; height:20px; vertical-align: middle;'></progress>\n",
       "      [  3/110 00:00 < 00:44, 2.39 it/s, Epoch 0.04/2]\n",
       "    </div>\n",
       "    <table border=\"1\" class=\"dataframe\">\n",
       "  <thead>\n",
       " <tr style=\"text-align: left;\">\n",
       "      <th>Epoch</th>\n",
       "      <th>Training Loss</th>\n",
       "      <th>Validation Loss</th>\n",
       "    </tr>\n",
       "  </thead>\n",
       "  <tbody>\n",
       "  </tbody>\n",
       "</table><p>"
      ],
      "text/plain": [
       "<IPython.core.display.HTML object>"
      ]
     },
     "metadata": {},
     "output_type": "display_data"
    },
    {
     "name": "stderr",
     "output_type": "stream",
     "text": [
      "/afs/crc.nd.edu/user/p/painswor/anaconda3/envs/framework-example/lib/python3.9/site-packages/torch/nn/parallel/_functions.py:68: UserWarning: Was asked to gather along dimension 0, but all input tensors were scalars; will instead unsqueeze and return a vector.\n",
      "  warnings.warn('Was asked to gather along dimension 0, but all '\n"
     ]
    }
   ],
   "source": [
    "training_args = TrainingArguments(\n",
    "    output_dir=\"../output/\",\n",
    "    learning_rate=LEARNING_RATE,\n",
    "    per_device_train_batch_size=BATCH_SIZE,\n",
    "    per_device_eval_batch_size=BATCH_SIZE,\n",
    "    num_train_epochs=EPOCHS,\n",
    "    weight_decay=0.01,\n",
    "    evaluation_strategy=\"epoch\",\n",
    "    save_strategy=\"epoch\",\n",
    "    load_best_model_at_end=True,\n",
    ")\n",
    "\n",
    "trainer = Trainer(\n",
    "    model=model,\n",
    "    args=training_args,\n",
    "    train_dataset=full_train_dataset,\n",
    "    eval_dataset=full_eval_dataset,\n",
    "    tokenizer=tokenizer,\n",
    "    data_collator=data_collator,\n",
    "    compute_metrics=compute_metrics,\n",
    ")\n",
    "\n",
    "#trainer.add_callback(DVCLiveCallback(live=live))\n",
    "history = trainer.train()\n",
    "    "
   ]
  },
  {
   "cell_type": "code",
   "execution_count": 17,
   "id": "0316b9e5-6036-48c8-824c-c362f3bd7f2d",
   "metadata": {},
   "outputs": [
    {
     "name": "stderr",
     "output_type": "stream",
     "text": [
      "/afs/crc.nd.edu/user/p/painswor/anaconda3/envs/framework-example/lib/python3.9/site-packages/torch/nn/parallel/_functions.py:68: UserWarning: Was asked to gather along dimension 0, but all input tensors were scalars; will instead unsqueeze and return a vector.\n",
      "  warnings.warn('Was asked to gather along dimension 0, but all '\n"
     ]
    },
    {
     "data": {
      "text/html": [
       "\n",
       "    <div>\n",
       "      \n",
       "      <progress value='2' max='18' style='width:300px; height:20px; vertical-align: middle;'></progress>\n",
       "      [ 2/18 00:00 < 00:02, 5.96 it/s]\n",
       "    </div>\n",
       "    "
      ],
      "text/plain": [
       "<IPython.core.display.HTML object>"
      ]
     },
     "metadata": {},
     "output_type": "display_data"
    },
    {
     "data": {
      "text/plain": [
       "{'eval_loss': 0.9191137552261353,\n",
       " 'eval_accuracy': 0.7054545454545454,\n",
       " 'eval_runtime': 2.9129,\n",
       " 'eval_samples_per_second': 188.814,\n",
       " 'eval_steps_per_second': 6.179,\n",
       " 'epoch': 2.0}"
      ]
     },
     "execution_count": 17,
     "metadata": {},
     "output_type": "execute_result"
    }
   ],
   "source": [
    "trainer.evaluate()"
   ]
  },
  {
   "cell_type": "markdown",
   "id": "15c1dd0d-f3c4-474b-b47b-832b8d96fa73",
   "metadata": {},
   "source": [
    "## Evaluate Results"
   ]
  },
  {
   "cell_type": "code",
   "execution_count": 18,
   "id": "60194b00-1868-4f66-974a-bf7cef105f06",
   "metadata": {},
   "outputs": [
    {
     "name": "stderr",
     "output_type": "stream",
     "text": [
      "/afs/crc.nd.edu/user/p/painswor/anaconda3/envs/framework-example/lib/python3.9/site-packages/torch/nn/parallel/_functions.py:68: UserWarning: Was asked to gather along dimension 0, but all input tensors were scalars; will instead unsqueeze and return a vector.\n",
      "  warnings.warn('Was asked to gather along dimension 0, but all '\n"
     ]
    },
    {
     "name": "stdout",
     "output_type": "stream",
     "text": [
      "{'accuracy': 0.6772727272727272}\n"
     ]
    }
   ],
   "source": [
    "predictions = trainer.predict(full_val_dataset)\n",
    "preds = np.argmax(predictions.predictions, axis=-1)\n",
    "metric = evaluate.load('accuracy')\n",
    "metrics = metric.compute(predictions=preds, references=full_val_dataset['label'])\n",
    "print(metrics)"
   ]
  },
  {
   "attachments": {},
   "cell_type": "markdown",
   "id": "6375a623",
   "metadata": {},
   "source": [
    "Save Metric"
   ]
  },
  {
   "cell_type": "code",
   "execution_count": 19,
   "id": "4214d748",
   "metadata": {},
   "outputs": [],
   "source": [
    "live.summary = metrics\n",
    "live.make_summary()"
   ]
  },
  {
   "cell_type": "markdown",
   "id": "3877eb86-7f63-4790-b83e-da970ec33521",
   "metadata": {},
   "source": [
    "## Plot Results"
   ]
  },
  {
   "cell_type": "code",
   "execution_count": 20,
   "id": "81f3c935-5e05-4bb0-b8ed-42e66fd11fbc",
   "metadata": {},
   "outputs": [
    {
     "name": "stderr",
     "output_type": "stream",
     "text": [
      "/tmp/ipykernel_294415/1102073630.py:14: RuntimeWarning: invalid value encountered in scalar divide\n",
      "  heat_map[index][index_2] = val / total\n"
     ]
    },
    {
     "data": {
      "text/plain": [
       "<Axes: >"
      ]
     },
     "execution_count": 20,
     "metadata": {},
     "output_type": "execute_result"
    },
    {
     "data": {
      "image/png": "[encoded data removed]",
      "text/plain": [
       "<Figure size 1100x900 with 2 Axes>"
      ]
     },
     "metadata": {},
     "output_type": "display_data"
    }
   ],
   "source": [
    "heat_map = np.zeros((7,7), dtype=float)\n",
    "correct = 0\n",
    "for index, label in enumerate(final_val[\"label\"]):\n",
    "\n",
    "    if label == preds[index]:\n",
    "        correct = correct + 1 \n",
    "    heat_map[6 - preds[index]][label] = heat_map[ 6 - preds[index]][label] + 1\n",
    "\n",
    "for index, category in enumerate(heat_map):\n",
    "    total = 0\n",
    "    for val in category:\n",
    "        total = total + val\n",
    "    for index_2, val in enumerate(category):\n",
    "        heat_map[index][index_2] = val / total\n",
    "\n",
    "fig, ax = plt.subplots(figsize=(11,9))\n",
    "fig.set_tight_layout(True)\n",
    "# color map\n",
    "labels = ['II','ME','AU','AF','DE','EQ','AI']\n",
    "y_labels = ['AI','EQ','DE','AF','AU','ME','II']\n",
    "\n",
    "sns.heatmap(heat_map,cmap=\"Blues\",xticklabels=labels, yticklabels=y_labels, annot=True)\n"
   ]
  },
  {
   "cell_type": "code",
   "execution_count": 22,
   "id": "d0babf83",
   "metadata": {},
   "outputs": [],
   "source": [
    "actual = final_val[\"label\"].tolist()\n",
    "predicted = preds\n",
    "live.log_sklearn_plot(\"confusion_matrix\", actual, predicted)"
   ]
  }
 ],
 "metadata": {
  "kernelspec": {
   "display_name": "Python 3",
   "language": "python",
   "name": "python3"
  },
  "language_info": {
   "codemirror_mode": {
    "name": "ipython",
    "version": 3
   },
   "file_extension": ".py",
   "mimetype": "text/x-python",
   "name": "python",
   "nbconvert_exporter": "python",
   "pygments_lexer": "ipython3",
   "version": "3.9.16"
  }
 },
 "nbformat": 4,
 "nbformat_minor": 5
}
