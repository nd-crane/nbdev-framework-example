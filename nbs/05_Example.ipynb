{
 "cells": [
  {
   "cell_type": "code",
   "execution_count": 2,
   "id": "df5657dc-2eaf-47c0-8cc0-52216e3ce7b1",
   "metadata": {},
   "outputs": [
    {
     "name": "stdout",
     "output_type": "stream",
     "text": [
      "['/afs/crc.nd.edu/user/n/nclark3/Private/git/nbdev-framework-example/nbs', '/afs/crc.nd.edu/user/n/nclark3/Private/git/nbdev-framework-example/envs/lib/python39.zip', '/afs/crc.nd.edu/user/n/nclark3/Private/git/nbdev-framework-example/envs/lib/python3.9', '/afs/crc.nd.edu/user/n/nclark3/Private/git/nbdev-framework-example/envs/lib/python3.9/lib-dynload', '', '/afs/crc.nd.edu/user/n/nclark3/Private/git/nbdev-framework-example/envs/lib/python3.9/site-packages', '/afs/crc.nd.edu/user/n/nclark3/Private/git/nbdev-framework-example/__pypackages__/3.9/lib']\n"
     ]
    }
   ],
   "source": [
    "#| hide\n",
    "import sys, os\n",
    "sys.path.append(os.path.abspath('../__pypackages__/3.9/lib/'))\n",
    "print(sys.path)"
   ]
  },
  {
   "cell_type": "markdown",
   "id": "ae8e7b2d-7564-4763-bd8c-0b0f72779239",
   "metadata": {},
   "source": [
    "# Example"
   ]
  },
  {
   "cell_type": "markdown",
   "id": "7368fa63-b1f0-42ed-bc85-8466a294d278",
   "metadata": {},
   "source": [
    "Here's a single example of our workflow using the NN model"
   ]
  },
  {
   "cell_type": "markdown",
   "id": "c198246d-82e1-4ca0-8f97-9b94043fb7a3",
   "metadata": {},
   "source": [
    "Let's pull a random entry from our datasets"
   ]
  },
  {
   "cell_type": "code",
   "execution_count": 3,
   "id": "32d8e062-1571-4a19-86ec-bce63e6aa089",
   "metadata": {},
   "outputs": [],
   "source": [
    "text = 'TOOK OFF WITH ONE GENERATOR INOPERATIVE, THE OTHER THEN FAILED, CAUSING INSUFFICIENT POWER TO LOCK LANDING GEAR.'\n",
    "label = 'AU'\n",
    "label_encoded = 2"
   ]
  },
  {
   "cell_type": "markdown",
   "id": "24561bbc-2436-4092-b8fa-aaa058a63410",
   "metadata": {},
   "source": [
    "This text description corresponds with lablel `AU` which is encoded as `2`"
   ]
  },
  {
   "cell_type": "markdown",
   "id": "d5f254dc-5d25-4803-b454-c3cc8a18cf42",
   "metadata": {},
   "source": [
    "First we tokenize our imput"
   ]
  },
  {
   "cell_type": "code",
   "execution_count": 4,
   "id": "c75006f9-5dfa-41ed-8d19-9f799dcd63cd",
   "metadata": {},
   "outputs": [
    {
     "name": "stderr",
     "output_type": "stream",
     "text": [
      "/afs/crc.nd.edu/user/n/nclark3/Private/git/nbdev-framework-example/__pypackages__/3.9/lib/tqdm/auto.py:22: TqdmWarning: IProgress not found. Please update jupyter and ipywidgets. See https://ipywidgets.readthedocs.io/en/stable/user_install.html\n",
      "  from .autonotebook import tqdm as notebook_tqdm\n"
     ]
    }
   ],
   "source": [
    "from transformers import AutoTokenizer\n",
    "\n",
    "model_path = '../output/model'\n",
    "tokenizer = AutoTokenizer.from_pretrained(model_path)"
   ]
  },
  {
   "cell_type": "code",
   "execution_count": 5,
   "id": "c31342d6-75a8-4ceb-b1ed-fd4f7934d950",
   "metadata": {},
   "outputs": [],
   "source": [
    "inputs = tokenizer(text, return_tensors='pt')"
   ]
  },
  {
   "cell_type": "markdown",
   "id": "8d029eb4-5688-4838-9bd1-0fbca7552027",
   "metadata": {},
   "source": [
    "Now we pass the inputs to the model"
   ]
  },
  {
   "cell_type": "code",
   "execution_count": 6,
   "id": "6c27c48c-058f-469c-b5f0-23c1f6f2134e",
   "metadata": {},
   "outputs": [],
   "source": [
    "from transformers import AutoModelForSequenceClassification\n",
    "import torch\n",
    "\n",
    "model = AutoModelForSequenceClassification.from_pretrained(model_path)\n",
    "with torch.no_grad():\n",
    "    logits = model(**inputs).logits"
   ]
  },
  {
   "cell_type": "markdown",
   "id": "6b6e0a1b-d2de-4334-9fb6-caa55c4a9499",
   "metadata": {},
   "source": [
    "Lets check our results"
   ]
  },
  {
   "cell_type": "code",
   "execution_count": 7,
   "id": "006bb02b-c4b7-4b79-bee3-ed9247b69c6d",
   "metadata": {},
   "outputs": [
    {
     "data": {
      "text/plain": [
       "5"
      ]
     },
     "execution_count": 7,
     "metadata": {},
     "output_type": "execute_result"
    }
   ],
   "source": [
    "logits.argmax().item()"
   ]
  },
  {
   "cell_type": "markdown",
   "id": "9838b549-d094-4dc2-b7ba-07bfe18bd79a",
   "metadata": {},
   "source": [
    "As we can see our model is incorrect"
   ]
  }
 ],
 "metadata": {
  "kernelspec": {
   "display_name": "FAA",
   "language": "python",
   "name": "faa"
  },
  "language_info": {
   "codemirror_mode": {
    "name": "ipython",
    "version": 3
   },
   "file_extension": ".py",
   "mimetype": "text/x-python",
   "name": "python",
   "nbconvert_exporter": "python",
   "pygments_lexer": "ipython3",
   "version": "3.9.16"
  }
 },
 "nbformat": 4,
 "nbformat_minor": 5
}
