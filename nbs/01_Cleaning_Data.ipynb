{
 "cells": [
  {
   "cell_type": "markdown",
   "id": "301c55ba-9324-4cc3-be71-68eb0f1b0984",
   "metadata": {},
   "source": [
    "# Cleaning Data"
   ]
  },
  {
   "cell_type": "code",
   "execution_count": 13,
   "id": "2ad132bc-3435-4171-a283-1e47b9987425",
   "metadata": {},
   "outputs": [],
   "source": [
    "#| hide\n",
    "import pandas as pd\n",
    "import numpy as np"
   ]
  },
  {
   "cell_type": "markdown",
   "id": "47958d3e-3bb2-418c-b964-b50e10452498",
   "metadata": {},
   "source": [
    "First let's define where our data is located to easliy import it."
   ]
  },
  {
   "cell_type": "code",
   "execution_count": 31,
   "id": "2156994f-1efa-4781-89c8-688b842705cb",
   "metadata": {},
   "outputs": [],
   "source": [
    "working_data = '../data/working-data'"
   ]
  },
  {
   "cell_type": "markdown",
   "id": "4abf7370-8c26-4a4c-9a85-b48e897963e1",
   "metadata": {},
   "source": [
    "We will be using the `Concatenated_Orig_data.csv`, that was created using the `00_Collecting_Data.ipynb`"
   ]
  },
  {
   "cell_type": "code",
   "execution_count": 32,
   "id": "54abc144-ba95-4441-838f-e2e917317675",
   "metadata": {},
   "outputs": [
    {
     "name": "stderr",
     "output_type": "stream",
     "text": [
      "/tmp/ipykernel_868844/1977663381.py:1: DtypeWarning: Columns (3,4,6,7,8,9,10,11,23,30,31,43,44,57,58,59,60,61,62,63,64,65,66,67,68,69,70,71,72,73,74,75,76,77,78,81,82,104,106,111,112,113,134,178,179,182,183,184,185,186,187,190) have mixed types. Specify dtype option on import or set low_memory=False.\n",
      "  df = pd.read_csv(f\"{working_data}/Concatenated_Orig_data.csv\",encoding='latin-1', header=0)\n"
     ]
    }
   ],
   "source": [
    "df = pd.read_csv(f\"{working_data}/Concatenated_Orig_data.csv\",encoding='latin-1', header=0)"
   ]
  },
  {
   "cell_type": "markdown",
   "id": "377bcd3b-9463-4656-b8dc-6894c1c7d522",
   "metadata": {},
   "source": [
    "## Preprocessing"
   ]
  },
  {
   "cell_type": "markdown",
   "id": "444422f2-ae42-4b11-b1c7-5e25c3b4fa78",
   "metadata": {},
   "source": [
    "First, lets examine our data:"
   ]
  },
  {
   "cell_type": "code",
   "execution_count": 33,
   "id": "881df19b-c602-43a6-ad47-1a557ea696cf",
   "metadata": {},
   "outputs": [
    {
     "data": {
      "text/html": [
       "<div>\n",
       "<style scoped>\n",
       "    .dataframe tbody tr th:only-of-type {\n",
       "        vertical-align: middle;\n",
       "    }\n",
       "\n",
       "    .dataframe tbody tr th {\n",
       "        vertical-align: top;\n",
       "    }\n",
       "\n",
       "    .dataframe thead th {\n",
       "        text-align: right;\n",
       "    }\n",
       "</style>\n",
       "<table border=\"1\" class=\"dataframe\">\n",
       "  <thead>\n",
       "    <tr style=\"text-align: right;\">\n",
       "      <th></th>\n",
       "      <th>Unnamed: 0</th>\n",
       "      <th>c5</th>\n",
       "      <th>c1</th>\n",
       "      <th>c2</th>\n",
       "      <th>c3</th>\n",
       "      <th>c4</th>\n",
       "      <th>c6</th>\n",
       "      <th>c7</th>\n",
       "      <th>c8</th>\n",
       "      <th>c9</th>\n",
       "      <th>...</th>\n",
       "      <th>32</th>\n",
       "      <th>Unnamed: 180</th>\n",
       "      <th>Unnamed: 181</th>\n",
       "      <th>Unnamed: 182</th>\n",
       "      <th>Unnamed: 183</th>\n",
       "      <th>Unnamed: 184</th>\n",
       "      <th>Unnamed: 185</th>\n",
       "      <th>Unnamed: 186</th>\n",
       "      <th>Unnamed: 187</th>\n",
       "      <th>Unnamed: 188</th>\n",
       "    </tr>\n",
       "  </thead>\n",
       "  <tbody>\n",
       "    <tr>\n",
       "      <th>0</th>\n",
       "      <td>0</td>\n",
       "      <td>19750101000049A</td>\n",
       "      <td>A</td>\n",
       "      <td></td>\n",
       "      <td>0.4</td>\n",
       "      <td></td>\n",
       "      <td>1975</td>\n",
       "      <td>1</td>\n",
       "      <td>1</td>\n",
       "      <td>19750101</td>\n",
       "      <td>...</td>\n",
       "      <td>NaN</td>\n",
       "      <td>NaN</td>\n",
       "      <td>NaN</td>\n",
       "      <td>NaN</td>\n",
       "      <td>NaN</td>\n",
       "      <td>NaN</td>\n",
       "      <td>NaN</td>\n",
       "      <td>NaN</td>\n",
       "      <td>NaN</td>\n",
       "      <td>NaN</td>\n",
       "    </tr>\n",
       "    <tr>\n",
       "      <th>1</th>\n",
       "      <td>1</td>\n",
       "      <td>19750101000129A</td>\n",
       "      <td>A</td>\n",
       "      <td></td>\n",
       "      <td>0.4</td>\n",
       "      <td></td>\n",
       "      <td>1975</td>\n",
       "      <td>1</td>\n",
       "      <td>1</td>\n",
       "      <td>19750101</td>\n",
       "      <td>...</td>\n",
       "      <td>NaN</td>\n",
       "      <td>NaN</td>\n",
       "      <td>NaN</td>\n",
       "      <td>NaN</td>\n",
       "      <td>NaN</td>\n",
       "      <td>NaN</td>\n",
       "      <td>NaN</td>\n",
       "      <td>NaN</td>\n",
       "      <td>NaN</td>\n",
       "      <td>NaN</td>\n",
       "    </tr>\n",
       "    <tr>\n",
       "      <th>2</th>\n",
       "      <td>2</td>\n",
       "      <td>19750101000139A</td>\n",
       "      <td>A</td>\n",
       "      <td></td>\n",
       "      <td>0.4</td>\n",
       "      <td></td>\n",
       "      <td>1975</td>\n",
       "      <td>1</td>\n",
       "      <td>1</td>\n",
       "      <td>19750101</td>\n",
       "      <td>...</td>\n",
       "      <td>NaN</td>\n",
       "      <td>NaN</td>\n",
       "      <td>NaN</td>\n",
       "      <td>NaN</td>\n",
       "      <td>NaN</td>\n",
       "      <td>NaN</td>\n",
       "      <td>NaN</td>\n",
       "      <td>NaN</td>\n",
       "      <td>NaN</td>\n",
       "      <td>NaN</td>\n",
       "    </tr>\n",
       "    <tr>\n",
       "      <th>3</th>\n",
       "      <td>3</td>\n",
       "      <td>19750101000219A</td>\n",
       "      <td>A</td>\n",
       "      <td></td>\n",
       "      <td>0.4</td>\n",
       "      <td></td>\n",
       "      <td>1975</td>\n",
       "      <td>1</td>\n",
       "      <td>1</td>\n",
       "      <td>19750101</td>\n",
       "      <td>...</td>\n",
       "      <td>NaN</td>\n",
       "      <td>NaN</td>\n",
       "      <td>NaN</td>\n",
       "      <td>NaN</td>\n",
       "      <td>NaN</td>\n",
       "      <td>NaN</td>\n",
       "      <td>NaN</td>\n",
       "      <td>NaN</td>\n",
       "      <td>NaN</td>\n",
       "      <td>NaN</td>\n",
       "    </tr>\n",
       "    <tr>\n",
       "      <th>4</th>\n",
       "      <td>4</td>\n",
       "      <td>19750101000229A</td>\n",
       "      <td>A</td>\n",
       "      <td></td>\n",
       "      <td>0.4</td>\n",
       "      <td></td>\n",
       "      <td>1975</td>\n",
       "      <td>1</td>\n",
       "      <td>1</td>\n",
       "      <td>19750101</td>\n",
       "      <td>...</td>\n",
       "      <td>NaN</td>\n",
       "      <td>NaN</td>\n",
       "      <td>NaN</td>\n",
       "      <td>NaN</td>\n",
       "      <td>NaN</td>\n",
       "      <td>NaN</td>\n",
       "      <td>NaN</td>\n",
       "      <td>NaN</td>\n",
       "      <td>NaN</td>\n",
       "      <td>NaN</td>\n",
       "    </tr>\n",
       "  </tbody>\n",
       "</table>\n",
       "<p>5 rows × 191 columns</p>\n",
       "</div>"
      ],
      "text/plain": [
       "   Unnamed: 0               c5 c1   c2   c3 c4    c6 c7 c8        c9  ...  32  \\\n",
       "0           0  19750101000049A  A       0.4     1975  1  1  19750101  ... NaN   \n",
       "1           1  19750101000129A  A       0.4     1975  1  1  19750101  ... NaN   \n",
       "2           2  19750101000139A  A       0.4     1975  1  1  19750101  ... NaN   \n",
       "3           3  19750101000219A  A       0.4     1975  1  1  19750101  ... NaN   \n",
       "4           4  19750101000229A  A       0.4     1975  1  1  19750101  ... NaN   \n",
       "\n",
       "  Unnamed: 180 Unnamed: 181 Unnamed: 182 Unnamed: 183 Unnamed: 184  \\\n",
       "0          NaN          NaN          NaN          NaN          NaN   \n",
       "1          NaN          NaN          NaN          NaN          NaN   \n",
       "2          NaN          NaN          NaN          NaN          NaN   \n",
       "3          NaN          NaN          NaN          NaN          NaN   \n",
       "4          NaN          NaN          NaN          NaN          NaN   \n",
       "\n",
       "  Unnamed: 185 Unnamed: 186 Unnamed: 187 Unnamed: 188  \n",
       "0          NaN          NaN          NaN          NaN  \n",
       "1          NaN          NaN          NaN          NaN  \n",
       "2          NaN          NaN          NaN          NaN  \n",
       "3          NaN          NaN          NaN          NaN  \n",
       "4          NaN          NaN          NaN          NaN  \n",
       "\n",
       "[5 rows x 191 columns]"
      ]
     },
     "execution_count": 33,
     "metadata": {},
     "output_type": "execute_result"
    }
   ],
   "source": [
    "df.head()"
   ]
  },
  {
   "cell_type": "markdown",
   "id": "9cb84a7f-88f3-4b93-b03f-b23456f34e5d",
   "metadata": {},
   "source": [
    "Let's clean the data set by dropping duplicate entries by the identification number and converting blank cells to `NaN`"
   ]
  },
  {
   "cell_type": "code",
   "execution_count": 34,
   "id": "a6cf0f6e-df00-4fff-bad1-e5e3574872a7",
   "metadata": {},
   "outputs": [],
   "source": [
    "df = df.drop_duplicates(subset=['c5'])\n",
    "df.replace(r'^\\s*$', np.nan, regex=True, inplace=True)"
   ]
  },
  {
   "cell_type": "markdown",
   "id": "5f9d43ac-534d-4f4b-84ba-587f0327e440",
   "metadata": {
    "tags": []
   },
   "source": [
    "## Selecting Opcodes"
   ]
  },
  {
   "cell_type": "code",
   "execution_count": 35,
   "id": "f0761d5f-37cb-4ddf-89dd-11f4d1ad5945",
   "metadata": {},
   "outputs": [],
   "source": [
    "#| hide\n",
    "import numpy as np \n",
    "import pandas as pd \n",
    "import matplotlib.pyplot as plt \n",
    "import seaborn as sns"
   ]
  },
  {
   "cell_type": "markdown",
   "id": "ae04c1ee-f090-4ec3-b710-8e6e258aceb1",
   "metadata": {},
   "source": [
    "Now, let's get a better sense of the target column `c78`. Specifcally, we'd like to know how many instances there are of each label, and limit ourselves to only the most frequent labels to reduce numerosity."
   ]
  },
  {
   "cell_type": "markdown",
   "id": "b8629106-d022-459e-9749-bf39a70d3a05",
   "metadata": {},
   "source": [
    "Let's limit the data to those entries with the value of `c78` appearing in the `AIDCODE.csv`"
   ]
  },
  {
   "cell_type": "code",
   "execution_count": 36,
   "id": "1123ae66-e5fa-4b38-8472-f9396cceb72b",
   "metadata": {},
   "outputs": [],
   "source": [
    "df2 = pd.read_csv(\"../data/raw-data/AIDCODE.csv\")\n",
    "list_code = df2['CODE'].unique()\n",
    "list_code = list_code.tolist()"
   ]
  },
  {
   "cell_type": "code",
   "execution_count": 37,
   "id": "74b4fef1-482e-48b9-b551-c2abe6c418f6",
   "metadata": {},
   "outputs": [],
   "source": [
    "#drop rows that contain any value in the list\n",
    "df = df[df.c78.isin(list_code) == True]"
   ]
  },
  {
   "cell_type": "code",
   "execution_count": 38,
   "id": "e9a41bf5-6bdc-438c-86ba-b3575b4fd0be",
   "metadata": {},
   "outputs": [],
   "source": [
    "df.dropna(subset=['c78'],inplace=True)"
   ]
  },
  {
   "cell_type": "code",
   "execution_count": 10,
   "execution_count": 39,
   "id": "5e641259-1cdd-47ed-9821-1bdd6124ebe0",
   "metadata": {},
   "outputs": [
    {
     "data": {
      "text/plain": [
       "GC    14100\n",
       "LO     9009\n",
       "HO     8832\n",
       "GN     6085\n",
       "AS     5800\n",
       "      ...  \n",
       "FC        3\n",
       "IF        1\n",
       "FE        1\n",
       "AP        1\n",
       "CS        1\n",
       "Name: c78, Length: 115, dtype: int64"
      ]
     },
     "execution_count": 39,
     "metadata": {},
     "output_type": "execute_result"
    }
   ],
   "source": [
    "df['c78'].value_counts()"
   ]
  },
  {
   "cell_type": "code",
   "execution_count": 40,
   "id": "824caccd-b223-4b76-b4cf-60918a6e315c",
   "metadata": {},
   "outputs": [
    {
     "data": {
      "text/plain": [
       "113942"
      ]
     },
     "execution_count": 40,
     "metadata": {},
     "output_type": "execute_result"
    }
   ],
   "source": [
    "df.shape[0]"
   ]
  },
  {
   "cell_type": "markdown",
   "id": "2871442c-de02-4875-85ec-15cefc9cd781",
   "metadata": {},
   "source": [
    "## Saving"
   ]
  },
  {
   "cell_type": "code",
   "execution_count": 50,
   "id": "98e1e038-50fd-4cf1-9dd3-0b3d6f7983dd",
   "metadata": {},
   "outputs": [],
   "source": [
    "df.to_csv(\"../data/cleaned-data/Concatenated_Clean_data.csv\")"
   ]
  }
 ],
 "metadata": {
  "kernelspec": {
   "display_name": "Python 3",
   "language": "python",
   "name": "python3"
  },
  "language_info": {
   "codemirror_mode": {
    "name": "ipython",
    "version": 3
   },
   "file_extension": ".py",
   "mimetype": "text/x-python",
   "name": "python",
   "nbconvert_exporter": "python",
   "pygments_lexer": "ipython3",
   "version": "3.9.15"
  }
 },
 "nbformat": 4,
 "nbformat_minor": 5
}
