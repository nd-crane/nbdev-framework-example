{
 "cells": [
  {
   "cell_type": "markdown",
   "id": "c5c23961-36bb-4795-9446-cf56d8e805ce",
   "metadata": {},
   "source": [
    "# Classification Modeling"
   ]
  },
  {
   "cell_type": "markdown",
   "id": "f1f97289-9df3-4958-b996-319d17749a2f",
   "metadata": {},
   "source": [
    "Our objective is to identify the classification model that best predicts the primary cause of failure, `c78`, with respect to several evaluation metrics.\n",
    "\n",
    "The final performance for each model is given below.\n",
    "\n",
    "**Dummy Classifier**\\\n",
    "Precision Macro: 0.0027+0.0000\\\n",
    "Recall Macro: 0.0200+0.0000\\\n",
    "F1 Macro: 0.0047+0.0000\\\n",
    "F1 Micro: 0.1326+0.0000\n",
    "\n",
    "\n",
    "**Naive Bayes**\\\n",
    "Precision Macro: 0.0027+0.0000\\\n",
    "Recall Macro: 0.0200+0.0000\\\n",
    "F1 Macro: 0.0047+0.0000\\\n",
    "F1 Micro: 0.1326+0.0000\n",
    "\n",
    "\n",
    "**K-Nearest Neighbor**\\\n",
    "Precision Macro: 0.2356+0.0423\\\n",
    "Recall Macro: 0.1337+0.0067\\\n",
    "F1 Macro: 0.1306+0.0092\\\n",
    "F1 Micro: 0.3153+0.0098\n",
    "\n",
    "\n",
    "**Decision Tree**\\\n",
    "Precision Macro: 0.3611+0.0058\\\n",
    "Recall Macro: 0.3611+0.0058\\\n",
    "F1 Macro: 0.1230+0.0067\\\n",
    "F1 Micro: 0.3611+0.0058\n",
    "\n",
    "\n",
    "**SVM**\\\n",
    "Precision Macro: 0.0453+0.0150\\\n",
    "Recall Macro: 0.0212+0.0021\\\n",
    "F1 Macro: 0.0181+0.0029\\\n",
    "F1 Micro: 0.1487+0.0041\n",
    "\n",
    "Notes\n",
    "- I am unsure why the Dummy Classifier deviated from Lindsey's results and is equal to the Naive Bayes. I re-ran Lindsey's notebooks though and got these same values so possibly she completed the Dummy Classifier prior to finalizing `Encoding_Feature.csv`\n",
    "- The Decison Tree and SVM scores are from an earlier run where I intentionally used a subset of the features and both still took a while to train. I will attempt to fit them again with all the features but it might prove infeasible."
   ]
  },
  {
   "cell_type": "markdown",
   "id": "236f5c45-19bd-4363-9b6c-f83f12348ec0",
   "metadata": {},
   "source": [
    "# Dummy Classifier"
   ]
  },
  {
   "cell_type": "code",
   "execution_count": null,
   "id": "ff592aa8-ddc5-4f47-8adf-3d926a2443da",
   "metadata": {},
   "outputs": [],
   "source": [
    "#| hide\n",
    "import numpy as np\n",
    "import pandas as pd\n",
    "from sklearn.model_selection import train_test_split\n",
    "from sklearn.model_selection import cross_validate\n",
    "from sklearn.metrics import recall_score\n",
    "from sklearn.dummy import DummyClassifier\n",
    "import matplotlib.pyplot as plt \n",
    "import seaborn as sns\n",
    "import warnings\n",
    "warnings.filterwarnings(\"ignore\")"
   ]
  },
  {
   "cell_type": "markdown",
   "id": "1d7bbeb3-b081-46fd-9aa6-c3e468466bbc",
   "metadata": {},
   "source": [
    "First, we will fit a dummy model to act as a baseline."
   ]
  },
  {
   "cell_type": "code",
   "execution_count": null,
   "id": "18563b7c-2b67-4a3b-94ba-521fd8e8dbc4",
   "metadata": {},
   "outputs": [],
   "source": [
    "# Changing the read file location to the location of the file\n",
    "df = pd.read_csv('../data/cleaned-data/Encoded_Features.csv', index_col=0)"
   ]
  },
  {
   "cell_type": "code",
   "execution_count": null,
   "id": "54ea74ed-416e-4ecc-8a46-c01b4e736888",
   "metadata": {},
   "outputs": [
    {
     "data": {
      "text/plain": [
       "21264"
      ]
     },
     "execution_count": null,
     "metadata": {},
     "output_type": "execute_result"
    }
   ],
   "source": [
    "df.shape[0]"
   ]
  },
  {
   "cell_type": "code",
   "execution_count": null,
   "id": "0ccd0b54-2356-47e6-b3df-73701ab84a60",
   "metadata": {},
   "outputs": [],
   "source": [
    "# Separating the dependent and independent variable\n",
    "y = df['c78'] #labels\n",
    "X = df.drop('c78', axis=1) #features\n",
    "\n",
    "# Splitting the data into training and testing data\n",
    "X_train, X_test, y_train, y_test = train_test_split(\n",
    "            X, y, test_size = 0.2)"
   ]
  },
  {
   "cell_type": "code",
   "execution_count": null,
   "id": "eb080533-99ea-42ff-a3b7-07bbbdaa2629",
   "metadata": {},
   "outputs": [
    {
     "name": "stdout",
     "output_type": "stream",
     "text": [
      "0.0027+0.0000\n",
      "0.0200+0.0000\n",
      "0.0047+0.0000\n",
      "0.1326+0.0000\n"
     ]
    }
   ],
   "source": [
    "strategies = ['most_frequent', 'stratified', 'uniform']\n",
    "  \n",
    "test_scores = []\n",
    "for s in strategies:\n",
    "    if s =='constant':\n",
    "        dclf = DummyClassifier(strategy = s, random_state = 0, constant ='M')\n",
    "    else:\n",
    "        dclf = DummyClassifier(strategy = s, random_state = 0)\n",
    "        \n",
    "    dclf.fit(X_train, y_train)\n",
    "    y_pred = dclf.predict(X_test)    \n",
    "    score = dclf.score(X_test, y_test)\n",
    "    test_scores.append(score)\n",
    "    #print(confusion_matrix(y_test, y_pred))\n",
    "    #print(classification_report(y_test, y_pred))\n",
    "    \n",
    "dclf = DummyClassifier(strategy = 'most_frequent', random_state = 0)\n",
    "scoring = ['precision_macro', 'recall_macro', 'f1_macro','f1_micro','accuracy']\n",
    "scores_dclf = cross_validate(dclf, X, y,cv=10, scoring=scoring)\n",
    "sorted(scores_dclf.keys())\n",
    "\n",
    "print(\"%0.4f+%0.4f\" % (scores_dclf['test_precision_macro'].mean(), scores_dclf['test_precision_macro'].std()))\n",
    "print(\"%0.4f+%0.4f\" % (scores_dclf['test_recall_macro'].mean(), scores_dclf['test_recall_macro'].std()))\n",
    "print(\"%0.4f+%0.4f\" % (scores_dclf['test_f1_macro'].mean(), scores_dclf['test_f1_macro'].std()))\n",
    "print(\"%0.4f+%0.4f\" % (scores_dclf['test_f1_micro'].mean(), scores_dclf['test_f1_micro'].std()))"
   ]
  },
  {
   "cell_type": "code",
   "execution_count": null,
   "id": "1e13ba00-19f3-45d5-94f1-5bdb25edbd1e",
   "metadata": {},
   "outputs": [
    {
     "data": {
      "text/plain": [
       "[Text(0.5, 0, 'Dummy Strategy'), Text(0, 0.5, 'Accuracy')]"
      ]
     },
     "execution_count": null,
     "metadata": {},
     "output_type": "execute_result"
    },
    {
     "data": {
      "image/png": "[encoded data removed]",
      "text/plain": [
       "<Figure size 640x480 with 1 Axes>"
      ]
     },
     "metadata": {},
     "output_type": "display_data"
    }
   ],
   "source": [
    "ax = sns.stripplot(strategies, test_scores);\n",
    "ax.set(xlabel ='Dummy Strategy', ylabel ='Accuracy')"
   ]
  },
  {
   "cell_type": "markdown",
   "id": "3f4c5c84-0b9a-4286-8946-c4a69f0a5368",
   "metadata": {},
   "source": [
    "# Naive Bayes"
   ]
  },
  {
   "cell_type": "code",
   "execution_count": null,
   "id": "652f96e3-4528-4602-b792-544a020d1adf",
   "metadata": {},
   "outputs": [],
   "source": [
    "#| hide\n",
    "import numpy as np\n",
    "import pandas as pd\n",
    "from sklearn.model_selection import train_test_split\n",
    "from sklearn.model_selection import cross_validate\n",
    "from sklearn import datasets\n",
    "from sklearn import naive_bayes"
   ]
  },
  {
   "cell_type": "markdown",
   "id": "38de00e2-89a3-463a-898e-20bf3d977da2",
   "metadata": {},
   "source": [
    "Next, we will try a Naive Bayes model."
   ]
  },
  {
   "cell_type": "code",
   "execution_count": null,
   "id": "69321573-9af2-4881-8678-4b21f25f188a",
   "metadata": {},
   "outputs": [],
   "source": [
    "# Read dataset to pandas dataframe\n",
    "irisdata = pd.read_csv('../data/cleaned-data/Encoded_Features.csv', index_col=0)"
   ]
  },
  {
   "cell_type": "code",
   "execution_count": null,
   "id": "026d1b29-9226-4168-8154-f11fe587dc79",
   "metadata": {},
   "outputs": [],
   "source": [
    "X = irisdata.drop('c78', axis=1)\n",
    "y = irisdata['c78']"
   ]
  },
  {
   "cell_type": "code",
   "execution_count": null,
   "id": "3c7806e4-2fac-4074-aa66-5476a937500e",
   "metadata": {},
   "outputs": [],
   "source": [
    "X_train, X_test, y_train, y_test = train_test_split(X, y, test_size = 0.2)"
   ]
  },
  {
   "cell_type": "code",
   "execution_count": null,
   "id": "0f0ce442-3788-4ceb-a718-0cdf24c66501",
   "metadata": {},
   "outputs": [],
   "source": [
    "from sklearn.model_selection import GridSearchCV\n",
    "Naive = naive_bayes.MultinomialNB()\n",
    "\n",
    "param_grid = {'alpha': [100000, 500000, 1000000]}\n",
    "#use gridsearch to test all values for n_neighbors\n",
    "nb_gscv = GridSearchCV(Naive, param_grid, cv=10, verbose=2)\n",
    "#fit model to data\n",
    "nb_gscv.fit(X, y)"
   ]
  },
  {
   "cell_type": "code",
   "execution_count": null,
   "id": "cf612e35-3a94-4644-8c77-3ce0a302153f",
   "metadata": {},
   "outputs": [
    {
     "data": {
      "text/plain": [
       "{'alpha': 100000}"
      ]
     },
     "execution_count": null,
     "metadata": {},
     "output_type": "execute_result"
    }
   ],
   "source": [
    "nb_gscv.best_params_"
   ]
  },
  {
   "cell_type": "code",
   "execution_count": null,
   "id": "25392414-403a-4f2d-9bb2-20fb0612060b",
   "metadata": {},
   "outputs": [],
   "source": [
    "Naive = naive_bayes.MultinomialNB(alpha=1000000)\n",
    "Naive.fit(X_train,y_train)# predict the labels on validation dataset\n",
    "predictions_NB = Naive.predict(X_test)# Use accuracy_score function to get the accuracy"
   ]
  },
  {
   "cell_type": "code",
   "execution_count": null,
   "id": "42b60730-1c92-49cc-8b75-ed82a03afc76",
   "metadata": {},
   "outputs": [],
   "source": [
    "scoring = ['precision_macro', 'recall_macro', 'f1_macro','f1_micro','accuracy']\n",
    "scores_nb = cross_validate(Naive, X, y, cv=10, scoring = scoring, verbose=2)"
   ]
  },
  {
   "cell_type": "code",
   "execution_count": null,
   "id": "36f85508-26b6-4d38-a5d6-b5817974e69d",
   "metadata": {},
   "outputs": [
    {
     "data": {
      "text/plain": [
       "{'fit_time': array([29.40935636, 29.29487848, 29.02299118, 29.67805696, 30.41820049,\n",
       "        27.21647263, 28.4566586 , 28.28060436, 27.96033669, 27.95482945]),\n",
       " 'score_time': array([0.12052965, 0.11404657, 0.1136179 , 0.11438704, 0.11736965,\n",
       "        0.11576581, 0.11674356, 0.11988378, 0.11960602, 0.11597013]),\n",
       " 'test_precision_macro': array([0.00265162, 0.00265162, 0.00265162, 0.00265162, 0.00265287,\n",
       "        0.00265287, 0.00265287, 0.00265287, 0.00265287, 0.00265287]),\n",
       " 'test_recall_macro': array([0.02, 0.02, 0.02, 0.02, 0.02, 0.02, 0.02, 0.02, 0.02, 0.02]),\n",
       " 'test_f1_macro': array([0.00468244, 0.00468244, 0.00468244, 0.00468244, 0.00468439,\n",
       "        0.00468439, 0.00468439, 0.00468439, 0.00468439, 0.00468439]),\n",
       " 'test_f1_micro': array([0.1325811 , 0.1325811 , 0.1325811 , 0.1325811 , 0.13264346,\n",
       "        0.13264346, 0.13264346, 0.13264346, 0.13264346, 0.13264346]),\n",
       " 'test_accuracy': array([0.1325811 , 0.1325811 , 0.1325811 , 0.1325811 , 0.13264346,\n",
       "        0.13264346, 0.13264346, 0.13264346, 0.13264346, 0.13264346])}"
      ]
     },
     "execution_count": null,
     "metadata": {},
     "output_type": "execute_result"
    }
   ],
   "source": [
    "sorted(scores_nb.keys())\n",
    "scores_nb"
   ]
  },
  {
   "cell_type": "code",
   "execution_count": null,
   "id": "80fc9dd6-1cd8-4e3b-abc9-d5c480006642",
   "metadata": {},
   "outputs": [
    {
     "name": "stdout",
     "output_type": "stream",
     "text": [
      "0.0027+0.0000\n",
      "0.0200+0.0000\n",
      "0.0047+0.0000\n",
      "0.1326+0.0000\n"
     ]
    }
   ],
   "source": [
    "print(\"%0.4f+%0.4f\" % (scores_nb['test_precision_macro'].mean(), scores_nb['test_precision_macro'].std()))\n",
    "print(\"%0.4f+%0.4f\" % (scores_nb['test_recall_macro'].mean(), scores_nb['test_recall_macro'].std()))\n",
    "print(\"%0.4f+%0.4f\" % (scores_nb['test_f1_macro'].mean(), scores_nb['test_f1_macro'].std()))\n",
    "print(\"%0.4f+%0.4f\" % (scores_nb['test_f1_micro'].mean(), scores_nb['test_f1_micro'].std()))"
   ]
  },
  {
   "cell_type": "markdown",
   "id": "7b257f0a-3e7a-4631-99f3-bd2865ac0c33",
   "metadata": {},
   "source": [
    "# K - Nearest Neighhbor"
   ]
  },
  {
   "cell_type": "code",
   "execution_count": null,
   "id": "a1023ff9-9334-461a-8b14-f9e7ba486651",
   "metadata": {},
   "outputs": [
    {
     "data": {
      "text/html": [
       "        <script type=\"text/javascript\">\n",
       "        window.PlotlyConfig = {MathJaxConfig: 'local'};\n",
       "        if (window.MathJax && window.MathJax.Hub && window.MathJax.Hub.Config) {window.MathJax.Hub.Config({SVG: {font: \"STIX-Web\"}});}\n",
       "        if (typeof require !== 'undefined') {\n",
       "        require.undef(\"plotly\");\n",
       "        requirejs.config({\n",
       "            paths: {\n",
       "                'plotly': ['https://cdn.plot.ly/plotly-2.12.1.min']\n",
       "            }\n",
       "        });\n",
       "        require(['plotly'], function(Plotly) {\n",
       "            window._Plotly = Plotly;\n",
       "        });\n",
       "        }\n",
       "        </script>\n",
       "        "
      ]
     },
     "metadata": {},
     "output_type": "display_data"
    }
   ],
   "source": [
    "#| hide\n",
    "import numpy as np\n",
    "import pandas as pd\n",
    "from sklearn.model_selection import train_test_split\n",
    "import plotly.offline as py\n",
    "py.init_notebook_mode(connected=True)\n",
    "import plotly.graph_objs as go\n",
    "import plotly.tools as tls\n",
    "import seaborn as sns\n",
    "import matplotlib.image as mpimg\n",
    "import matplotlib.pyplot as plt\n",
    "import matplotlib\n",
    "%matplotlib inline\n",
    "\n",
    "# Import the 3 dimensionality reduction methods\n",
    "from sklearn.decomposition import PCA"
   ]
  },
  {
   "cell_type": "code",
   "execution_count": null,
   "id": "bc347a40-7fa4-46c7-aaf3-234d22689cd0",
   "metadata": {},
   "outputs": [],
   "source": [
    "data = pd.read_csv('../data/cleaned-data/Encoded_Features.csv',index_col=0)\n",
    "data.head()\n",
    "\n",
    "X = data.drop('c78', axis=1)\n",
    "y = data['c78']\n",
    "    \n",
    "X_train, X_test, y_train, y_test = train_test_split(\n",
    "            X, y, test_size = 0.2)\n"
   ]
  },
  {
   "cell_type": "code",
   "execution_count": null,
   "id": "64b40381-da67-4e30-8de9-2d70bdbd5a8a",
   "metadata": {},
   "outputs": [
    {
     "data": {
      "text/plain": [
       "0.29579120620738303"
      ]
     },
     "execution_count": null,
     "metadata": {},
     "output_type": "execute_result"
    }
   ],
   "source": [
    "from sklearn.neighbors import KNeighborsClassifier\n",
    "knn = KNeighborsClassifier(n_neighbors = 10)\n",
    "knn.fit(X_train,y_train)\n",
    "y_pred = knn.predict(X_test)\n",
    "knn.score(X_test,y_test)"
   ]
  },
  {
   "cell_type": "code",
   "execution_count": null,
   "id": "a2f26f21-66f7-4b45-8589-8a8403d3f582",
   "metadata": {},
   "outputs": [
    {
     "name": "stdout",
     "output_type": "stream",
     "text": [
      "[0.23883404 0.22708039 0.24494593 0.23601316 0.23941675 0.23800564\n",
      " 0.23565381 0.23330198 0.22483537 0.23377234]\n",
      "cv_scores mean:0.2351859419787961\n"
     ]
    }
   ],
   "source": [
    "from sklearn.model_selection import cross_val_score\n",
    "import numpy as np\n",
    "#create a new KNN model\n",
    "knn_cv = KNeighborsClassifier(n_neighbors=3)\n",
    "#train model with cv of 10 \n",
    "cv_scores = cross_val_score(knn_cv, X, y, cv=10)\n",
    "#print each cv score (accuracy) and average them\n",
    "print(cv_scores)\n",
    "print('cv_scores mean:{}'.format(np.mean(cv_scores)))"
   ]
  },
  {
   "cell_type": "code",
   "execution_count": null,
   "id": "0e2cf75c-3ed9-432c-bb8b-7019a5c70852",
   "metadata": {},
   "outputs": [],
   "source": [
    "from sklearn.model_selection import GridSearchCV\n",
    "#create new a knn model\n",
    "knn2 = KNeighborsClassifier()\n",
    "#create a dictionary of all values we want to test for n_neighbors\n",
    "param_grid = {'n_neighbors': np.arange(1, 100)}\n",
    "#use gridsearch to test all values for n_neighbors\n",
    "knn_gscv = GridSearchCV(knn2, param_grid, cv=10, verbose=10)\n",
    "#fit model to data\n",
    "knn_gscv.fit(X, y)"
   ]
  },
  {
   "cell_type": "code",
   "execution_count": null,
   "id": "53bcee54-fbf3-468b-a8cc-2864b57fb58e",
   "metadata": {},
   "outputs": [
    {
     "data": {
      "text/plain": [
       "{'n_neighbors': 45}"
      ]
     },
     "execution_count": null,
     "metadata": {},
     "output_type": "execute_result"
    }
   ],
   "source": [
    "knn_gscv.best_params_\n",
    "#knn_gscv.best_score_"
   ]
  },
  {
   "cell_type": "code",
   "execution_count": null,
   "id": "2165a44f-8f83-4a29-9e5d-4a0dfee9f8b7",
   "metadata": {},
   "outputs": [],
   "source": [
    "from sklearn.model_selection import cross_validate\n",
    "from sklearn.metrics import recall_score\n",
    "import numpy as np\n",
    "#create a new KNN model\n",
    "knn_cv = KNeighborsClassifier(n_neighbors=45)\n",
    "#train model with cv of 10 "
   ]
  },
  {
   "cell_type": "code",
   "execution_count": null,
   "id": "32c32435-f9d5-4eb8-a8fe-c24a465f8809",
   "metadata": {},
   "outputs": [
    {
     "data": {
      "text/plain": [
       "{'fit_time': array([0.85636282, 0.49874997, 0.5051713 , 0.48534489, 0.4949882 ,\n",
       "        0.49622059, 0.49663901, 0.48606586, 0.49530411, 0.47655201]),\n",
       " 'score_time': array([1.98693371, 2.40405393, 2.93795228, 2.62931323, 2.09334898,\n",
       "        2.16602802, 2.09480214, 2.35734534, 2.1879952 , 2.37793231]),\n",
       " 'test_precision_macro': array([0.19997276, 0.31106627, 0.26910541, 0.21671609, 0.20075895,\n",
       "        0.26377379, 0.15877166, 0.26623614, 0.25203867, 0.21710113]),\n",
       " 'test_recall_macro': array([0.12133596, 0.1473856 , 0.13502954, 0.13275619, 0.13448904,\n",
       "        0.12994185, 0.12763656, 0.14093678, 0.13240046, 0.13547305]),\n",
       " 'test_f1_macro': array([0.11585435, 0.15030466, 0.13415572, 0.12612722, 0.13056661,\n",
       "        0.12777295, 0.12000804, 0.13946819, 0.12962251, 0.13253774]),\n",
       " 'test_f1_micro': array([0.29384109, 0.32769158, 0.32346027, 0.31076634, 0.31608655,\n",
       "        0.31984948, 0.31420508, 0.31420508, 0.30573848, 0.32690499]),\n",
       " 'test_accuracy': array([0.29384109, 0.32769158, 0.32346027, 0.31076634, 0.31608655,\n",
       "        0.31984948, 0.31420508, 0.31420508, 0.30573848, 0.32690499])}"
      ]
     },
     "execution_count": null,
     "metadata": {},
     "output_type": "execute_result"
    }
   ],
   "source": [
    "scoring = ['precision_macro', 'recall_macro', 'f1_macro','f1_micro','accuracy']\n",
    "scores_knn = cross_validate(knn_cv, X, y, cv=10, scoring = scoring)\n",
    "#print each cv score (accuracy) and average them\n",
    "sorted(scores_knn.keys())\n",
    "scores_knn"
   ]
  },
  {
   "cell_type": "code",
   "execution_count": null,
   "id": "ac976809-ad89-4bb6-af78-ddd7b9630a07",
   "metadata": {},
   "outputs": [
    {
     "name": "stdout",
     "output_type": "stream",
     "text": [
      "0.3153+0.0098\n",
      "0.2356+0.0423\n",
      "0.1337+0.0067\n",
      "0.1306+0.0092\n",
      "0.3153+0.0098\n"
     ]
    }
   ],
   "source": [
    "print(\"%0.4f+%0.4f\" % (scores_knn['test_accuracy'].mean(), scores_knn['test_accuracy'].std()))\n",
    "print(\"%0.4f+%0.4f\" % (scores_knn['test_precision_macro'].mean(), scores_knn['test_precision_macro'].std()))\n",
    "print(\"%0.4f+%0.4f\" % (scores_knn['test_recall_macro'].mean(), scores_knn['test_recall_macro'].std()))\n",
    "print(\"%0.4f+%0.4f\" % (scores_knn['test_f1_macro'].mean(), scores_knn['test_f1_macro'].std()))\n",
    "print(\"%0.4f+%0.4f\" % (scores_knn['test_f1_micro'].mean(), scores_knn['test_f1_micro'].std()))"
   ]
  },
  {
   "cell_type": "code",
   "execution_count": null,
   "id": "82b03aa8-3159-481f-abae-a3b0e11eab52",
   "metadata": {},
   "outputs": [],
   "source": [
    "import matplotlib.pyplot as plt \n",
    "error_rate = []\n",
    "from sklearn.neighbors import KNeighborsClassifier\n",
    "\n",
    "for i in range(1,100):\n",
    "    knn = KNeighborsClassifier(n_neighbors=i)\n",
    "    knn.fit(X_train, y_train)\n",
    "    pred = knn.predict(X_test)\n",
    "    error_rate.append(np.mean(pred != y_test))"
   ]
  },
  {
   "cell_type": "code",
   "execution_count": null,
   "id": "d054a56c-dd45-4209-a353-aa45cfcd3441",
   "metadata": {},
   "outputs": [
    {
     "data": {
      "text/plain": [
       "0.6762285445567835"
      ]
     },
     "execution_count": null,
     "metadata": {},
     "output_type": "execute_result"
    }
   ],
   "source": [
    "#Best -> k = 31 -> err_rate = 0.6762285445567835\n",
    "error_rate.index(min(error_rate))\n",
    "error_rate[30]"
   ]
  },
  {
   "cell_type": "code",
   "execution_count": null,
   "id": "7d4004c2-2d34-4fb0-ae48-a3ad6c18b3c2",
   "metadata": {},
   "outputs": [
    {
     "data": {
      "text/plain": [
       "[<matplotlib.lines.Line2D>]"
      ]
     },
     "execution_count": null,
     "metadata": {},
     "output_type": "execute_result"
    },
    {
     "data": {
      "image/png": "[encoded data removed]",
      "text/plain": [
       "<Figure size 1500x1000 with 1 Axes>"
      ]
     },
     "metadata": {},
     "output_type": "display_data"
    }
   ],
   "source": [
    "fig = plt.figure(figsize=(15,10))\n",
    "plt.rcParams.update({'font.size': 20})\n",
    "plt.xlabel(\"k value\")\n",
    "plt.ylabel(\"Error Rate\")\n",
    "plt.plot(range(1,100),error_rate, marker='o', markersize=9)"
   ]
  },
  {
   "cell_type": "markdown",
   "id": "9e7f9fd0-acb1-461a-b07d-88eb4e536c7c",
   "metadata": {},
   "source": [
    "# Decision Tree"
   ]
  },
  {
   "cell_type": "code",
   "execution_count": null,
   "id": "59084760-3278-40eb-b66e-5de57373885d",
   "metadata": {},
   "outputs": [],
   "source": [
    "import numpy as np \n",
    "import pandas as pd \n",
    "import matplotlib.pyplot as plt \n",
    "from sklearn import tree\n",
    "from sklearn.tree import DecisionTreeClassifier"
   ]
  },
  {
   "cell_type": "code",
   "execution_count": null,
   "id": "da1a9c47-4f21-4c18-8eb4-8d33204ef0db",
   "metadata": {},
   "outputs": [
    {
     "data": {
      "text/html": [
       "<div>\n",
       "<style scoped>\n",
       "    .dataframe tbody tr th:only-of-type {\n",
       "        vertical-align: middle;\n",
       "    }\n",
       "\n",
       "    .dataframe tbody tr th {\n",
       "        vertical-align: top;\n",
       "    }\n",
       "\n",
       "    .dataframe thead th {\n",
       "        text-align: right;\n",
       "    }\n",
       "</style>\n",
       "<table border=\"1\" class=\"dataframe\">\n",
       "  <thead>\n",
       "    <tr style=\"text-align: right;\">\n",
       "      <th></th>\n",
       "      <th>c144</th>\n",
       "      <th>c23</th>\n",
       "      <th>c24</th>\n",
       "      <th>c25</th>\n",
       "      <th>c27</th>\n",
       "      <th>c13</th>\n",
       "      <th>c102</th>\n",
       "      <th>c106</th>\n",
       "      <th>c41</th>\n",
       "      <th>c49</th>\n",
       "      <th>c50</th>\n",
       "      <th>c52</th>\n",
       "      <th>c53</th>\n",
       "      <th>c56</th>\n",
       "      <th>c59</th>\n",
       "      <th>c78</th>\n",
       "      <th>c80</th>\n",
       "      <th>c96</th>\n",
       "      <th>c109</th>\n",
       "    </tr>\n",
       "  </thead>\n",
       "  <tbody>\n",
       "    <tr>\n",
       "      <th>0</th>\n",
       "      <td>10</td>\n",
       "      <td>127</td>\n",
       "      <td>705</td>\n",
       "      <td>145</td>\n",
       "      <td>24</td>\n",
       "      <td>19</td>\n",
       "      <td>0</td>\n",
       "      <td>1</td>\n",
       "      <td>1</td>\n",
       "      <td>4</td>\n",
       "      <td>7</td>\n",
       "      <td>1</td>\n",
       "      <td>5</td>\n",
       "      <td>230</td>\n",
       "      <td>21</td>\n",
       "      <td>32</td>\n",
       "      <td>30</td>\n",
       "      <td>31</td>\n",
       "      <td>1</td>\n",
       "    </tr>\n",
       "    <tr>\n",
       "      <th>1</th>\n",
       "      <td>10</td>\n",
       "      <td>264</td>\n",
       "      <td>1763</td>\n",
       "      <td>607</td>\n",
       "      <td>19</td>\n",
       "      <td>54</td>\n",
       "      <td>0</td>\n",
       "      <td>1</td>\n",
       "      <td>3</td>\n",
       "      <td>4</td>\n",
       "      <td>41</td>\n",
       "      <td>6</td>\n",
       "      <td>135</td>\n",
       "      <td>2882</td>\n",
       "      <td>12</td>\n",
       "      <td>94</td>\n",
       "      <td>33</td>\n",
       "      <td>21</td>\n",
       "      <td>1</td>\n",
       "    </tr>\n",
       "    <tr>\n",
       "      <th>2</th>\n",
       "      <td>10</td>\n",
       "      <td>315</td>\n",
       "      <td>934</td>\n",
       "      <td>241</td>\n",
       "      <td>9</td>\n",
       "      <td>0</td>\n",
       "      <td>0</td>\n",
       "      <td>1</td>\n",
       "      <td>1</td>\n",
       "      <td>4</td>\n",
       "      <td>11</td>\n",
       "      <td>12</td>\n",
       "      <td>145</td>\n",
       "      <td>335</td>\n",
       "      <td>0</td>\n",
       "      <td>103</td>\n",
       "      <td>8</td>\n",
       "      <td>40</td>\n",
       "      <td>1</td>\n",
       "    </tr>\n",
       "    <tr>\n",
       "      <th>3</th>\n",
       "      <td>10</td>\n",
       "      <td>264</td>\n",
       "      <td>1752</td>\n",
       "      <td>606</td>\n",
       "      <td>5</td>\n",
       "      <td>0</td>\n",
       "      <td>0</td>\n",
       "      <td>0</td>\n",
       "      <td>3</td>\n",
       "      <td>2</td>\n",
       "      <td>31</td>\n",
       "      <td>9</td>\n",
       "      <td>1256</td>\n",
       "      <td>3044</td>\n",
       "      <td>0</td>\n",
       "      <td>40</td>\n",
       "      <td>30</td>\n",
       "      <td>7</td>\n",
       "      <td>1</td>\n",
       "    </tr>\n",
       "    <tr>\n",
       "      <th>4</th>\n",
       "      <td>16</td>\n",
       "      <td>128</td>\n",
       "      <td>920</td>\n",
       "      <td>167</td>\n",
       "      <td>4</td>\n",
       "      <td>81</td>\n",
       "      <td>0</td>\n",
       "      <td>1</td>\n",
       "      <td>5</td>\n",
       "      <td>2</td>\n",
       "      <td>25</td>\n",
       "      <td>12</td>\n",
       "      <td>490</td>\n",
       "      <td>3439</td>\n",
       "      <td>19</td>\n",
       "      <td>4</td>\n",
       "      <td>30</td>\n",
       "      <td>21</td>\n",
       "      <td>1</td>\n",
       "    </tr>\n",
       "    <tr>\n",
       "      <th>...</th>\n",
       "      <td>...</td>\n",
       "      <td>...</td>\n",
       "      <td>...</td>\n",
       "      <td>...</td>\n",
       "      <td>...</td>\n",
       "      <td>...</td>\n",
       "      <td>...</td>\n",
       "      <td>...</td>\n",
       "      <td>...</td>\n",
       "      <td>...</td>\n",
       "      <td>...</td>\n",
       "      <td>...</td>\n",
       "      <td>...</td>\n",
       "      <td>...</td>\n",
       "      <td>...</td>\n",
       "      <td>...</td>\n",
       "      <td>...</td>\n",
       "      <td>...</td>\n",
       "      <td>...</td>\n",
       "    </tr>\n",
       "    <tr>\n",
       "      <th>22784</th>\n",
       "      <td>15</td>\n",
       "      <td>23</td>\n",
       "      <td>1488</td>\n",
       "      <td>483</td>\n",
       "      <td>9</td>\n",
       "      <td>10</td>\n",
       "      <td>0</td>\n",
       "      <td>2</td>\n",
       "      <td>1</td>\n",
       "      <td>8</td>\n",
       "      <td>44</td>\n",
       "      <td>13</td>\n",
       "      <td>0</td>\n",
       "      <td>691</td>\n",
       "      <td>12</td>\n",
       "      <td>54</td>\n",
       "      <td>30</td>\n",
       "      <td>30</td>\n",
       "      <td>1</td>\n",
       "    </tr>\n",
       "    <tr>\n",
       "      <th>22785</th>\n",
       "      <td>15</td>\n",
       "      <td>264</td>\n",
       "      <td>1840</td>\n",
       "      <td>619</td>\n",
       "      <td>5</td>\n",
       "      <td>10</td>\n",
       "      <td>3</td>\n",
       "      <td>2</td>\n",
       "      <td>3</td>\n",
       "      <td>8</td>\n",
       "      <td>32</td>\n",
       "      <td>13</td>\n",
       "      <td>200</td>\n",
       "      <td>496</td>\n",
       "      <td>12</td>\n",
       "      <td>54</td>\n",
       "      <td>30</td>\n",
       "      <td>30</td>\n",
       "      <td>3</td>\n",
       "    </tr>\n",
       "    <tr>\n",
       "      <th>22786</th>\n",
       "      <td>7</td>\n",
       "      <td>207</td>\n",
       "      <td>255</td>\n",
       "      <td>75</td>\n",
       "      <td>29</td>\n",
       "      <td>10</td>\n",
       "      <td>4</td>\n",
       "      <td>1</td>\n",
       "      <td>8</td>\n",
       "      <td>8</td>\n",
       "      <td>24</td>\n",
       "      <td>9</td>\n",
       "      <td>1360</td>\n",
       "      <td>2211</td>\n",
       "      <td>12</td>\n",
       "      <td>40</td>\n",
       "      <td>30</td>\n",
       "      <td>19</td>\n",
       "      <td>1</td>\n",
       "    </tr>\n",
       "    <tr>\n",
       "      <th>22787</th>\n",
       "      <td>10</td>\n",
       "      <td>148</td>\n",
       "      <td>69</td>\n",
       "      <td>34</td>\n",
       "      <td>4</td>\n",
       "      <td>50</td>\n",
       "      <td>0</td>\n",
       "      <td>1</td>\n",
       "      <td>1</td>\n",
       "      <td>8</td>\n",
       "      <td>14</td>\n",
       "      <td>13</td>\n",
       "      <td>145</td>\n",
       "      <td>190</td>\n",
       "      <td>7</td>\n",
       "      <td>75</td>\n",
       "      <td>12</td>\n",
       "      <td>16</td>\n",
       "      <td>1</td>\n",
       "    </tr>\n",
       "    <tr>\n",
       "      <th>22788</th>\n",
       "      <td>15</td>\n",
       "      <td>264</td>\n",
       "      <td>1794</td>\n",
       "      <td>612</td>\n",
       "      <td>23</td>\n",
       "      <td>47</td>\n",
       "      <td>3</td>\n",
       "      <td>2</td>\n",
       "      <td>3</td>\n",
       "      <td>8</td>\n",
       "      <td>29</td>\n",
       "      <td>13</td>\n",
       "      <td>871</td>\n",
       "      <td>3484</td>\n",
       "      <td>55</td>\n",
       "      <td>32</td>\n",
       "      <td>4</td>\n",
       "      <td>31</td>\n",
       "      <td>1</td>\n",
       "    </tr>\n",
       "  </tbody>\n",
       "</table>\n",
       "<p>22789 rows × 19 columns</p>\n",
       "</div>"
      ],
      "text/plain": [
       "       c144  c23   c24  c25  c27  c13  c102  c106  c41  c49  c50  c52   c53  \\\n",
       "0        10  127   705  145   24   19     0     1    1    4    7    1     5   \n",
       "1        10  264  1763  607   19   54     0     1    3    4   41    6   135   \n",
       "2        10  315   934  241    9    0     0     1    1    4   11   12   145   \n",
       "3        10  264  1752  606    5    0     0     0    3    2   31    9  1256   \n",
       "4        16  128   920  167    4   81     0     1    5    2   25   12   490   \n",
       "...     ...  ...   ...  ...  ...  ...   ...   ...  ...  ...  ...  ...   ...   \n",
       "22784    15   23  1488  483    9   10     0     2    1    8   44   13     0   \n",
       "22785    15  264  1840  619    5   10     3     2    3    8   32   13   200   \n",
       "22786     7  207   255   75   29   10     4     1    8    8   24    9  1360   \n",
       "22787    10  148    69   34    4   50     0     1    1    8   14   13   145   \n",
       "22788    15  264  1794  612   23   47     3     2    3    8   29   13   871   \n",
       "\n",
       "        c56  c59  c78  c80  c96  c109  \n",
       "0       230   21   32   30   31     1  \n",
       "1      2882   12   94   33   21     1  \n",
       "2       335    0  103    8   40     1  \n",
       "3      3044    0   40   30    7     1  \n",
       "4      3439   19    4   30   21     1  \n",
       "...     ...  ...  ...  ...  ...   ...  \n",
       "22784   691   12   54   30   30     1  \n",
       "22785   496   12   54   30   30     3  \n",
       "22786  2211   12   40   30   19     1  \n",
       "22787   190    7   75   12   16     1  \n",
       "22788  3484   55   32    4   31     1  \n",
       "\n",
       "[22789 rows x 19 columns]"
      ]
     },
     "execution_count": null,
     "metadata": {},
     "output_type": "execute_result"
    }
   ],
   "source": [
    "dataset = pd.read_csv('../data/cleaned-data/Encoded_Features.csv',index_col=0) \n",
    "dataset"
   ]
  },
  {
   "cell_type": "code",
   "execution_count": null,
   "id": "0fe6e617-37a3-40aa-a8b6-61dda75d3066",
   "metadata": {},
   "outputs": [],
   "source": [
    "from sklearn.model_selection import train_test_split\n",
    "X = dataset.copy().drop(columns=['c78'])\n",
    "y = dataset['c78']\n",
    "X_train, X_test, y_train, y_test = train_test_split(X, y, test_size=0.20)"
   ]
  },
  {
   "cell_type": "code",
   "execution_count": null,
   "id": "91e4a2d8-2cca-4890-8021-a413bd0c1297",
   "metadata": {},
   "outputs": [],
   "source": [
    "targets = dataset['c78'].unique().tolist()\n",
    "targets = [str(x) for x in targets]"
   ]
  },
  {
   "cell_type": "code",
   "execution_count": null,
   "id": "7650bdda-7edf-44a7-8bcc-86ce1bd1bb47",
   "metadata": {},
   "outputs": [],
   "source": [
    "from sklearn.tree import DecisionTreeClassifier\n",
    "from sklearn.model_selection import GridSearchCV\n",
    "dTree = DecisionTreeClassifier()\n",
    "#create a dictionary of all values we want to test for n_neighbors\n",
    "param_grid = {'max_depth': np.arange(1, 100)}\n",
    "#use gridsearch to test all values for n_neighbors\n",
    "dTree_gscv = GridSearchCV(dTree, param_grid, cv=10, verbose=2)\n",
    "#fit model to data\n",
    "dTree_gscv.fit(X, y)"
   ]
  },
  {
   "cell_type": "code",
   "execution_count": null,
   "id": "7701a647-79d6-4f7f-beec-27ca2b9b7ef8",
   "metadata": {},
   "outputs": [
    {
     "data": {
      "text/plain": [
       "{'max_depth': 10}"
      ]
     },
     "execution_count": null,
     "metadata": {},
     "output_type": "execute_result"
    }
   ],
   "source": [
    "dTree_gscv.best_params_"
   ]
  },
  {
   "cell_type": "code",
   "execution_count": null,
   "id": "1bf26a0b-9c11-4a89-8ff2-ef154239d673",
   "metadata": {},
   "outputs": [],
   "source": [
    "from sklearn.model_selection import cross_validate\n",
    "from sklearn.metrics import recall_score\n",
    "from sklearn.metrics import accuracy_score\n",
    "import numpy as np\n",
    "#create a new KNN model\n",
    "dTree = DecisionTreeClassifier(max_depth = 10)"
   ]
  },
  {
   "cell_type": "code",
   "execution_count": null,
   "id": "61af9edc-b5d6-4a18-9ada-74fc1a2db10e",
   "metadata": {},
   "outputs": [
    {
     "name": "stdout",
     "output_type": "stream",
     "text": [
      "0.3611+0.0058\n",
      "0.3611+0.0058\n",
      "0.1230+0.0067\n",
      "0.3611+0.0058\n"
     ]
    }
   ],
   "source": [
    "#train model with cv of 10 \n",
    "scoring = ['precision_macro', 'recall_acro', 'f1_macro','f1_micro','accuracy']\n",
    "scores_dt = cross_validate(dTree, X, y, cv=10, scoring = scoring)\n",
    "#print each cv score (accuracy) and average them\n",
    "sorted(scores_dt.keys())\n",
    "print(\"%0.4f+%0.4f\" % (scores_dt['test_precision_macro'].mean(), scores_dt['test_precision_macro'].std()))\n",
    "print(\"%0.4f+%0.4f\" % (scores_dt['test_recall_macro'].mean(), scores_dt['test_recall_macro'].std()))\n",
    "print(\"%0.4f+%0.4f\" % (scores_dt['test_f1_macro'].mean(), scores_dt['test_f1_macro'].std()))\n",
    "print(\"%0.4f+%0.4f\" % (scores_dt['test_f1_micro'].mean(), scores_dt['test_f1_micro'].std()))"
   ]
  },
  {
   "cell_type": "markdown",
   "id": "ed3c46ba-fb97-4ac4-ad9a-345e58733b59",
   "metadata": {},
   "source": [
    "# SVM"
   ]
  },
  {
   "cell_type": "code",
   "execution_count": null,
   "id": "9024ab95-3fc3-402a-8dc6-2daa72ae281d",
   "metadata": {},
   "outputs": [],
   "source": [
    "import numpy as np\n",
    "import pandas as pd\n",
    "from sklearn.model_selection import train_test_split\n",
    "from sklearn.model_selection import cross_validate\n",
    "from sklearn import datasets\n",
    "from sklearn.svm import SVC"
   ]
  },
  {
   "cell_type": "code",
   "execution_count": null,
   "id": "82cfa6ee-8613-4136-86d4-bf1eb2c2670e",
   "metadata": {},
   "outputs": [],
   "source": [
    "# Assign colum names to the dataset\n",
    "colnames = ['c144','c23','c24','c25','c27','c13','c102','c106','c41','c49', 'c50', 'c52', 'c80', 'c96', 'c109','c78']\n",
    "\n",
    "# Read dataset to pandas dataframe\n",
    "irisdata = pd.read_csv('../data/cleaned-data/Encoded_Features.csv',usecols=colnames)"
   ]
  },
  {
   "cell_type": "code",
   "execution_count": null,
   "id": "80e73763-2918-45b1-b7b1-63dd2aec7440",
   "metadata": {},
   "outputs": [],
   "source": [
    "X = irisdata.drop('c78', axis=1)\n",
    "y = irisdata['c78']"
   ]
  },
  {
   "cell_type": "code",
   "execution_count": null,
   "id": "441952c8-c573-496e-a950-1f15d70fda4d",
   "metadata": {},
   "outputs": [],
   "source": [
    "X_train, X_test, y_train, y_test = train_test_split(X, y, test_size = 0.2)"
   ]
  },
  {
   "cell_type": "code",
   "execution_count": null,
   "id": "240725b8-7aa3-4e1a-b3b4-824b41e5ef9f",
   "metadata": {},
   "outputs": [],
   "source": [
    "clf = SVC(kernel = 'poly', degree = 8)\n",
    "#clf.fit(X_train, y_train)\n",
    "scoring = ['precision_macro', 'recall_macro', 'f1_macro','f1_micro','accuracy']\n",
    "scores_res = cross_validate(clf, X, y, cv=10, scoring = scoring)"
   ]
  },
  {
   "cell_type": "code",
   "execution_count": null,
   "id": "77f15283-cec8-4498-890e-590d91e7a3e6",
   "metadata": {},
   "outputs": [],
   "source": [
    "from sklearn.model_selection import GridSearchCV\n",
    "clf = SVC(kernel = 'poly', degree = 2)\n",
    "\n",
    "param_grid = {'degree': [2, 4, 10]}\n",
    "#use gridsearch to test all values for n_neighbors\n",
    "svm_gscv = GridSearchCV(clf, param_grid, cv=2)\n",
    "#fit model to data\n",
    "svm_gscv.fit(X, y)"
   ]
  },
  {
   "cell_type": "code",
   "execution_count": null,
   "id": "0455b6c1-e31e-4ad5-80d8-6eaa7d41077e",
   "metadata": {},
   "outputs": [
    {
     "data": {
      "text/plain": [
       "{'fit_time': array([1889.22326255, 3645.23735523, 1848.76933146, 1988.86997342,\n",
       "        1838.83641362, 1711.68622732, 1769.97253346, 1729.35280895,\n",
       "        1772.21598983, 1696.40208578]),\n",
       " 'score_time': array([11.10421562, 47.5643127 , 11.43277121, 12.20550013, 12.46886802,\n",
       "        12.16364694, 11.61115575, 11.66941142, 11.45319939, 12.55381179]),\n",
       " 'test_precision_macro': array([0.03526325, 0.04824987, 0.08318548, 0.04999466, 0.05392378,\n",
       "        0.03490309, 0.03320958, 0.04777263, 0.03851724, 0.02794099]),\n",
       " 'test_recall_macro': array([0.02224964, 0.02135871, 0.02413596, 0.0240558 , 0.01957375,\n",
       "        0.01787839, 0.01932417, 0.01948561, 0.0238185 , 0.02029652]),\n",
       " 'test_f1_macro': array([0.01864003, 0.0190541 , 0.0225871 , 0.02192672, 0.01617443,\n",
       "        0.01367981, 0.01549697, 0.01593496, 0.02125461, 0.0162016 ]),\n",
       " 'test_f1_micro': array([0.14918824, 0.14962703, 0.15313734, 0.15577007, 0.14655551,\n",
       "        0.14216762, 0.14787187, 0.15050461, 0.15006582, 0.14223003]),\n",
       " 'test_accuracy': array([0.14918824, 0.14962703, 0.15313734, 0.15577007, 0.14655551,\n",
       "        0.14216762, 0.14787187, 0.15050461, 0.15006582, 0.14223003])}"
      ]
     },
     "execution_count": null,
     "metadata": {},
     "output_type": "execute_result"
    }
   ],
   "source": [
    "sorted(scores_res.keys())\n",
    "scores_res"
   ]
  },
  {
   "cell_type": "code",
   "execution_count": null,
   "id": "72eaf4a8-720e-4750-aa7e-6dc8f5c44b96",
   "metadata": {},
   "outputs": [
    {
     "name": "stdout",
     "output_type": "stream",
     "text": [
      "0.1487+0.0041\n",
      "0.0453+0.0150\n",
      "0.0212+0.0021\n",
      "0.0181+0.0029\n",
      "0.1487+0.0041\n"
     ]
    }
   ],
   "source": [
    "print(\"%0.4f+%0.4f\" % (scores_res['test_accuracy'].mean(), scores_res['test_accuracy'].std()))\n",
    "print(\"%0.4f+%0.4f\" % (scores_res['test_precision_macro'].mean(), scores_res['test_precision_macro'].std()))\n",
    "print(\"%0.4f+%0.4f\" % (scores_res['test_recall_macro'].mean(), scores_res['test_recall_macro'].std()))\n",
    "print(\"%0.4f+%0.4f\" % (scores_res['test_f1_macro'].mean(), scores_res['test_f1_macro'].std()))\n",
    "print(\"%0.4f+%0.4f\" % (scores_res['test_f1_micro'].mean(), scores_res['test_f1_micro'].std()))"
   ]
  },
  {
   "cell_type": "code",
   "execution_count": null,
   "id": "0d558685-cc8b-4683-b016-8d0728d1118b",
   "metadata": {},
   "outputs": [],
   "source": [
    "from sklearn.metrics import classification_report, confusion_matrix\n",
    "print(confusion_matrix(y_test, y_pred))\n",
    "print(classification_report(y_test, y_pred))"
   ]
  }
 ],
 "metadata": {
  "kernelspec": {
   "display_name": "python3",
   "language": "python",
   "name": "python3"
  }
 },
 "nbformat": 4,
 "nbformat_minor": 5
}
