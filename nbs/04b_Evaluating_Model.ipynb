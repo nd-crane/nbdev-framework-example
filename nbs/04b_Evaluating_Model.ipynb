{
 "cells": [
  {
   "cell_type": "code",
   "execution_count": 1,
   "id": "dc1bad05-f1d0-4000-93b4-f785511dcff7",
   "metadata": {},
   "outputs": [
    {
     "name": "stdout",
     "output_type": "stream",
     "text": [
      "['/afs/crc.nd.edu/user/n/nclark3/Private/git/nbdev-framework-example/nbs', '/afs/crc.nd.edu/user/n/nclark3/Private/git/nbdev-framework-example/envs/lib/python39.zip', '/afs/crc.nd.edu/user/n/nclark3/Private/git/nbdev-framework-example/envs/lib/python3.9', '/afs/crc.nd.edu/user/n/nclark3/Private/git/nbdev-framework-example/envs/lib/python3.9/lib-dynload', '', '/afs/crc.nd.edu/user/n/nclark3/Private/git/nbdev-framework-example/envs/lib/python3.9/site-packages', '/afs/crc.nd.edu/user/n/nclark3/Private/git/nbdev-framework-example/__pypackages__/3.9/lib']\n"
     ]
    }
   ],
   "source": [
    "#| hide\n",
    "import sys, os\n",
    "sys.path.append(os.path.abspath('../__pypackages__/3.9/lib/'))\n",
    "print(sys.path)"
   ]
  },
  {
   "cell_type": "code",
   "execution_count": 2,
   "id": "5c0783bb-b17d-4694-8017-f8ec7057bd31",
   "metadata": {},
   "outputs": [
    {
     "name": "stderr",
     "output_type": "stream",
     "text": [
      "/afs/crc.nd.edu/user/n/nclark3/Private/git/nbdev-framework-example/__pypackages__/3.9/lib/tqdm/auto.py:22: TqdmWarning: IProgress not found. Please update jupyter and ipywidgets. See https://ipywidgets.readthedocs.io/en/stable/user_install.html\n",
      "  from .autonotebook import tqdm as notebook_tqdm\n"
     ]
    }
   ],
   "source": [
    "from transformers import AutoModelForSequenceClassification, AutoTokenizer\n",
    "import pandas as pd\n",
    "from datasets import Dataset,DatasetDict,load_dataset\n",
    "import torch"
   ]
  },
  {
   "cell_type": "markdown",
   "id": "1496c729-e677-4711-be28-f7e5973fbc5c",
   "metadata": {},
   "source": [
    "# Evaluating Model"
   ]
  },
  {
   "cell_type": "code",
   "execution_count": 3,
   "id": "93f84ba0-7fb4-46d6-a8a7-82a87bbd0960",
   "metadata": {},
   "outputs": [],
   "source": [
    "cleaned_data = \"../data/processed-data/nn\""
   ]
  },
  {
   "cell_type": "markdown",
   "id": "170f8412-b4e0-4748-9bd0-caa56e87f05b",
   "metadata": {},
   "source": [
    "Define kfold for evaluation"
   ]
  },
  {
   "cell_type": "code",
   "execution_count": 4,
   "id": "e7866d8f-854e-4afe-be2f-cfdb419495b3",
   "metadata": {},
   "outputs": [],
   "source": [
    "kfold = 1"
   ]
  },
  {
   "cell_type": "markdown",
   "id": "91d76b60-6c0a-464e-8458-100dc63971bc",
   "metadata": {},
   "source": [
    "Load Evaluation Dataset"
   ]
  },
  {
   "cell_type": "code",
   "execution_count": 5,
   "id": "e030c930-6514-41d0-87d2-edf1e441204d",
   "metadata": {},
   "outputs": [],
   "source": [
    "val_dataset = pd.read_csv(f'{cleaned_data}/val/FAA-{kfold}.csv',header=0)"
   ]
  },
  {
   "cell_type": "code",
   "execution_count": 6,
   "id": "f222d601-f2d8-4292-84ea-feeab14c10ce",
   "metadata": {},
   "outputs": [
    {
     "data": {
      "text/plain": [
       "(440, 2)"
      ]
     },
     "execution_count": 6,
     "metadata": {},
     "output_type": "execute_result"
    }
   ],
   "source": [
    "#| hide\n",
    "assert val_dataset.shape == (440, 2)"
   ]
  },
  {
   "cell_type": "markdown",
   "id": "3eba951b-48cb-41af-9536-5e2dfca867e9",
   "metadata": {},
   "source": [
    "Import fine-tuned model"
   ]
  },
  {
   "cell_type": "code",
   "execution_count": 7,
   "id": "9af43fb8-acfa-40f8-8f52-d2c3c964a889",
   "metadata": {},
   "outputs": [],
   "source": [
    "model_path = '../output/model'\n",
    "model = AutoModelForSequenceClassification.from_pretrained(model_path)\n",
    "tokenizer = AutoTokenizer.from_pretrained(model_path)"
   ]
  },
  {
   "cell_type": "code",
   "execution_count": 8,
   "id": "e3cee456-64d6-41c7-9790-3683205b18b3",
   "metadata": {},
   "outputs": [],
   "source": [
    "text = val_dataset.text"
   ]
  },
  {
   "cell_type": "code",
   "execution_count": 9,
   "id": "0668470c-2c01-49f0-8437-0b62e2157dd0",
   "metadata": {},
   "outputs": [],
   "source": [
    "predictions = []\n",
    "actual_predictions = []\n",
    "\n",
    "for row in text:\n",
    "    inputs = tokenizer(row, return_tensors=\"pt\")\n",
    "    \n",
    "    with torch.no_grad():\n",
    "        logits = model(**inputs).logits\n",
    "    \n",
    "    predictions.append(logits)\n",
    "    actual_predictions.append(logits.argmax().item())"
   ]
  },
  {
   "cell_type": "markdown",
   "id": "702c9fa0-2f7d-4bd2-8a3d-a4879b43ab38",
   "metadata": {},
   "source": [
    "## Visualizations"
   ]
  },
  {
   "cell_type": "code",
   "execution_count": 10,
   "id": "99f9b01c-aec9-462a-95d7-091381f8b481",
   "metadata": {},
   "outputs": [],
   "source": [
    "import numpy as np\n",
    "import matplotlib.pyplot as plt\n",
    "import seaborn as sb"
   ]
  },
  {
   "cell_type": "markdown",
   "id": "091cb2b0-e8bf-4438-bbc9-70665fa9e5c2",
   "metadata": {},
   "source": [
    "### Prediction Heat Maps"
   ]
  },
  {
   "cell_type": "markdown",
   "id": "b70b7272-191b-4cb9-bb61-20fff025cd2b",
   "metadata": {},
   "source": [
    "Count correct predictions and add to heat map"
   ]
  },
  {
   "cell_type": "code",
   "execution_count": 11,
   "id": "0b190da5-7e3f-4187-8325-b603900b6365",
   "metadata": {},
   "outputs": [
    {
     "name": "stdout",
     "output_type": "stream",
     "text": [
      "Correct based on my actual predictions:  0.09772727272727273\n"
     ]
    }
   ],
   "source": [
    "correct = 0\n",
    "heat_map = np.zeros((7,7), dtype=float)\n",
    "\n",
    "for index, label in enumerate(val_dataset.label):\n",
    "    if label == actual_predictions[index]:\n",
    "        correct += 1\n",
    "    \n",
    "    heat_map[6 - actual_predictions[index]][label] = heat_map[ 6 - actual_predictions[index]][label] + 1\n",
    "\n",
    "print(\"Correct based on my actual predictions: \", correct/len(actual_predictions))"
   ]
  },
  {
   "cell_type": "markdown",
   "id": "b3b09be8-052e-4474-8f95-b13251a641b6",
   "metadata": {},
   "source": [
    "Normalize heat map"
   ]
  },
  {
   "cell_type": "code",
   "execution_count": 12,
   "id": "6a8788d4-b8a6-4a30-b19d-987672dd0cb5",
   "metadata": {},
   "outputs": [
    {
     "name": "stderr",
     "output_type": "stream",
     "text": [
      "/tmp/ipykernel_3087904/3763083728.py:8: RuntimeWarning: invalid value encountered in double_scalars\n",
      "  heat_map[i][j] = val / total\n"
     ]
    }
   ],
   "source": [
    "for i, category in enumerate(heat_map):\n",
    "    total = 0\n",
    "    \n",
    "    for val in category:\n",
    "        total = total + val\n",
    "        \n",
    "    for j, val in enumerate(category):\n",
    "        heat_map[i][j] = val / total"
   ]
  },
  {
   "cell_type": "markdown",
   "id": "b771c56c-93f5-4413-8a7a-b9273feb8877",
   "metadata": {},
   "source": [
    "Plot heat map"
   ]
  },
  {
   "cell_type": "code",
   "execution_count": 13,
   "id": "6eae21e9-d9b5-4bc3-98c7-e19b9a9e2ca1",
   "metadata": {},
   "outputs": [
    {
     "data": {
      "text/plain": [
       "<Axes: >"
      ]
     },
     "execution_count": 13,
     "metadata": {},
     "output_type": "execute_result"
    },
    {
     "data": {
      "image/png": "[encoded data removed]",
      "text/plain": [
       "<Figure size 1100x900 with 2 Axes>"
      ]
     },
     "metadata": {},
     "output_type": "display_data"
    }
   ],
   "source": [
    "fig, ax = plt.subplots(figsize=(11,9))\n",
    "fig.set_tight_layout(True)\n",
    "# color map\n",
    "labels = ['II','ME','AU','AF','DE','EQ','AI']\n",
    "y_labels = ['AI','EQ','DE','AF','AU','ME','II']\n",
    "sb.heatmap(heat_map,cmap=\"Blues\",xticklabels=labels, yticklabels=y_labels, annot=True)"
   ]
  },
  {
   "cell_type": "code",
   "execution_count": 14,
   "id": "fda025cb-25e1-429f-a045-b0e3594273d1",
   "metadata": {},
   "outputs": [],
   "source": [
    "fig.savefig(f'../output/visualizations/heatmap-{kfold}.pdf')"
   ]
  }
 ],
 "metadata": {
  "kernelspec": {
   "display_name": "FAA",
   "language": "python",
   "name": "faa"
  },
  "language_info": {
   "codemirror_mode": {
    "name": "ipython",
    "version": 3
   },
   "file_extension": ".py",
   "mimetype": "text/x-python",
   "name": "python",
   "nbconvert_exporter": "python",
   "pygments_lexer": "ipython3",
   "version": "3.9.16"
  }
 },
 "nbformat": 4,
 "nbformat_minor": 5
}
