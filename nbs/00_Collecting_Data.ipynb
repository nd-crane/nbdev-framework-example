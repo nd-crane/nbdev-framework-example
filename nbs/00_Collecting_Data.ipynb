{
 "cells": [
  {
   "cell_type": "code",
   "execution_count": 2,
   "id": "31cee8e1-780d-4192-ab0a-7471eadc69bb",
   "metadata": {},
   "outputs": [],
   "source": [
    "#|\n",
    "import pandas as pd"
   ]
  },
  {
   "cell_type": "markdown",
   "id": "3c14acf5-a03f-45b6-81ef-a837d5ffe62e",
   "metadata": {},
   "source": [
    "# Data Collection"
   ]
  },
  {
   "cell_type": "markdown",
   "id": "18154167-944b-4edc-9a3f-fb0d015ea7a6",
   "metadata": {},
   "source": [
    "When starting a new project, we'll load all raw data into the `data/raw-data/` directory.  Define the relative path here."
   ]
  },
  {
   "cell_type": "code",
   "execution_count": 3,
   "id": "f8b15d41-ae39-4c39-b19c-3ccee1c6c663",
   "metadata": {},
   "outputs": [],
   "source": [
    "raw_data = '../data/raw-data'"
   ]
  },
  {
   "cell_type": "markdown",
   "id": "ef61711f-e2bf-4826-b71d-5f8e8ce37a36",
   "metadata": {},
   "source": [
    "All working data will be saved in the `data/working-data/` directory"
   ]
  },
  {
   "cell_type": "code",
   "execution_count": 4,
   "id": "55f6a4fd-c386-4664-a81e-a367ef827811",
   "metadata": {},
   "outputs": [],
   "source": [
    "working_data = '../data/working-data'"
   ]
  },
  {
   "cell_type": "markdown",
   "id": "4a235ab7-9069-4267-a739-6c579e7495f4",
   "metadata": {},
   "source": [
    "## Data\n",
    "All of our data\n",
    "came from https://av-info.faa.gov/dd_sublevel.asp?Folder=%5CAID,\n",
    "which provides text files of flight incident records from 1975-2022\n",
    "in five year increments. We then converted the text files to CSV\n",
    "files using excel. "
   ]
  },
  {
   "cell_type": "markdown",
   "id": "98667002-6d3a-49b8-b43e-b726b8648a8d",
   "metadata": {},
   "source": [
    "Lets first import all datasets from our raw data directory"
   ]
  },
  {
   "cell_type": "code",
   "execution_count": 5,
   "id": "5a7f6ecc-df65-47df-9c86-ff76c3d7aa27",
   "metadata": {},
   "outputs": [],
   "source": [
    "dataset1 = f'{raw_data}/e1975_79.csv'\n",
    "dataset2 = f'{raw_data}/e1980_84.csv'\n",
    "dataset3 = f'{raw_data}/e1985_89.csv'\n",
    "dataset4 = f'{raw_data}/e1990_94.csv'\n",
    "dataset5 = f'{raw_data}/e1995_99.csv'\n",
    "dataset6 = f'{raw_data}/e2000_04.csv'\n",
    "dataset7 = f'{raw_data}/e2005_09.csv'\n",
    "dataset8 = f'{raw_data}/e2010_14.csv'\n",
    "dataset9 = f'{raw_data}/e2015_19.csv'\n",
    "dataset0 = f'{raw_data}/e2020_25.csv'"
   ]
  },
  {
   "cell_type": "markdown",
   "id": "86368324-2e0f-415b-9767-ee00a369808e",
   "metadata": {},
   "source": [
    "We then convert all daatasets to pandas dataframes"
   ]
  },
  {
   "cell_type": "code",
   "execution_count": 6,
   "id": "07558d1d-b498-4d37-9fdb-fb17cdb8d2bd",
   "metadata": {},
   "outputs": [
    {
     "name": "stderr",
     "output_type": "stream",
     "text": [
      "/tmp/ipykernel_3277784/4246310983.py:5: DtypeWarning: Columns (15,16,17,20,21,22,25,26,27,31,32,33,35,36,41,42,44,46,48) have mixed types. Specify dtype option on import or set low_memory=False.\n",
      "  df5 = pd.read_csv(dataset5, header = 0)\n",
      "/tmp/ipykernel_3277784/4246310983.py:8: DtypeWarning: Columns (2,3,4,5,6,7,8,9,10,11,12,13,14,15,18,22,24,26,31,36,41,42,43,45,49,50,54,57,61,65,69,70) have mixed types. Specify dtype option on import or set low_memory=False.\n",
      "  df8 = pd.read_csv(dataset8, header = 0)\n",
      "/tmp/ipykernel_3277784/4246310983.py:9: DtypeWarning: Columns (23,24,25,26,27,28,29,32,38,41,48,50,60,70,71) have mixed types. Specify dtype option on import or set low_memory=False.\n",
      "  df9 = pd.read_csv(dataset9, header = 0)\n"
     ]
    }
   ],
   "source": [
    "df1 = pd.read_csv(dataset1, header = 0)\n",
    "df2 = pd.read_csv(dataset2, header = 0)\n",
    "df3 = pd.read_csv(dataset3, header = 0)\n",
    "df4 = pd.read_csv(dataset4, header = 0)\n",
    "df5 = pd.read_csv(dataset5, header = 0)\n",
    "df6 = pd.read_csv(dataset6, header = 0)\n",
    "df7 = pd.read_csv(dataset7, header = 0)\n",
    "df8 = pd.read_csv(dataset8, header = 0)\n",
    "df9 = pd.read_csv(dataset9, header = 0)\n",
    "df0 = pd.read_csv(dataset0, header = 0)"
   ]
  },
  {
   "cell_type": "markdown",
   "id": "90abae22-423a-4e2f-88ba-b02440d664ae",
   "metadata": {},
   "source": [
    "As you can see, this data is not clean, we'll do that in our next step"
   ]
  },
  {
   "cell_type": "markdown",
   "id": "a5fe8aaa-824b-4b7c-8fb9-085e3cffe3ec",
   "metadata": {},
   "source": [
    "First, concat all data into one dataframe"
   ]
  },
  {
   "cell_type": "code",
   "execution_count": 7,
   "id": "597099ab-60a3-4985-a946-38afa5e4cb11",
   "metadata": {},
   "outputs": [],
   "source": [
    "df = pd.concat([df1,df2, df3, df4, df5, df6, df7, df8, df9, df0], ignore_index=True)\n",
    "df = df[['c5', 'remark']]"
   ]
  },
  {
   "cell_type": "markdown",
   "id": "b3c095d1-ca57-45aa-bb84-4a037a1e88cd",
   "metadata": {},
   "source": [
    "Then, save thte concatenated dataframe to our `working-data/` directory"
   ]
  },
  {
   "cell_type": "code",
   "execution_count": 8,
   "id": "a38a5501-bfad-4062-af4c-64972a9d506a",
   "metadata": {},
   "outputs": [],
   "source": [
    "df.to_csv(f'{working_data}/Concatenated_c5_data.csv')"
   ]
  },
  {
   "cell_type": "code",
   "execution_count": 9,
   "id": "618e243d-4cda-4cd3-9660-4597ab2be416",
   "metadata": {},
   "outputs": [
    {
     "data": {
      "text/plain": [
       "216005"
      ]
     },
     "execution_count": 9,
     "metadata": {},
     "output_type": "execute_result"
    }
   ],
   "source": [
    "df.shape[0]"
   ]
  },
  {
   "cell_type": "markdown",
   "id": "ee482bfc-5da3-4f6d-8e69-f6a42a632d0b",
   "metadata": {},
   "source": [
    "Save the dataframes as df1 and df2"
   ]
  },
  {
   "cell_type": "code",
   "execution_count": 11,
   "id": "98d8f735-c094-4af0-9d7e-a8f20b574e8a",
   "metadata": {},
   "outputs": [],
   "source": [
    "df1 = pd.read_csv(f\"{raw_data}/Maintenance_Text_data.csv\",encoding='latin-1', header=0, index_col=0)\n",
    "\n",
    "df2 = pd.read_csv(f\"{working_data}/Concatenated_c5_data.csv\",encoding='latin-1', header=0, index_col=0)"
   ]
  },
  {
   "cell_type": "markdown",
   "id": "c88e1b82-524b-45b2-bb00-5eaf8ccd91d6",
   "metadata": {},
   "source": [
    "Merge the dataframes"
   ]
  },
  {
   "cell_type": "code",
   "execution_count": 12,
   "id": "d4162143-c5ff-4bee-92e5-176386ca3225",
   "metadata": {},
   "outputs": [],
   "source": [
    "df = pd.merge(df1, df2, on=\"c5\")"
   ]
  },
  {
   "cell_type": "code",
   "execution_count": null,
   "id": "e607897a-921f-48e6-9730-eaaccb1a3968",
   "metadata": {},
   "outputs": [],
   "source": []
  }
 ],
 "metadata": {
  "kernelspec": {
   "display_name": "Python 3",
   "language": "python",
   "name": "python3"
  },
  "language_info": {
   "codemirror_mode": {
    "name": "ipython",
    "version": 3
   },
   "file_extension": ".py",
   "mimetype": "text/x-python",
   "name": "python",
   "nbconvert_exporter": "python",
   "pygments_lexer": "ipython3",
   "version": "3.9.15"
  }
 },
 "nbformat": 4,
 "nbformat_minor": 5
}
