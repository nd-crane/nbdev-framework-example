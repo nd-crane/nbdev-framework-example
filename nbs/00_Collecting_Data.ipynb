{
 "cells": [
  {
   "cell_type": "code",
   "execution_count": 2,
   "id": "5e9aa679-0993-4341-b65c-d7683919fa3f",
   "metadata": {},
   "outputs": [
    {
     "name": "stdout",
     "output_type": "stream",
     "text": [
      "['/afs/crc.nd.edu/user/n/nclark3/Private/git/nbdev-framework-example/nbs', '/afs/crc.nd.edu/user/n/nclark3/Private/git/nbdev-framework-example/envs/lib/python39.zip', '/afs/crc.nd.edu/user/n/nclark3/Private/git/nbdev-framework-example/envs/lib/python3.9', '/afs/crc.nd.edu/user/n/nclark3/Private/git/nbdev-framework-example/envs/lib/python3.9/lib-dynload', '', '/afs/crc.nd.edu/user/n/nclark3/Private/git/nbdev-framework-example/envs/lib/python3.9/site-packages', '/afs/crc.nd.edu/user/n/nclark3/Private/git/nbdev-framework-example/__pypackages__/3.9/lib']\n"
     ]
    }
   ],
   "source": [
    "#| hide\n",
    "import sys, os\n",
    "sys.path.append(os.path.abspath('../__pypackages__/3.9/lib/'))\n",
    "print(sys.path)"
   ]
  },
  {
   "cell_type": "code",
   "execution_count": 3,
   "id": "31cee8e1-780d-4192-ab0a-7471eadc69bb",
   "metadata": {},
   "outputs": [],
   "source": [
    "#| hide\n",
    "import pandas as pd"
   ]
  },
  {
   "cell_type": "markdown",
   "id": "3c14acf5-a03f-45b6-81ef-a837d5ffe62e",
   "metadata": {},
   "source": [
    "# Data Collection"
   ]
  },
  {
   "cell_type": "markdown",
   "id": "18154167-944b-4edc-9a3f-fb0d015ea7a6",
   "metadata": {},
   "source": [
    "When starting a new project, we'll load all raw data into the `data/raw-data/` directory.  Define the relative path here."
   ]
  },
  {
   "cell_type": "code",
   "execution_count": 4,
   "id": "f8b15d41-ae39-4c39-b19c-3ccee1c6c663",
   "metadata": {},
   "outputs": [],
   "source": [
    "raw_data = '../data/raw-data'"
   ]
  },
  {
   "cell_type": "markdown",
   "id": "ef61711f-e2bf-4826-b71d-5f8e8ce37a36",
   "metadata": {},
   "source": [
    "All working data will be saved in the `data/working-data/` directory"
   ]
  },
  {
   "cell_type": "code",
   "execution_count": 5,
   "id": "55f6a4fd-c386-4664-a81e-a367ef827811",
   "metadata": {},
   "outputs": [],
   "source": [
    "working_data = '../data/working-data'"
   ]
  },
  {
   "cell_type": "markdown",
   "id": "4a235ab7-9069-4267-a739-6c579e7495f4",
   "metadata": {},
   "source": [
    "## Data\n",
    "All of our data\n",
    "came from https://av-info.faa.gov/dd_sublevel.asp?Folder=%5CAID,\n",
    "which provides text files of flight incident records from 1975-2022\n",
    "in five year increments. We then converted the text files to CSV\n",
    "files using excel. "
   ]
  },
  {
   "cell_type": "markdown",
   "id": "98667002-6d3a-49b8-b43e-b726b8648a8d",
   "metadata": {},
   "source": [
    "Lets first import all datasets from our raw data directory"
   ]
  },
  {
   "cell_type": "code",
   "execution_count": 6,
   "id": "5a7f6ecc-df65-47df-9c86-ff76c3d7aa27",
   "metadata": {},
   "outputs": [],
   "source": [
    "dataset1 = f'{raw_data}/a1975_79.csv'\n",
    "dataset2 = f'{raw_data}/a1980_84.csv'\n",
    "dataset3 = f'{raw_data}/a1985_89.csv'\n",
    "dataset4 = f'{raw_data}/a1990_94.csv'\n",
    "dataset5 = f'{raw_data}/a1995_99.csv'\n",
    "dataset6 = f'{raw_data}/a2000_04.csv'\n",
    "dataset7 = f'{raw_data}/a2005_09.csv'\n",
    "dataset8 = f'{raw_data}/a2010_14.csv'\n",
    "dataset9 = f'{raw_data}/a2015_19.csv'\n",
    "dataset0 = f'{raw_data}/a2020_25.csv'"
   ]
  },
  {
   "cell_type": "markdown",
   "id": "86368324-2e0f-415b-9767-ee00a369808e",
   "metadata": {},
   "source": [
    "We then convert all daatasets to pandas dataframes"
   ]
  },
  {
   "cell_type": "code",
   "execution_count": 7,
   "id": "07558d1d-b498-4d37-9fdb-fb17cdb8d2bd",
   "metadata": {},
   "outputs": [
    {
     "name": "stderr",
     "output_type": "stream",
     "text": [
      "/tmp/ipykernel_2999366/4246310983.py:1: DtypeWarning: Columns (3,43,56,57,60,61,67,68,69,70,71,72,73,74,75,76,77,133) have mixed types. Specify dtype option on import or set low_memory=False.\n",
      "  df1 = pd.read_csv(dataset1, header = 0)\n",
      "/tmp/ipykernel_2999366/4246310983.py:2: DtypeWarning: Columns (2,3,58,74,77,80) have mixed types. Specify dtype option on import or set low_memory=False.\n",
      "  df2 = pd.read_csv(dataset2, header = 0)\n",
      "/tmp/ipykernel_2999366/4246310983.py:3: DtypeWarning: Columns (2,3,74,75,80,81) have mixed types. Specify dtype option on import or set low_memory=False.\n",
      "  df3 = pd.read_csv(dataset3, header = 0)\n",
      "/tmp/ipykernel_2999366/4246310983.py:4: DtypeWarning: Columns (80,81) have mixed types. Specify dtype option on import or set low_memory=False.\n",
      "  df4 = pd.read_csv(dataset4, header = 0)\n",
      "/tmp/ipykernel_2999366/4246310983.py:5: DtypeWarning: Columns (74,80,81,177,178,180,181,182,183,184,185,188) have mixed types. Specify dtype option on import or set low_memory=False.\n",
      "  df5 = pd.read_csv(dataset5, header = 0)\n",
      "/tmp/ipykernel_2999366/4246310983.py:6: DtypeWarning: Columns (2,3,68,74,80) have mixed types. Specify dtype option on import or set low_memory=False.\n",
      "  df6 = pd.read_csv(dataset6, header = 0)\n",
      "/tmp/ipykernel_2999366/4246310983.py:7: DtypeWarning: Columns (2,3,10,43,59,67,69,70,72,76,111) have mixed types. Specify dtype option on import or set low_memory=False.\n",
      "  df7 = pd.read_csv(dataset7, header = 0)\n",
      "/tmp/ipykernel_2999366/4246310983.py:8: DtypeWarning: Columns (5,6,7,8,9,22,29,30,42,58,59,62,63,66,76,81,177,178,180,183) have mixed types. Specify dtype option on import or set low_memory=False.\n",
      "  df8 = pd.read_csv(dataset8, header = 0)\n",
      "/tmp/ipykernel_2999366/4246310983.py:9: DtypeWarning: Columns (5,6,7,8,9,22,29,30,42,58,59,62,63,66,178,182) have mixed types. Specify dtype option on import or set low_memory=False.\n",
      "  df9 = pd.read_csv(dataset9, header = 0)\n",
      "/tmp/ipykernel_2999366/4246310983.py:10: DtypeWarning: Columns (5,6,7,8,9,22,29,30,42,58,59,62,63,66,178,181,182,183) have mixed types. Specify dtype option on import or set low_memory=False.\n",
      "  df0 = pd.read_csv(dataset0, header = 0)\n"
     ]
    }
   ],
   "source": [
    "df1 = pd.read_csv(dataset1, header = 0)\n",
    "df2 = pd.read_csv(dataset2, header = 0)\n",
    "df3 = pd.read_csv(dataset3, header = 0)\n",
    "df4 = pd.read_csv(dataset4, header = 0)\n",
    "df5 = pd.read_csv(dataset5, header = 0)\n",
    "df6 = pd.read_csv(dataset6, header = 0)\n",
    "df7 = pd.read_csv(dataset7, header = 0)\n",
    "df8 = pd.read_csv(dataset8, header = 0)\n",
    "df9 = pd.read_csv(dataset9, header = 0)\n",
    "df0 = pd.read_csv(dataset0, header = 0)"
   ]
  },
  {
   "cell_type": "markdown",
   "id": "90abae22-423a-4e2f-88ba-b02440d664ae",
   "metadata": {},
   "source": [
    "As you can see, this data is not clean, we'll do that in our next step"
   ]
  },
  {
   "cell_type": "markdown",
   "id": "a5fe8aaa-824b-4b7c-8fb9-085e3cffe3ec",
   "metadata": {},
   "source": [
    "First, concat all data into one dataframe to easlit work with all the data."
   ]
  },
  {
   "cell_type": "code",
   "execution_count": 8,
   "id": "597099ab-60a3-4985-a946-38afa5e4cb11",
   "metadata": {},
   "outputs": [],
   "source": [
    "df = pd.concat([df1, df2, df3, df4, df5, df6, df7, df8, df9, df0], ignore_index=True)\n"
   ]
  },
  {
   "cell_type": "markdown",
   "id": "b3c095d1-ca57-45aa-bb84-4a037a1e88cd",
   "metadata": {},
   "source": [
    "Then, save thte concatenated dataframe to our `working-data/` directory."
   ]
  },
  {
   "cell_type": "code",
   "execution_count": 9,
   "id": "a38a5501-bfad-4062-af4c-64972a9d506a",
   "metadata": {},
   "outputs": [],
   "source": [
    "df.to_csv(f'{working_data}/Concatenated_Orig_data.csv')"
   ]
  },
  {
   "cell_type": "code",
   "execution_count": null,
   "id": "a13f6b6e-ec38-4755-9543-e166bb197566",
   "metadata": {},
   "outputs": [],
   "source": [
    "#| hide\n",
    "assert df.shape == (215308, 190)"
   ]
  },
  {
   "cell_type": "code",
   "execution_count": 11,
   "id": "0eac12f0-07e0-41c7-aa01-9f84422c5b9a",
   "metadata": {},
   "outputs": [
    {
     "data": {
      "text/plain": [
       "(215308, 190)"
      ]
     },
     "execution_count": 11,
     "metadata": {},
     "output_type": "execute_result"
    }
   ],
   "source": [
    "df.shape"
   ]
  }
 ],
 "metadata": {
  "kernelspec": {
   "display_name": "FAA",
   "language": "python",
   "name": "faa"
  },
  "language_info": {
   "codemirror_mode": {
    "name": "ipython",
    "version": 3
   },
   "file_extension": ".py",
   "mimetype": "text/x-python",
   "name": "python",
   "nbconvert_exporter": "python",
   "pygments_lexer": "ipython3",
   "version": "3.9.16"
  }
 },
 "nbformat": 4,
 "nbformat_minor": 5
}
