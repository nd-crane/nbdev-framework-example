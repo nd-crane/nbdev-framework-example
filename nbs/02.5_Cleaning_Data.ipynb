{
 "cells": [
  {
   "cell_type": "code",
   "execution_count": 1,
   "id": "f7d81808-fe9b-4a5e-b44a-64014c4b7468",
   "metadata": {},
   "outputs": [
    {
     "name": "stdout",
     "output_type": "stream",
     "text": [
      "['/afs/crc.nd.edu/group/TAI/Users/painswor/nbdev-framework-example/nbs', '/opt/anaconda3/lib/python39.zip', '/opt/anaconda3/lib/python3.9', '/opt/anaconda3/lib/python3.9/lib-dynload', '', '/afs/crc.nd.edu/user/p/painswor/.local/lib/python3.9/site-packages', '/opt/anaconda3/lib/python3.9/site-packages', '/opt/anaconda3/lib/python3.9/site-packages/IPython/extensions', '/afs/crc.nd.edu/user/p/painswor/.ipython', '../__pypackages__/3.9/lib/']\n"
     ]
    }
   ],
   "source": [
    "#| hide\n",
    "import sys\n",
    "sys.path.append('../__pypackages__/3.9/lib/')\n",
    "print(sys.path)"
   ]
  },
  {
   "cell_type": "markdown",
   "id": "78c2ee62-1731-4cc0-8b7d-e34bab53ca31",
   "metadata": {},
   "source": [
    "# Cleaning Data"
   ]
  },
  {
   "cell_type": "markdown",
   "id": "3fb992f7-6b62-4f73-8b09-11a7743fb4c8",
   "metadata": {},
   "source": [
    "## Importing Data"
   ]
  },
  {
   "cell_type": "code",
   "execution_count": 2,
   "id": "8a17db1e-d2f0-4832-8c31-2573a0380933",
   "metadata": {},
   "outputs": [],
   "source": [
    "import pandas as pd"
   ]
  },
  {
   "cell_type": "markdown",
   "id": "91d5134c-9491-4c90-b61e-8bee327c3f4c",
   "metadata": {},
   "source": [
    "First lets define where our data is located"
   ]
  },
  {
   "cell_type": "code",
   "execution_count": 17,
   "id": "734944cd-cf7f-4d07-9387-bb53838ee4d3",
   "metadata": {},
   "outputs": [],
   "source": [
    "data_location = \"../data/cleaned-data\""
   ]
  },
  {
   "cell_type": "markdown",
   "id": "afb1f0b9-75fd-445e-994b-ceda5cd0015f",
   "metadata": {},
   "source": [
    "And define where to store our cleaned data"
   ]
  },
  {
   "cell_type": "code",
   "execution_count": 18,
   "id": "633d8f48-417a-449e-ac3e-c613a8ad469f",
   "metadata": {},
   "outputs": [],
   "source": [
    "cleaned_data = \"../data/cleaned-data\""
   ]
  },
  {
   "cell_type": "markdown",
   "id": "296e9271-05ca-40c0-997a-eae65e7bc3e2",
   "metadata": {},
   "source": [
    "Now we can import our data"
   ]
  },
  {
   "cell_type": "code",
   "execution_count": 7,
   "id": "0143b411-e543-47be-be1c-7f989c50de3f",
   "metadata": {},
   "outputs": [
    {
     "data": {
      "text/plain": [
       "(2763, 34)"
      ]
     },
     "execution_count": 7,
     "metadata": {},
     "output_type": "execute_result"
    }
   ],
   "source": [
    "raw_data = pd.read_csv(f'{data_location}/Maintenance_Text_data.csv')\n",
    "raw_data.shape"
   ]
  },
  {
   "cell_type": "markdown",
   "id": "2a3cca50-463d-4dc0-9bae-7ce6ae04c991",
   "metadata": {},
   "source": [
    "## Feature Extraction"
   ]
  },
  {
   "cell_type": "markdown",
   "id": "586593d7-d4e1-483f-a67b-8da64134dc37",
   "metadata": {},
   "source": [
    "Select the columns of relevance"
   ]
  },
  {
   "cell_type": "code",
   "execution_count": 8,
   "id": "4e231469-1ba3-4c90-8506-408f107213fb",
   "metadata": {},
   "outputs": [
    {
     "data": {
      "text/html": [
       "<div>\n",
       "<style scoped>\n",
       "    .dataframe tbody tr th:only-of-type {\n",
       "        vertical-align: middle;\n",
       "    }\n",
       "\n",
       "    .dataframe tbody tr th {\n",
       "        vertical-align: top;\n",
       "    }\n",
       "\n",
       "    .dataframe thead th {\n",
       "        text-align: right;\n",
       "    }\n",
       "</style>\n",
       "<table border=\"1\" class=\"dataframe\">\n",
       "  <thead>\n",
       "    <tr style=\"text-align: right;\">\n",
       "      <th></th>\n",
       "      <th>text</th>\n",
       "      <th>label</th>\n",
       "    </tr>\n",
       "  </thead>\n",
       "  <tbody>\n",
       "    <tr>\n",
       "      <th>0</th>\n",
       "      <td>TAILWHEEL COCKED RIGHT PRIOR TO TKOF.         ...</td>\n",
       "      <td>AU</td>\n",
       "    </tr>\n",
       "    <tr>\n",
       "      <th>1</th>\n",
       "      <td>TOW PLANE BECAME AIRBORNE THEN SETTLED.STUDENT...</td>\n",
       "      <td>ME</td>\n",
       "    </tr>\n",
       "    <tr>\n",
       "      <th>2</th>\n",
       "      <td>2ND ILS APCH,ACFT'S G/S INOP.LOM TUNED TO WRON...</td>\n",
       "      <td>AU</td>\n",
       "    </tr>\n",
       "    <tr>\n",
       "      <th>3</th>\n",
       "      <td>PLT NOTED SOFT R BRAKE PEDAL DRG TAXI TO TKOF....</td>\n",
       "      <td>AU</td>\n",
       "    </tr>\n",
       "    <tr>\n",
       "      <th>4</th>\n",
       "      <td>TAXI OFF HARD SFC DUE TFC R MAIN GR BROKE THRO...</td>\n",
       "      <td>AF</td>\n",
       "    </tr>\n",
       "    <tr>\n",
       "      <th>...</th>\n",
       "      <td>...</td>\n",
       "      <td>...</td>\n",
       "    </tr>\n",
       "    <tr>\n",
       "      <th>2758</th>\n",
       "      <td>(-23) A/C RELOCATED TO NEW HANGAR TO CHECK SIZ...</td>\n",
       "      <td>II</td>\n",
       "    </tr>\n",
       "    <tr>\n",
       "      <th>2759</th>\n",
       "      <td>(-23) ON 2/23/08 @ APPROXIMATELY 2130 DURING T...</td>\n",
       "      <td>AF</td>\n",
       "    </tr>\n",
       "    <tr>\n",
       "      <th>2760</th>\n",
       "      <td>(-23) PILOT TOOK OFF FOR LEESBURG AIRPORT AND ...</td>\n",
       "      <td>II</td>\n",
       "    </tr>\n",
       "    <tr>\n",
       "      <th>2761</th>\n",
       "      <td>(-23) OWNER FORGOT TO FASTEN THE LOWER LEFT 4 ...</td>\n",
       "      <td>II</td>\n",
       "    </tr>\n",
       "    <tr>\n",
       "      <th>2762</th>\n",
       "      <td>(-23) THE AIRCRAFT EXPERIENCED SEVERE TURBULAN...</td>\n",
       "      <td>ME</td>\n",
       "    </tr>\n",
       "  </tbody>\n",
       "</table>\n",
       "<p>2763 rows × 2 columns</p>\n",
       "</div>"
      ],
      "text/plain": [
       "                                                   text label\n",
       "0     TAILWHEEL COCKED RIGHT PRIOR TO TKOF.         ...    AU\n",
       "1     TOW PLANE BECAME AIRBORNE THEN SETTLED.STUDENT...    ME\n",
       "2     2ND ILS APCH,ACFT'S G/S INOP.LOM TUNED TO WRON...    AU\n",
       "3     PLT NOTED SOFT R BRAKE PEDAL DRG TAXI TO TKOF....    AU\n",
       "4     TAXI OFF HARD SFC DUE TFC R MAIN GR BROKE THRO...    AF\n",
       "...                                                 ...   ...\n",
       "2758  (-23) A/C RELOCATED TO NEW HANGAR TO CHECK SIZ...    II\n",
       "2759  (-23) ON 2/23/08 @ APPROXIMATELY 2130 DURING T...    AF\n",
       "2760  (-23) PILOT TOOK OFF FOR LEESBURG AIRPORT AND ...    II\n",
       "2761  (-23) OWNER FORGOT TO FASTEN THE LOWER LEFT 4 ...    II\n",
       "2762  (-23) THE AIRCRAFT EXPERIENCED SEVERE TURBULAN...    ME\n",
       "\n",
       "[2763 rows x 2 columns]"
      ]
     },
     "execution_count": 8,
     "metadata": {},
     "output_type": "execute_result"
    }
   ],
   "source": [
    "df = pd.DataFrame()\n",
    "df['text'] = raw_data['c119']\n",
    "df['label'] = raw_data['c78']\n",
    "df"
   ]
  },
  {
   "cell_type": "markdown",
   "id": "dea6856d-729f-4009-9416-782f41b8bfea",
   "metadata": {},
   "source": [
    "## Cleaning Dataframe"
   ]
  },
  {
   "cell_type": "code",
   "execution_count": 9,
   "id": "5decc243-cfca-44b9-9e44-d65ae7500225",
   "metadata": {},
   "outputs": [
    {
     "data": {
      "text/plain": [
       "text     15\n",
       "label     0\n",
       "dtype: int64"
      ]
     },
     "execution_count": 9,
     "metadata": {},
     "output_type": "execute_result"
    }
   ],
   "source": [
    "df.isna().sum()"
   ]
  },
  {
   "cell_type": "markdown",
   "id": "aec2953b-2a0e-4727-8eb3-55e3350105eb",
   "metadata": {},
   "source": [
    "Remove NaN values"
   ]
  },
  {
   "cell_type": "code",
   "execution_count": 10,
   "id": "cb4ad6f3-6136-4f49-9f60-6dc5a538e8a6",
   "metadata": {},
   "outputs": [],
   "source": [
    "df = df.fillna('Null')\n",
    "df = df[df['text'] != 'Null']"
   ]
  },
  {
   "cell_type": "markdown",
   "id": "3a597d00-3173-4c7c-a106-9f1203e57987",
   "metadata": {},
   "source": [
    "Check there are no missing values left"
   ]
  },
  {
   "cell_type": "code",
   "execution_count": 11,
   "id": "5204971e-0d8e-49bb-b3d7-5fd106f5c4fb",
   "metadata": {},
   "outputs": [
    {
     "data": {
      "text/plain": [
       "text     0\n",
       "label    0\n",
       "dtype: int64"
      ]
     },
     "execution_count": 11,
     "metadata": {},
     "output_type": "execute_result"
    }
   ],
   "source": [
    "df.isna().sum()"
   ]
  },
  {
   "cell_type": "code",
   "execution_count": 12,
   "id": "cac1a779-aa55-439b-b67d-a330fccf7168",
   "metadata": {},
   "outputs": [
    {
     "data": {
      "text/html": [
       "<div>\n",
       "<style scoped>\n",
       "    .dataframe tbody tr th:only-of-type {\n",
       "        vertical-align: middle;\n",
       "    }\n",
       "\n",
       "    .dataframe tbody tr th {\n",
       "        vertical-align: top;\n",
       "    }\n",
       "\n",
       "    .dataframe thead th {\n",
       "        text-align: right;\n",
       "    }\n",
       "</style>\n",
       "<table border=\"1\" class=\"dataframe\">\n",
       "  <thead>\n",
       "    <tr style=\"text-align: right;\">\n",
       "      <th></th>\n",
       "      <th>text</th>\n",
       "      <th>label</th>\n",
       "    </tr>\n",
       "  </thead>\n",
       "  <tbody>\n",
       "    <tr>\n",
       "      <th>count</th>\n",
       "      <td>2748</td>\n",
       "      <td>2748</td>\n",
       "    </tr>\n",
       "    <tr>\n",
       "      <th>unique</th>\n",
       "      <td>2742</td>\n",
       "      <td>8</td>\n",
       "    </tr>\n",
       "    <tr>\n",
       "      <th>top</th>\n",
       "      <td>FORCED LANDING AFTER POWER LOSS. FOUND WATER I...</td>\n",
       "      <td>II</td>\n",
       "    </tr>\n",
       "    <tr>\n",
       "      <th>freq</th>\n",
       "      <td>4</td>\n",
       "      <td>1942</td>\n",
       "    </tr>\n",
       "  </tbody>\n",
       "</table>\n",
       "</div>"
      ],
      "text/plain": [
       "                                                     text label\n",
       "count                                                2748  2748\n",
       "unique                                               2742     8\n",
       "top     FORCED LANDING AFTER POWER LOSS. FOUND WATER I...    II\n",
       "freq                                                    4  1942"
      ]
     },
     "execution_count": 12,
     "metadata": {},
     "output_type": "execute_result"
    }
   ],
   "source": [
    "df.describe(include=[object])"
   ]
  },
  {
   "cell_type": "markdown",
   "id": "938df828-d057-49a5-90c6-83254e19c30b",
   "metadata": {},
   "source": [
    "Remove rows with one occurance"
   ]
  },
  {
   "cell_type": "code",
   "execution_count": 13,
   "id": "73de6200-8fef-4649-a95c-7afc6ac5af78",
   "metadata": {},
   "outputs": [],
   "source": [
    "counts = df['label'].value_counts()\n",
    "df = df[df['label'].isin(counts[counts > 1].index)]"
   ]
  },
  {
   "cell_type": "markdown",
   "id": "94a5c215-34f0-4d5c-bfd1-f9ac269f5c75",
   "metadata": {},
   "source": [
    "## Splitting Data"
   ]
  },
  {
   "cell_type": "code",
   "execution_count": 22,
   "id": "3425ab52-7427-4e4d-9fc5-0201ab634469",
   "metadata": {},
   "outputs": [],
   "source": [
    "from sklearn.model_selection import StratifiedShuffleSplit, train_test_split"
   ]
  },
  {
   "cell_type": "markdown",
   "id": "35967627-887c-4d84-8bb4-29e03fdbb172",
   "metadata": {},
   "source": [
    "We'll split data into training (60%), testing (20%), and validating (20%)"
   ]
  },
  {
   "cell_type": "code",
   "execution_count": 23,
   "id": "7146f8f3-f451-492f-86fd-7559c8cd5a7d",
   "metadata": {},
   "outputs": [],
   "source": [
    "X, y = df['text'], df['label']"
   ]
  },
  {
   "cell_type": "code",
   "execution_count": 24,
   "id": "7f986110-737e-43db-b0e2-cbe857ff1671",
   "metadata": {},
   "outputs": [],
   "source": [
    "for i, (train_index, test_index) in enumerate(ss.split(X, y)):\n",
    "    X_train , X_test = X.iloc[train_index],X.iloc[test_index]\n",
    "    y_train , y_test = y.iloc[train_index] , y.iloc[test_index]\n",
    "    X_train, X_val, y_train, y_val = train_test_split(X_train, y_train, test_size=.20, random_state=0)\n",
    "    \n",
    "    Encoder = LabelEncoder()\n",
    "    y_train = Encoder.fit_transform(y_train)\n",
    "    y_test = Encoder.fit_transform(y_test)\n",
    "    y_val_encode = Encoder.fit_transform(y_val)\n",
    "    \n",
    "    final_train = pd.DataFrame({'text':X_train,'label':y_train})\n",
    "    final_test = pd.DataFrame({'text':X_test,'label':y_test})\n",
    "    final_val = pd.DataFrame({'text':X_val,'label':y_val_encode})\n",
    "    \n",
    "    final_train.to_csv(f'{cleaned_data}/train/FAA-{i}.csv', index=False)\n",
    "    final_test.to_csv(f'{cleaned_data}/test/FAA-{i}.csv', index=False)\n",
    "    final_val.to_csv(f'{cleaned_data}/val/FAA-{i}.csv', index=False)\n",
    "    y_val.to_csv(f'{cleaned_data}/actual/FAA-{i}.csv', index=False)"
   ]
  }
 ],
 "metadata": {
  "kernelspec": {
   "display_name": "Python 3",
   "language": "python",
   "name": "python3"
  },
  "language_info": {
   "codemirror_mode": {
    "name": "ipython",
    "version": 3
   },
   "file_extension": ".py",
   "mimetype": "text/x-python",
   "name": "python",
   "nbconvert_exporter": "python",
   "pygments_lexer": "ipython3",
   "version": "3.9.15"
  }
 },
 "nbformat": 4,
 "nbformat_minor": 5
}
