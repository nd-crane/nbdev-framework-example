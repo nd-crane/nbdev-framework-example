{
 "cells": [
  {
   "cell_type": "code",
   "execution_count": 1,
   "id": "31cee8e1-780d-4192-ab0a-7471eadc69bb",
   "metadata": {
    "papermill": {
     "duration": 0.404285,
     "end_time": "2023-03-29T22:05:50.630851",
     "exception": false,
     "start_time": "2023-03-29T22:05:50.226566",
     "status": "completed"
    },
    "tags": []
   },
   "outputs": [],
   "source": [
    "#| hide\n",
    "import pandas as pd"
   ]
  },
  {
   "cell_type": "markdown",
   "id": "3c14acf5-a03f-45b6-81ef-a837d5ffe62e",
   "metadata": {
    "papermill": {
     "duration": 0.02211,
     "end_time": "2023-03-29T22:05:50.675942",
     "exception": false,
     "start_time": "2023-03-29T22:05:50.653832",
     "status": "completed"
    },
    "tags": []
   },
   "source": [
    "# Data Collection"
   ]
  },
  {
   "cell_type": "markdown",
   "id": "18154167-944b-4edc-9a3f-fb0d015ea7a6",
   "metadata": {
    "papermill": {
     "duration": 0.021731,
     "end_time": "2023-03-29T22:05:50.720726",
     "exception": false,
     "start_time": "2023-03-29T22:05:50.698995",
     "status": "completed"
    },
    "tags": []
   },
   "source": [
    "When starting a new project, we'll load all raw data into the `data/raw-data/` directory.  Define the relative path here."
   ]
  },
  {
   "cell_type": "code",
   "execution_count": 2,
   "id": "f8b15d41-ae39-4c39-b19c-3ccee1c6c663",
   "metadata": {
    "papermill": {
     "duration": 0.035014,
     "end_time": "2023-03-29T22:05:50.778893",
     "exception": false,
     "start_time": "2023-03-29T22:05:50.743879",
     "status": "completed"
    },
    "tags": []
   },
   "outputs": [],
   "source": [
    "raw_data = '../data/raw-data'"
   ]
  },
  {
   "cell_type": "markdown",
   "id": "4a235ab7-9069-4267-a739-6c579e7495f4",
   "metadata": {
    "papermill": {
     "duration": 0.019117,
     "end_time": "2023-03-29T22:05:50.820811",
     "exception": false,
     "start_time": "2023-03-29T22:05:50.801694",
     "status": "completed"
    },
    "tags": []
   },
   "source": [
    "## Data\n",
    "All of our data\n",
    "came from https://av-info.faa.gov/dd_sublevel.asp?Folder=%5CAID,\n",
    "which provides text files of flight incident records from 1975-2022\n",
    "in five year increments. We then converted the text files to CSV\n",
    "files using excel. "
   ]
  },
  {
   "cell_type": "markdown",
   "id": "98667002-6d3a-49b8-b43e-b726b8648a8d",
   "metadata": {
    "papermill": {
     "duration": 0.023045,
     "end_time": "2023-03-29T22:05:50.866861",
     "exception": false,
     "start_time": "2023-03-29T22:05:50.843816",
     "status": "completed"
    },
    "tags": []
   },
   "source": [
    "Lets first import all datasets from our raw data directory"
   ]
  },
  {
   "cell_type": "code",
   "execution_count": 3,
   "id": "5a7f6ecc-df65-47df-9c86-ff76c3d7aa27",
   "metadata": {
    "papermill": {
     "duration": 0.037675,
     "end_time": "2023-03-29T22:05:50.927667",
     "exception": false,
     "start_time": "2023-03-29T22:05:50.889992",
     "status": "completed"
    },
    "tags": []
   },
   "outputs": [],
   "source": [
    "dataset1 = f'{raw_data}/a1975_79.csv'\n",
    "dataset2 = f'{raw_data}/a1980_84.csv'\n",
    "dataset3 = f'{raw_data}/a1985_89.csv'\n",
    "dataset4 = f'{raw_data}/a1990_94.csv'\n",
    "dataset5 = f'{raw_data}/a1995_99.csv'\n",
    "dataset6 = f'{raw_data}/a2000_04.csv'\n",
    "dataset7 = f'{raw_data}/a2005_09.csv'\n",
    "dataset8 = f'{raw_data}/a2010_14.csv'\n",
    "dataset9 = f'{raw_data}/a2015_19.csv'\n",
    "dataset0 = f'{raw_data}/a2020_25.csv'"
   ]
  },
  {
   "cell_type": "markdown",
   "id": "86368324-2e0f-415b-9767-ee00a369808e",
   "metadata": {
    "papermill": {
     "duration": 0.02268,
     "end_time": "2023-03-29T22:05:50.971390",
     "exception": false,
     "start_time": "2023-03-29T22:05:50.948710",
     "status": "completed"
    },
    "tags": []
   },
   "source": [
    "We then convert all daatasets to pandas dataframes"
   ]
  },
  {
   "cell_type": "code",
   "execution_count": 4,
   "id": "07558d1d-b498-4d37-9fdb-fb17cdb8d2bd",
   "metadata": {
    "papermill": {
     "duration": 8.680897,
     "end_time": "2023-03-29T22:05:59.675430",
     "exception": false,
     "start_time": "2023-03-29T22:05:50.994533",
     "status": "completed"
    },
    "tags": []
   },
   "outputs": [
    {
     "name": "stderr",
     "output_type": "stream",
     "text": [
      "/tmp/ipykernel_439980/4246310983.py:1: DtypeWarning: Columns (3,43,56,57,60,61,67,68,69,70,71,72,73,74,75,76,77,133) have mixed types. Specify dtype option on import or set low_memory=False.\n",
      "  df1 = pd.read_csv(dataset1, header = 0)\n",
      "/tmp/ipykernel_439980/4246310983.py:2: DtypeWarning: Columns (2,3,58,74,77,80) have mixed types. Specify dtype option on import or set low_memory=False.\n",
      "  df2 = pd.read_csv(dataset2, header = 0)\n",
      "/tmp/ipykernel_439980/4246310983.py:3: DtypeWarning: Columns (2,3,74,75,80,81) have mixed types. Specify dtype option on import or set low_memory=False.\n",
      "  df3 = pd.read_csv(dataset3, header = 0)\n",
      "/tmp/ipykernel_439980/4246310983.py:4: DtypeWarning: Columns (80,81) have mixed types. Specify dtype option on import or set low_memory=False.\n",
      "  df4 = pd.read_csv(dataset4, header = 0)\n",
      "/tmp/ipykernel_439980/4246310983.py:5: DtypeWarning: Columns (74,80,81,177,178,180,181,182,183,184,185,188) have mixed types. Specify dtype option on import or set low_memory=False.\n",
      "  df5 = pd.read_csv(dataset5, header = 0)\n",
      "/tmp/ipykernel_439980/4246310983.py:6: DtypeWarning: Columns (2,3,68,74,80) have mixed types. Specify dtype option on import or set low_memory=False.\n",
      "  df6 = pd.read_csv(dataset6, header = 0)\n",
      "/tmp/ipykernel_439980/4246310983.py:7: DtypeWarning: Columns (2,3,10,43,59,67,69,70,72,76,111) have mixed types. Specify dtype option on import or set low_memory=False.\n",
      "  df7 = pd.read_csv(dataset7, header = 0)\n",
      "/tmp/ipykernel_439980/4246310983.py:8: DtypeWarning: Columns (5,6,7,8,9,22,29,30,42,58,59,62,63,66,76,81,177,178,180,183) have mixed types. Specify dtype option on import or set low_memory=False.\n",
      "  df8 = pd.read_csv(dataset8, header = 0)\n",
      "/tmp/ipykernel_439980/4246310983.py:9: DtypeWarning: Columns (5,6,7,8,9,22,29,30,42,58,59,62,63,66,178,182) have mixed types. Specify dtype option on import or set low_memory=False.\n",
      "  df9 = pd.read_csv(dataset9, header = 0)\n",
      "/tmp/ipykernel_439980/4246310983.py:10: DtypeWarning: Columns (5,6,7,8,9,22,29,30,42,58,59,62,63,66,178,181,182,183) have mixed types. Specify dtype option on import or set low_memory=False.\n",
      "  df0 = pd.read_csv(dataset0, header = 0)\n"
     ]
    }
   ],
   "source": [
    "df1 = pd.read_csv(dataset1, header = 0)\n",
    "df2 = pd.read_csv(dataset2, header = 0)\n",
    "df3 = pd.read_csv(dataset3, header = 0)\n",
    "df4 = pd.read_csv(dataset4, header = 0)\n",
    "df5 = pd.read_csv(dataset5, header = 0)\n",
    "df6 = pd.read_csv(dataset6, header = 0)\n",
    "df7 = pd.read_csv(dataset7, header = 0)\n",
    "df8 = pd.read_csv(dataset8, header = 0)\n",
    "df9 = pd.read_csv(dataset9, header = 0)\n",
    "df0 = pd.read_csv(dataset0, header = 0)"
   ]
  },
  {
   "cell_type": "markdown",
   "id": "90abae22-423a-4e2f-88ba-b02440d664ae",
   "metadata": {
    "papermill": {
     "duration": 0.030559,
     "end_time": "2023-03-29T22:05:59.734064",
     "exception": false,
     "start_time": "2023-03-29T22:05:59.703505",
     "status": "completed"
    },
    "tags": []
   },
   "source": [
    "As you can see, this data is not clean, we'll do that in our next step"
   ]
  },
  {
   "cell_type": "markdown",
   "id": "a5fe8aaa-824b-4b7c-8fb9-085e3cffe3ec",
   "metadata": {
    "papermill": {
     "duration": 0.02807,
     "end_time": "2023-03-29T22:05:59.789509",
     "exception": false,
     "start_time": "2023-03-29T22:05:59.761439",
     "status": "completed"
    },
    "tags": []
   },
   "source": [
    "First, concat all data into one dataframe to easlit work with all the data."
   ]
  },
  {
   "cell_type": "code",
   "execution_count": 5,
   "id": "597099ab-60a3-4985-a946-38afa5e4cb11",
   "metadata": {
    "papermill": {
     "duration": 0.786068,
     "end_time": "2023-03-29T22:06:00.604330",
     "exception": false,
     "start_time": "2023-03-29T22:05:59.818262",
     "status": "completed"
    },
    "tags": []
   },
   "outputs": [],
   "source": [
    "df = pd.concat([df1, df2, df3, df4, df5, df6, df7, df8, df9, df0], ignore_index=True)\n"
   ]
  },
  {
   "cell_type": "code",
   "execution_count": 6,
   "id": "c034175e",
   "metadata": {
    "papermill": {
     "duration": 0.567888,
     "end_time": "2023-03-29T22:06:01.200427",
     "exception": false,
     "start_time": "2023-03-29T22:06:00.632539",
     "status": "completed"
    },
    "tags": []
   },
   "outputs": [
    {
     "data": {
      "text/html": [
       "<div>\n",
       "<style scoped>\n",
       "    .dataframe tbody tr th:only-of-type {\n",
       "        vertical-align: middle;\n",
       "    }\n",
       "\n",
       "    .dataframe tbody tr th {\n",
       "        vertical-align: top;\n",
       "    }\n",
       "\n",
       "    .dataframe thead th {\n",
       "        text-align: right;\n",
       "    }\n",
       "</style>\n",
       "<table border=\"1\" class=\"dataframe\">\n",
       "  <thead>\n",
       "    <tr style=\"text-align: right;\">\n",
       "      <th></th>\n",
       "      <th>c5</th>\n",
       "      <th>c1</th>\n",
       "      <th>c2</th>\n",
       "      <th>c3</th>\n",
       "      <th>c4</th>\n",
       "      <th>c6</th>\n",
       "      <th>c7</th>\n",
       "      <th>c8</th>\n",
       "      <th>c9</th>\n",
       "      <th>c10</th>\n",
       "      <th>...</th>\n",
       "      <th>32</th>\n",
       "      <th>Unnamed: 180</th>\n",
       "      <th>Unnamed: 181</th>\n",
       "      <th>Unnamed: 182</th>\n",
       "      <th>Unnamed: 183</th>\n",
       "      <th>Unnamed: 184</th>\n",
       "      <th>Unnamed: 185</th>\n",
       "      <th>Unnamed: 186</th>\n",
       "      <th>Unnamed: 187</th>\n",
       "      <th>Unnamed: 188</th>\n",
       "    </tr>\n",
       "  </thead>\n",
       "  <tbody>\n",
       "    <tr>\n",
       "      <th>0</th>\n",
       "      <td>19750101000049A</td>\n",
       "      <td>A</td>\n",
       "      <td></td>\n",
       "      <td>0.4</td>\n",
       "      <td></td>\n",
       "      <td>1975</td>\n",
       "      <td>1</td>\n",
       "      <td>1</td>\n",
       "      <td>19750101</td>\n",
       "      <td></td>\n",
       "      <td>...</td>\n",
       "      <td>NaN</td>\n",
       "      <td>NaN</td>\n",
       "      <td>NaN</td>\n",
       "      <td>NaN</td>\n",
       "      <td>NaN</td>\n",
       "      <td>NaN</td>\n",
       "      <td>NaN</td>\n",
       "      <td>NaN</td>\n",
       "      <td>NaN</td>\n",
       "      <td>NaN</td>\n",
       "    </tr>\n",
       "    <tr>\n",
       "      <th>1</th>\n",
       "      <td>19750101000129A</td>\n",
       "      <td>A</td>\n",
       "      <td></td>\n",
       "      <td>0.4</td>\n",
       "      <td></td>\n",
       "      <td>1975</td>\n",
       "      <td>1</td>\n",
       "      <td>1</td>\n",
       "      <td>19750101</td>\n",
       "      <td></td>\n",
       "      <td>...</td>\n",
       "      <td>NaN</td>\n",
       "      <td>NaN</td>\n",
       "      <td>NaN</td>\n",
       "      <td>NaN</td>\n",
       "      <td>NaN</td>\n",
       "      <td>NaN</td>\n",
       "      <td>NaN</td>\n",
       "      <td>NaN</td>\n",
       "      <td>NaN</td>\n",
       "      <td>NaN</td>\n",
       "    </tr>\n",
       "    <tr>\n",
       "      <th>2</th>\n",
       "      <td>19750101000139A</td>\n",
       "      <td>A</td>\n",
       "      <td></td>\n",
       "      <td>0.4</td>\n",
       "      <td></td>\n",
       "      <td>1975</td>\n",
       "      <td>1</td>\n",
       "      <td>1</td>\n",
       "      <td>19750101</td>\n",
       "      <td></td>\n",
       "      <td>...</td>\n",
       "      <td>NaN</td>\n",
       "      <td>NaN</td>\n",
       "      <td>NaN</td>\n",
       "      <td>NaN</td>\n",
       "      <td>NaN</td>\n",
       "      <td>NaN</td>\n",
       "      <td>NaN</td>\n",
       "      <td>NaN</td>\n",
       "      <td>NaN</td>\n",
       "      <td>NaN</td>\n",
       "    </tr>\n",
       "    <tr>\n",
       "      <th>3</th>\n",
       "      <td>19750101000219A</td>\n",
       "      <td>A</td>\n",
       "      <td></td>\n",
       "      <td>0.4</td>\n",
       "      <td></td>\n",
       "      <td>1975</td>\n",
       "      <td>1</td>\n",
       "      <td>1</td>\n",
       "      <td>19750101</td>\n",
       "      <td></td>\n",
       "      <td>...</td>\n",
       "      <td>NaN</td>\n",
       "      <td>NaN</td>\n",
       "      <td>NaN</td>\n",
       "      <td>NaN</td>\n",
       "      <td>NaN</td>\n",
       "      <td>NaN</td>\n",
       "      <td>NaN</td>\n",
       "      <td>NaN</td>\n",
       "      <td>NaN</td>\n",
       "      <td>NaN</td>\n",
       "    </tr>\n",
       "    <tr>\n",
       "      <th>4</th>\n",
       "      <td>19750101000229A</td>\n",
       "      <td>A</td>\n",
       "      <td></td>\n",
       "      <td>0.4</td>\n",
       "      <td></td>\n",
       "      <td>1975</td>\n",
       "      <td>1</td>\n",
       "      <td>1</td>\n",
       "      <td>19750101</td>\n",
       "      <td></td>\n",
       "      <td>...</td>\n",
       "      <td>NaN</td>\n",
       "      <td>NaN</td>\n",
       "      <td>NaN</td>\n",
       "      <td>NaN</td>\n",
       "      <td>NaN</td>\n",
       "      <td>NaN</td>\n",
       "      <td>NaN</td>\n",
       "      <td>NaN</td>\n",
       "      <td>NaN</td>\n",
       "      <td>NaN</td>\n",
       "    </tr>\n",
       "    <tr>\n",
       "      <th>...</th>\n",
       "      <td>...</td>\n",
       "      <td>...</td>\n",
       "      <td>...</td>\n",
       "      <td>...</td>\n",
       "      <td>...</td>\n",
       "      <td>...</td>\n",
       "      <td>...</td>\n",
       "      <td>...</td>\n",
       "      <td>...</td>\n",
       "      <td>...</td>\n",
       "      <td>...</td>\n",
       "      <td>...</td>\n",
       "      <td>...</td>\n",
       "      <td>...</td>\n",
       "      <td>...</td>\n",
       "      <td>...</td>\n",
       "      <td>...</td>\n",
       "      <td>...</td>\n",
       "      <td>...</td>\n",
       "      <td>...</td>\n",
       "      <td>...</td>\n",
       "    </tr>\n",
       "    <tr>\n",
       "      <th>215303</th>\n",
       "      <td>20220207001489I</td>\n",
       "      <td>I</td>\n",
       "      <td>91</td>\n",
       "      <td></td>\n",
       "      <td></td>\n",
       "      <td>2022</td>\n",
       "      <td>2</td>\n",
       "      <td>7</td>\n",
       "      <td>20220207</td>\n",
       "      <td>1505</td>\n",
       "      <td>...</td>\n",
       "      <td>NaN</td>\n",
       "      <td>NaN</td>\n",
       "      <td>NaN</td>\n",
       "      <td>NaN</td>\n",
       "      <td>NaN</td>\n",
       "      <td>NaN</td>\n",
       "      <td>NaN</td>\n",
       "      <td>NaN</td>\n",
       "      <td>NaN</td>\n",
       "      <td>NaN</td>\n",
       "    </tr>\n",
       "    <tr>\n",
       "      <th>215304</th>\n",
       "      <td>20220206001469I</td>\n",
       "      <td>I</td>\n",
       "      <td>91</td>\n",
       "      <td></td>\n",
       "      <td></td>\n",
       "      <td>2022</td>\n",
       "      <td>2</td>\n",
       "      <td>6</td>\n",
       "      <td>20220206</td>\n",
       "      <td>930</td>\n",
       "      <td>...</td>\n",
       "      <td>NaN</td>\n",
       "      <td>NaN</td>\n",
       "      <td>NaN</td>\n",
       "      <td>NaN</td>\n",
       "      <td>NaN</td>\n",
       "      <td>NaN</td>\n",
       "      <td>NaN</td>\n",
       "      <td>NaN</td>\n",
       "      <td>NaN</td>\n",
       "      <td>NaN</td>\n",
       "    </tr>\n",
       "    <tr>\n",
       "      <th>215305</th>\n",
       "      <td>20220206001479I</td>\n",
       "      <td>I</td>\n",
       "      <td>91</td>\n",
       "      <td></td>\n",
       "      <td></td>\n",
       "      <td>2022</td>\n",
       "      <td>2</td>\n",
       "      <td>6</td>\n",
       "      <td>20220206</td>\n",
       "      <td>1710</td>\n",
       "      <td>...</td>\n",
       "      <td>NaN</td>\n",
       "      <td>NaN</td>\n",
       "      <td>NaN</td>\n",
       "      <td>NaN</td>\n",
       "      <td>NaN</td>\n",
       "      <td>NaN</td>\n",
       "      <td>NaN</td>\n",
       "      <td>NaN</td>\n",
       "      <td>NaN</td>\n",
       "      <td>NaN</td>\n",
       "    </tr>\n",
       "    <tr>\n",
       "      <th>215306</th>\n",
       "      <td>20220131001459I</td>\n",
       "      <td>I</td>\n",
       "      <td>O</td>\n",
       "      <td></td>\n",
       "      <td></td>\n",
       "      <td>2022</td>\n",
       "      <td>1</td>\n",
       "      <td>31</td>\n",
       "      <td>20220131</td>\n",
       "      <td>832</td>\n",
       "      <td>...</td>\n",
       "      <td>NaN</td>\n",
       "      <td>NaN</td>\n",
       "      <td>NaN</td>\n",
       "      <td>NaN</td>\n",
       "      <td>NaN</td>\n",
       "      <td>NaN</td>\n",
       "      <td>NaN</td>\n",
       "      <td>NaN</td>\n",
       "      <td>NaN</td>\n",
       "      <td>NaN</td>\n",
       "    </tr>\n",
       "    <tr>\n",
       "      <th>215307</th>\n",
       "      <td>20211118022049A</td>\n",
       "      <td>A</td>\n",
       "      <td>91</td>\n",
       "      <td></td>\n",
       "      <td></td>\n",
       "      <td>2021</td>\n",
       "      <td>11</td>\n",
       "      <td>18</td>\n",
       "      <td>20211118</td>\n",
       "      <td>1130</td>\n",
       "      <td>...</td>\n",
       "      <td>NaN</td>\n",
       "      <td>NaN</td>\n",
       "      <td>NaN</td>\n",
       "      <td>NaN</td>\n",
       "      <td>NaN</td>\n",
       "      <td>NaN</td>\n",
       "      <td>NaN</td>\n",
       "      <td>NaN</td>\n",
       "      <td>NaN</td>\n",
       "      <td>NaN</td>\n",
       "    </tr>\n",
       "  </tbody>\n",
       "</table>\n",
       "<p>215308 rows × 190 columns</p>\n",
       "</div>"
      ],
      "text/plain": [
       "                     c5 c1   c2   c3 c4    c6  c7  c8        c9   c10  ...  \\\n",
       "0       19750101000049A  A       0.4     1975   1   1  19750101        ...   \n",
       "1       19750101000129A  A       0.4     1975   1   1  19750101        ...   \n",
       "2       19750101000139A  A       0.4     1975   1   1  19750101        ...   \n",
       "3       19750101000219A  A       0.4     1975   1   1  19750101        ...   \n",
       "4       19750101000229A  A       0.4     1975   1   1  19750101        ...   \n",
       "...                 ... ..  ...  ... ..   ...  ..  ..       ...   ...  ...   \n",
       "215303  20220207001489I  I   91          2022   2   7  20220207  1505  ...   \n",
       "215304  20220206001469I  I   91          2022   2   6  20220206   930  ...   \n",
       "215305  20220206001479I  I   91          2022   2   6  20220206  1710  ...   \n",
       "215306  20220131001459I  I  O            2022   1  31  20220131   832  ...   \n",
       "215307  20211118022049A  A   91          2021  11  18  20211118  1130  ...   \n",
       "\n",
       "        32 Unnamed: 180 Unnamed: 181 Unnamed: 182 Unnamed: 183 Unnamed: 184  \\\n",
       "0      NaN          NaN          NaN          NaN          NaN          NaN   \n",
       "1      NaN          NaN          NaN          NaN          NaN          NaN   \n",
       "2      NaN          NaN          NaN          NaN          NaN          NaN   \n",
       "3      NaN          NaN          NaN          NaN          NaN          NaN   \n",
       "4      NaN          NaN          NaN          NaN          NaN          NaN   \n",
       "...     ..          ...          ...          ...          ...          ...   \n",
       "215303 NaN          NaN          NaN          NaN          NaN          NaN   \n",
       "215304 NaN          NaN          NaN          NaN          NaN          NaN   \n",
       "215305 NaN          NaN          NaN          NaN          NaN          NaN   \n",
       "215306 NaN          NaN          NaN          NaN          NaN          NaN   \n",
       "215307 NaN          NaN          NaN          NaN          NaN          NaN   \n",
       "\n",
       "       Unnamed: 185 Unnamed: 186 Unnamed: 187 Unnamed: 188  \n",
       "0               NaN          NaN          NaN          NaN  \n",
       "1               NaN          NaN          NaN          NaN  \n",
       "2               NaN          NaN          NaN          NaN  \n",
       "3               NaN          NaN          NaN          NaN  \n",
       "4               NaN          NaN          NaN          NaN  \n",
       "...             ...          ...          ...          ...  \n",
       "215303          NaN          NaN          NaN          NaN  \n",
       "215304          NaN          NaN          NaN          NaN  \n",
       "215305          NaN          NaN          NaN          NaN  \n",
       "215306          NaN          NaN          NaN          NaN  \n",
       "215307          NaN          NaN          NaN          NaN  \n",
       "\n",
       "[215308 rows x 190 columns]"
      ]
     },
     "execution_count": 6,
     "metadata": {},
     "output_type": "execute_result"
    }
   ],
   "source": [
    "df"
   ]
  },
  {
   "cell_type": "markdown",
   "id": "b3c095d1-ca57-45aa-bb84-4a037a1e88cd",
   "metadata": {
    "papermill": {
     "duration": 0.03212,
     "end_time": "2023-03-29T22:06:01.268352",
     "exception": false,
     "start_time": "2023-03-29T22:06:01.236232",
     "status": "completed"
    },
    "tags": []
   },
   "source": [
    "Then, save thte concatenated dataframe to our `working-data/` directory."
   ]
  },
  {
   "cell_type": "code",
   "execution_count": 7,
   "id": "a38a5501-bfad-4062-af4c-64972a9d506a",
   "metadata": {
    "papermill": {
     "duration": 27.129656,
     "end_time": "2023-03-29T22:06:28.429306",
     "exception": false,
     "start_time": "2023-03-29T22:06:01.299650",
     "status": "completed"
    },
    "tags": []
   },
   "outputs": [],
   "source": [
    "df.to_csv(f'../data/Concatenated_Orig_data.csv')"
   ]
  },
  {
   "cell_type": "code",
   "execution_count": 8,
   "id": "0eac12f0-07e0-41c7-aa01-9f84422c5b9a",
   "metadata": {
    "papermill": {
     "duration": 0.017144,
     "end_time": "2023-03-29T22:06:28.454705",
     "exception": false,
     "start_time": "2023-03-29T22:06:28.437561",
     "status": "completed"
    },
    "tags": []
   },
   "outputs": [
    {
     "data": {
      "text/plain": [
       "(215308, 190)"
      ]
     },
     "execution_count": 8,
     "metadata": {},
     "output_type": "execute_result"
    }
   ],
   "source": [
    "df.shape"
   ]
  }
 ],
 "metadata": {
  "kernelspec": {
   "display_name": "Python 3",
   "language": "python",
   "name": "python3"
  },
  "language_info": {
   "codemirror_mode": {
    "name": "ipython",
    "version": 3
   },
   "file_extension": ".py",
   "mimetype": "text/x-python",
   "name": "python",
   "nbconvert_exporter": "python",
   "pygments_lexer": "ipython3",
   "version": "3.9.15"
  },
  "papermill": {
   "default_parameters": {},
   "duration": 40.849668,
   "end_time": "2023-03-29T22:06:29.789151",
   "environment_variables": {},
   "exception": null,
   "input_path": "nbs/00_Collecting_Data.ipynb",
   "output_path": "nbs/00_Collecting_Data.ipynb",
   "parameters": {},
   "start_time": "2023-03-29T22:05:48.939483",
   "version": "2.4.0"
  }
 },
 "nbformat": 4,
 "nbformat_minor": 5
}
