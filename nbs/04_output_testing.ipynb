{
 "cells": [
  {
   "cell_type": "markdown",
   "id": "15d9dc8c-e94f-41cf-8be4-e1d60bde4f24",
   "metadata": {},
   "source": [
    "# Output Testing"
   ]
  },
  {
   "cell_type": "code",
   "execution_count": null,
   "id": "b99fa7bd-570f-42fb-9c0a-dc19716f98f4",
   "metadata": {},
   "outputs": [],
   "source": []
  }
 ],
 "metadata": {
  "kernelspec": {
   "display_name": "Python 3",
   "language": "python",
   "name": "python3"
  },
  "language_info": {
   "codemirror_mode": {
    "name": "ipython",
    "version": 3
   },
   "file_extension": ".py",
   "mimetype": "text/x-python",
   "name": "python",
   "nbconvert_exporter": "python",
   "pygments_lexer": "ipython3",
   "version": "3.9.15"
  }
 },
 "nbformat": 4,
 "nbformat_minor": 5
}
