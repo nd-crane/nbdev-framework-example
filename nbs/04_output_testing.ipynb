{
 "cells": [
  {
   "cell_type": "markdown",
   "id": "15d9dc8c-e94f-41cf-8be4-e1d60bde4f24",
   "metadata": {},
   "source": [
    "# Output Testing"
   ]
  },
  {
   "cell_type": "code",
   "execution_count": null,
   "id": "b99fa7bd-570f-42fb-9c0a-dc19716f98f4",
   "metadata": {},
   "outputs": [],
   "source": []
  }
 ],
 "metadata": {
  "kernelspec": {
   "display_name": "python3",
   "language": "python",
   "name": "python3"
  }
 },
 "nbformat": 4,
 "nbformat_minor": 5
}
