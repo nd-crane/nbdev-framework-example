{
 "cells": [
  {
   "cell_type": "code",
   "execution_count": 1,
   "id": "4c739d1f-ff33-433d-97bd-53e7ed3eb4d0",
   "metadata": {},
   "outputs": [
    {
     "name": "stdout",
     "output_type": "stream",
     "text": [
      "['/afs/crc.nd.edu/group/TAI/Users/painswor/nbdev-framework-example/nbs', '/opt/anaconda3/lib/python39.zip', '/opt/anaconda3/lib/python3.9', '/opt/anaconda3/lib/python3.9/lib-dynload', '', '/afs/crc.nd.edu/user/p/painswor/.local/lib/python3.9/site-packages', '/opt/anaconda3/lib/python3.9/site-packages', '/opt/anaconda3/lib/python3.9/site-packages/IPython/extensions', '/afs/crc.nd.edu/user/p/painswor/.ipython', '../__pypackages__/3.9/lib/']\n"
     ]
    }
   ],
   "source": [
    "#| hide\n",
    "import sys\n",
    "sys.path.append('../__pypackages__/3.9/lib/')\n",
    "print(sys.path)"
   ]
  },
  {
   "cell_type": "code",
   "execution_count": 116,
   "id": "211cb763-5d6a-46a4-a051-86e6474e45c3",
   "metadata": {},
   "outputs": [],
   "source": [
    "#| hide\n",
    "import pandas as pd"
   ]
  },
  {
   "cell_type": "markdown",
   "id": "8f311829-1f92-4f54-95f9-ef100a36f597",
   "metadata": {},
   "source": [
    "# Neural Net Preprocessing"
   ]
  },
  {
   "cell_type": "markdown",
   "id": "c2469ec4-d7a7-4a7a-a427-de7f4c298243",
   "metadata": {},
   "source": [
    "At this point our workflow will split as we prepare for different modeling techniques.  This notebook will preprocess the data for Neural Net training and inference in `03a_Training_Model.ipynb`"
   ]
  },
  {
   "cell_type": "markdown",
   "id": "b43b2aa9-2e81-421c-913d-0b7b29d18ba7",
   "metadata": {},
   "source": [
    "First let's import our cleaned concatenated data from `01_Cleaning_Data.ipynb`"
   ]
  },
  {
   "cell_type": "code",
   "execution_count": 104,
   "id": "ce153b1a-e4eb-42f0-ae0d-9d4dd4879803",
   "metadata": {},
   "outputs": [
    {
     "name": "stderr",
     "output_type": "stream",
     "text": [
      "/tmp/ipykernel_868867/3272590061.py:1: DtypeWarning: Columns (5,6,11,15,16,17,18,19,27,29,30,33,34,35,36,43,45,48,49,50,51,52,58,59,60,61,62,63,69,70,71,72,73,74,75,76,77,78,79,82,83,117,118,122,123,127,131,135,136,142,155,158,167,168,172,173,175,176) have mixed types. Specify dtype option on import or set low_memory=False.\n",
      "  df = pd.read_csv(\"../data/cleaned-data/Concatenated_Clean_data.csv\")\n"
     ]
    }
   ],
   "source": [
    "df = pd.read_csv(\"../data/cleaned-data/Concatenated_Clean_data.csv\")"
   ]
  },
  {
   "cell_type": "markdown",
   "id": "1eea6bcd-eea3-4765-aafb-c34962e02e7f",
   "metadata": {},
   "source": [
    "## Feature Extraction"
   ]
  },
  {
   "cell_type": "markdown",
   "id": "18561c07-1050-4f8e-91dd-125be7833961",
   "metadata": {},
   "source": [
    "In this study, 8 maintenance codes were observed as relevant. We'll extract those now"
   ]
  },
  {
   "cell_type": "code",
   "execution_count": 105,
   "id": "47b073a4-46a7-457d-a1c8-0d8b60b165e0",
   "metadata": {},
   "outputs": [],
   "source": [
    "assert 1 == 1"
   ]
  },
  {
   "cell_type": "code",
   "execution_count": 106,
   "id": "f0a6ecb1-6dbf-489c-9134-78a02919776e",
   "metadata": {},
   "outputs": [],
   "source": [
    "maintenance_codes = ['AF', 'DE', 'AI', 'AP', 'AU', 'EQ', 'II', 'ME']"
   ]
  },
  {
   "cell_type": "code",
   "execution_count": 107,
   "id": "4fe2010e-d7a5-4b49-a095-5bfa9310fe0c",
   "metadata": {},
   "outputs": [
    {
     "data": {
      "text/plain": [
       "II    1951\n",
       "ME     377\n",
       "AU     246\n",
       "AF      92\n",
       "DE      57\n",
       "EQ      24\n",
       "AI      15\n",
       "AP       1\n",
       "Name: c78, dtype: int64"
      ]
     },
     "execution_count": 107,
     "metadata": {},
     "output_type": "execute_result"
    }
   ],
   "source": [
    "df = df[df['c78'].isin(maintenance_codes)]\n",
    "df['c78'].value_counts()"
   ]
  },
  {
   "cell_type": "markdown",
   "id": "42270144-b87d-48f7-a536-042f015f2a06",
   "metadata": {},
   "source": [
    "Next, we identify and select relevant data and label columns"
   ]
  },
  {
   "cell_type": "code",
   "execution_count": 108,
   "id": "d6de42dc-1999-436c-b046-b6686cd5894d",
   "metadata": {},
   "outputs": [],
   "source": [
    "text_columns = ['c119','c77','c79','c81', 'c85', 'c87', 'c89', 'c91', 'c93', 'c95', 'c97', 'c99', 'c101', 'c103', 'c105', 'c107', 'c109', 'c131', 'c133', 'c135', 'c137', 'c146', 'c148', 'c150', 'c154','c161', 'c163', 'c183', 'c191']\n",
    "label_columns = ['c78', 'c80', 'c86', 'c5']\n",
    "\n",
    "columns_to_keep = text_columns + label_columns\n",
    "df.drop(columns=[col for col in df if col not in columns_to_keep], inplace=True)"
   ]
  },
  {
   "cell_type": "code",
   "execution_count": 109,
   "id": "aee28192-9fe8-4c41-9e05-25daa118be76",
   "metadata": {},
   "outputs": [
    {
     "data": {
      "text/plain": [
       "(2763, 33)"
      ]
     },
     "execution_count": 109,
     "metadata": {},
     "output_type": "execute_result"
    }
   ],
   "source": [
    "df.shape"
   ]
  },
  {
   "cell_type": "markdown",
   "id": "e8236ce9-7ea0-4e9f-a038-1f6305f519f6",
   "metadata": {},
   "source": [
    "This is our maintenence text csv, we'll save that now"
   ]
  },
  {
   "cell_type": "code",
   "execution_count": 110,
   "id": "ff13f9e7-ce26-432d-994d-9064bf3f38d9",
   "metadata": {},
   "outputs": [],
   "source": [
    "df.to_csv(\"../data/cleaned-data/Maintenance_Text_data.csv\")"
   ]
  },
  {
   "cell_type": "markdown",
   "id": "725875f5-9b4e-43ec-b343-356c4a22bc7e",
   "metadata": {},
   "source": [
    "For our NLP classification, we only need two columns: `c119` is the text that describes an issue, `c78` is the label that classifies the issue"
   ]
  },
  {
   "cell_type": "markdown",
   "id": "66fc6152-bb52-48b1-aafb-aad02dad6aa3",
   "metadata": {},
   "source": [
    "We'll extract those now"
   ]
  },
  {
   "cell_type": "code",
   "execution_count": 111,
   "id": "9848af41-b023-4c36-a959-5de49879d7f5",
   "metadata": {},
   "outputs": [
    {
     "data": {
      "text/html": [
       "<div>\n",
       "<style scoped>\n",
       "    .dataframe tbody tr th:only-of-type {\n",
       "        vertical-align: middle;\n",
       "    }\n",
       "\n",
       "    .dataframe tbody tr th {\n",
       "        vertical-align: top;\n",
       "    }\n",
       "\n",
       "    .dataframe thead th {\n",
       "        text-align: right;\n",
       "    }\n",
       "</style>\n",
       "<table border=\"1\" class=\"dataframe\">\n",
       "  <thead>\n",
       "    <tr style=\"text-align: right;\">\n",
       "      <th></th>\n",
       "      <th>text</th>\n",
       "      <th>label</th>\n",
       "    </tr>\n",
       "  </thead>\n",
       "  <tbody>\n",
       "    <tr>\n",
       "      <th>535</th>\n",
       "      <td>TAILWHEEL COCKED RIGHT PRIOR TO TKOF.         ...</td>\n",
       "      <td>AU</td>\n",
       "    </tr>\n",
       "    <tr>\n",
       "      <th>864</th>\n",
       "      <td>TOW PLANE BECAME AIRBORNE THEN SETTLED.STUDENT...</td>\n",
       "      <td>ME</td>\n",
       "    </tr>\n",
       "    <tr>\n",
       "      <th>2195</th>\n",
       "      <td>2ND ILS APCH,ACFT'S G/S INOP.LOM TUNED TO WRON...</td>\n",
       "      <td>AU</td>\n",
       "    </tr>\n",
       "    <tr>\n",
       "      <th>2476</th>\n",
       "      <td>PLT NOTED SOFT R BRAKE PEDAL DRG TAXI TO TKOF....</td>\n",
       "      <td>AU</td>\n",
       "    </tr>\n",
       "    <tr>\n",
       "      <th>2916</th>\n",
       "      <td>TAXI OFF HARD SFC DUE TFC R MAIN GR BROKE THRO...</td>\n",
       "      <td>AF</td>\n",
       "    </tr>\n",
       "    <tr>\n",
       "      <th>...</th>\n",
       "      <td>...</td>\n",
       "      <td>...</td>\n",
       "    </tr>\n",
       "    <tr>\n",
       "      <th>113835</th>\n",
       "      <td>(-23) A/C RELOCATED TO NEW HANGAR TO CHECK SIZ...</td>\n",
       "      <td>II</td>\n",
       "    </tr>\n",
       "    <tr>\n",
       "      <th>113838</th>\n",
       "      <td>(-23) ON 2/23/08 @ APPROXIMATELY 2130 DURING T...</td>\n",
       "      <td>AF</td>\n",
       "    </tr>\n",
       "    <tr>\n",
       "      <th>113840</th>\n",
       "      <td>(-23) PILOT TOOK OFF FOR LEESBURG AIRPORT AND ...</td>\n",
       "      <td>II</td>\n",
       "    </tr>\n",
       "    <tr>\n",
       "      <th>113869</th>\n",
       "      <td>(-23) OWNER FORGOT TO FASTEN THE LOWER LEFT 4 ...</td>\n",
       "      <td>II</td>\n",
       "    </tr>\n",
       "    <tr>\n",
       "      <th>113902</th>\n",
       "      <td>(-23) THE AIRCRAFT EXPERIENCED SEVERE TURBULAN...</td>\n",
       "      <td>ME</td>\n",
       "    </tr>\n",
       "  </tbody>\n",
       "</table>\n",
       "<p>2763 rows × 2 columns</p>\n",
       "</div>"
      ],
      "text/plain": [
       "                                                     text label\n",
       "535     TAILWHEEL COCKED RIGHT PRIOR TO TKOF.         ...    AU\n",
       "864     TOW PLANE BECAME AIRBORNE THEN SETTLED.STUDENT...    ME\n",
       "2195    2ND ILS APCH,ACFT'S G/S INOP.LOM TUNED TO WRON...    AU\n",
       "2476    PLT NOTED SOFT R BRAKE PEDAL DRG TAXI TO TKOF....    AU\n",
       "2916    TAXI OFF HARD SFC DUE TFC R MAIN GR BROKE THRO...    AF\n",
       "...                                                   ...   ...\n",
       "113835  (-23) A/C RELOCATED TO NEW HANGAR TO CHECK SIZ...    II\n",
       "113838  (-23) ON 2/23/08 @ APPROXIMATELY 2130 DURING T...    AF\n",
       "113840  (-23) PILOT TOOK OFF FOR LEESBURG AIRPORT AND ...    II\n",
       "113869  (-23) OWNER FORGOT TO FASTEN THE LOWER LEFT 4 ...    II\n",
       "113902  (-23) THE AIRCRAFT EXPERIENCED SEVERE TURBULAN...    ME\n",
       "\n",
       "[2763 rows x 2 columns]"
      ]
     },
     "execution_count": 111,
     "metadata": {},
     "output_type": "execute_result"
    }
   ],
   "source": [
    "data = pd.DataFrame()\n",
    "data['text'] = df['c119']\n",
    "data['label'] = df['c78']\n",
    "data"
   ]
  },
  {
   "cell_type": "markdown",
   "id": "0e79d710-52a6-4ec5-a0ec-5974063eaaf3",
   "metadata": {},
   "source": [
    "## Cleaning Dataframe"
   ]
  },
  {
   "cell_type": "markdown",
   "id": "6d4ce730-f9c3-474c-9395-3bdbef448cac",
   "metadata": {},
   "source": [
    "Even with previous cleaning, lets ensure our dataframe is clean"
   ]
  },
  {
   "cell_type": "code",
   "execution_count": 112,
   "id": "0f0ae727-c9c8-493e-b6b7-2ad65ec1a16a",
   "metadata": {},
   "outputs": [
    {
     "data": {
      "text/plain": [
       "text     15\n",
       "label     0\n",
       "dtype: int64"
      ]
     },
     "execution_count": 112,
     "metadata": {},
     "output_type": "execute_result"
    }
   ],
   "source": [
    "data.isna().sum()"
   ]
  },
  {
   "cell_type": "markdown",
   "id": "72f51ae2-903b-474d-a2a7-a8077ecde255",
   "metadata": {},
   "source": [
    "Remove NaN values"
   ]
  },
  {
   "cell_type": "code",
   "execution_count": 113,
   "id": "40d327be-4fd3-4be8-95f4-57083b6f8422",
   "metadata": {},
   "outputs": [],
   "source": [
    "data = data.fillna('Null')\n",
    "data = data[data['text'] != 'Null']"
   ]
  },
  {
   "cell_type": "markdown",
   "id": "f018b69e-7cac-4235-b11e-2945a6998251",
   "metadata": {},
   "source": [
    "Check there are no missing values left"
   ]
  },
  {
   "cell_type": "code",
   "execution_count": 114,
   "id": "4d61e0c0-6c6b-4a2b-a914-d5b6661ac605",
   "metadata": {},
   "outputs": [
    {
     "data": {
      "text/plain": [
       "text     0\n",
       "label    0\n",
       "dtype: int64"
      ]
     },
     "execution_count": 114,
     "metadata": {},
     "output_type": "execute_result"
    }
   ],
   "source": [
    "data.isna().sum()"
   ]
  },
  {
   "cell_type": "code",
   "execution_count": 115,
   "id": "9b299ee7-39ce-4707-a0ea-051d5c17b651",
   "metadata": {},
   "outputs": [
    {
     "data": {
      "text/html": [
       "<div>\n",
       "<style scoped>\n",
       "    .dataframe tbody tr th:only-of-type {\n",
       "        vertical-align: middle;\n",
       "    }\n",
       "\n",
       "    .dataframe tbody tr th {\n",
       "        vertical-align: top;\n",
       "    }\n",
       "\n",
       "    .dataframe thead th {\n",
       "        text-align: right;\n",
       "    }\n",
       "</style>\n",
       "<table border=\"1\" class=\"dataframe\">\n",
       "  <thead>\n",
       "    <tr style=\"text-align: right;\">\n",
       "      <th></th>\n",
       "      <th>text</th>\n",
       "      <th>label</th>\n",
       "    </tr>\n",
       "  </thead>\n",
       "  <tbody>\n",
       "    <tr>\n",
       "      <th>535</th>\n",
       "      <td>TAILWHEEL COCKED RIGHT PRIOR TO TKOF.         ...</td>\n",
       "      <td>AU</td>\n",
       "    </tr>\n",
       "    <tr>\n",
       "      <th>864</th>\n",
       "      <td>TOW PLANE BECAME AIRBORNE THEN SETTLED.STUDENT...</td>\n",
       "      <td>ME</td>\n",
       "    </tr>\n",
       "    <tr>\n",
       "      <th>2195</th>\n",
       "      <td>2ND ILS APCH,ACFT'S G/S INOP.LOM TUNED TO WRON...</td>\n",
       "      <td>AU</td>\n",
       "    </tr>\n",
       "    <tr>\n",
       "      <th>2476</th>\n",
       "      <td>PLT NOTED SOFT R BRAKE PEDAL DRG TAXI TO TKOF....</td>\n",
       "      <td>AU</td>\n",
       "    </tr>\n",
       "    <tr>\n",
       "      <th>2916</th>\n",
       "      <td>TAXI OFF HARD SFC DUE TFC R MAIN GR BROKE THRO...</td>\n",
       "      <td>AF</td>\n",
       "    </tr>\n",
       "    <tr>\n",
       "      <th>3151</th>\n",
       "      <td>ACFT BEING TAXIED ON GRASS TAXIWAY NOSE WHEEL ...</td>\n",
       "      <td>AF</td>\n",
       "    </tr>\n",
       "    <tr>\n",
       "      <th>3332</th>\n",
       "      <td>DEP FOR DEST WITH KNOWN ELEC PROB. DIDNT USE E...</td>\n",
       "      <td>AU</td>\n",
       "    </tr>\n",
       "    <tr>\n",
       "      <th>3943</th>\n",
       "      <td>MTNS OBSCURED.FLT TO CK VOR REC REPTD INOP PRI...</td>\n",
       "      <td>AU</td>\n",
       "    </tr>\n",
       "    <tr>\n",
       "      <th>4176</th>\n",
       "      <td>SUFFICIENT OPPORTUNITY EXISTED TO RELEASE WHEN...</td>\n",
       "      <td>ME</td>\n",
       "    </tr>\n",
       "    <tr>\n",
       "      <th>4442</th>\n",
       "      <td>MAINT NOT PERFORMED DUE PARTS NOT AVAILABLE. T...</td>\n",
       "      <td>AU</td>\n",
       "    </tr>\n",
       "  </tbody>\n",
       "</table>\n",
       "</div>"
      ],
      "text/plain": [
       "                                                   text label\n",
       "535   TAILWHEEL COCKED RIGHT PRIOR TO TKOF.         ...    AU\n",
       "864   TOW PLANE BECAME AIRBORNE THEN SETTLED.STUDENT...    ME\n",
       "2195  2ND ILS APCH,ACFT'S G/S INOP.LOM TUNED TO WRON...    AU\n",
       "2476  PLT NOTED SOFT R BRAKE PEDAL DRG TAXI TO TKOF....    AU\n",
       "2916  TAXI OFF HARD SFC DUE TFC R MAIN GR BROKE THRO...    AF\n",
       "3151  ACFT BEING TAXIED ON GRASS TAXIWAY NOSE WHEEL ...    AF\n",
       "3332  DEP FOR DEST WITH KNOWN ELEC PROB. DIDNT USE E...    AU\n",
       "3943  MTNS OBSCURED.FLT TO CK VOR REC REPTD INOP PRI...    AU\n",
       "4176  SUFFICIENT OPPORTUNITY EXISTED TO RELEASE WHEN...    ME\n",
       "4442  MAINT NOT PERFORMED DUE PARTS NOT AVAILABLE. T...    AU"
      ]
     },
     "execution_count": 115,
     "metadata": {},
     "output_type": "execute_result"
    }
   ],
   "source": [
    "data.head(10)"
   ]
  },
  {
   "cell_type": "markdown",
   "id": "768dbcfe-5245-4dd0-936c-0631167800da",
   "metadata": {},
   "source": [
    "Remove rows with one occurance"
   ]
  },
  {
   "cell_type": "code",
   "execution_count": 94,
   "id": "0e354945-affb-46aa-9804-21e2d81302f5",
   "metadata": {},
   "outputs": [],
   "source": [
    "counts = data['label'].value_counts()\n",
    "data = data[data['label'].isin(counts[counts > 1].index)]"
   ]
  },
  {
   "cell_type": "markdown",
   "id": "67eaf481-01fe-43c7-8658-985421b6e0c4",
   "metadata": {},
   "source": [
    "## Splitting Data"
   ]
  },
  {
   "cell_type": "code",
   "execution_count": 1,
   "id": "cdf46a78-9c92-4cd6-8bee-a4c744b771ae",
   "metadata": {},
   "outputs": [],
   "source": [
    "#| hide\n",
    "from sklearn.model_selection import StratifiedShuffleSplit, train_test_split\n",
    "from sklearn.preprocessing import LabelEncoder"
   ]
  },
  {
   "cell_type": "code",
   "execution_count": 96,
   "id": "d886b551-8653-4630-bd2f-94597b2af625",
   "metadata": {},
   "outputs": [],
   "source": [
    "X, y = data['text'], data['label']"
   ]
  },
  {
   "cell_type": "markdown",
   "id": "ba8f59a2-070f-400c-ae92-48c7d50d3b74",
   "metadata": {},
   "source": [
    "We'll split data into training (60%), testing (20%), and validating (20%)"
   ]
  },
  {
   "cell_type": "code",
   "execution_count": 78,
   "id": "546db6c2-2897-41cb-8c8c-03b5935144b7",
   "metadata": {},
   "outputs": [
    {
     "data": {
      "text/plain": [
       "10"
      ]
     },
     "execution_count": 78,
     "metadata": {},
     "output_type": "execute_result"
    }
   ],
   "source": [
    "ss = StratifiedShuffleSplit(n_splits=10, test_size=0.20, random_state=0)\n",
    "ss.get_n_splits(X, y)"
   ]
  },
  {
   "cell_type": "code",
   "execution_count": 79,
   "id": "66646ed5-7c62-4f2f-99eb-78289e9f0cea",
   "metadata": {},
   "outputs": [],
   "source": [
    "cleaned_data = '../data/processed-data/nn'"
   ]
  },
  {
   "cell_type": "code",
   "execution_count": 80,
   "id": "65a8f680-5044-4206-ac99-4f6ca1f4f1f2",
   "metadata": {},
   "outputs": [],
   "source": [
    "for i, (train_index, test_index) in enumerate(ss.split(X, y)):\n",
    "    X_train , X_test = X.iloc[train_index],X.iloc[test_index]\n",
    "    y_train , y_test = y.iloc[train_index] , y.iloc[test_index]\n",
    "    X_train, X_val, y_train, y_val = train_test_split(X_train, y_train, test_size=.20, random_state=0)\n",
    "    \n",
    "    Encoder = LabelEncoder()\n",
    "    y_train = Encoder.fit_transform(y_train)\n",
    "    y_test = Encoder.fit_transform(y_test)\n",
    "    y_val_encode = Encoder.fit_transform(y_val)\n",
    "    \n",
    "    final_train = pd.DataFrame({'text':X_train,'label':y_train})\n",
    "    final_test = pd.DataFrame({'text':X_test,'label':y_test})\n",
    "    final_val = pd.DataFrame({'text':X_val,'label':y_val_encode})\n",
    "    \n",
    "    final_train.to_csv(f'{cleaned_data}/train/FAA-{i}.csv', index=False)\n",
    "    final_test.to_csv(f'{cleaned_data}/test/FAA-{i}.csv', index=False)\n",
    "    final_val.to_csv(f'{cleaned_data}/val/FAA-{i}.csv', index=False)\n",
    "    y_val.to_csv(f'{cleaned_data}/actual/FAA-{i}.csv', index=False)"
   ]
  }
 ],
 "metadata": {
  "kernelspec": {
   "display_name": "Python 3",
   "language": "python",
   "name": "python3"
  },
  "language_info": {
   "codemirror_mode": {
    "name": "ipython",
    "version": 3
   },
   "file_extension": ".py",
   "mimetype": "text/x-python",
   "name": "python",
   "nbconvert_exporter": "python",
   "pygments_lexer": "ipython3",
   "version": "3.9.15"
  }
 },
 "nbformat": 4,
 "nbformat_minor": 5
}
