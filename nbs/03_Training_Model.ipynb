{
 "cells": [
  {
   "cell_type": "code",
   "execution_count": 1,
   "id": "3cf50c2b-1ff8-4da2-8b2d-a3b426975fa4",
   "metadata": {},
   "outputs": [],
   "source": [
    "#| Hide\n",
    "import pandas as pd\n",
    "import numpy as np"
   ]
  },
  {
   "cell_type": "markdown",
   "id": "b4000aad-f505-4e3e-969e-cfb514452c87",
   "metadata": {},
   "source": [
    "# Cleaning Data"
   ]
  },
  {
   "cell_type": "markdown",
   "id": "aec59582-d437-43d2-9037-c5b62dfd772c",
   "metadata": {},
   "source": [
    "First lets define where our data is located:"
   ]
  },
  {
   "cell_type": "code",
   "execution_count": 2,
   "id": "3f5eff39-44a0-4ca8-ac53-1fb270dc466e",
   "metadata": {},
   "outputs": [],
   "source": [
    "working_data = '../data/working-data'"
   ]
  },
  {
   "cell_type": "markdown",
   "id": "f0a1f7ad-19b3-4de2-b95b-3d146aa29b2c",
   "metadata": {},
   "source": []
  }
 ],
 "metadata": {
  "kernelspec": {
   "display_name": "Python 3",
   "language": "python",
   "name": "python3"
  },
  "language_info": {
   "codemirror_mode": {
    "name": "ipython",
    "version": 3
   },
   "file_extension": ".py",
   "mimetype": "text/x-python",
   "name": "python",
   "nbconvert_exporter": "python",
   "pygments_lexer": "ipython3",
   "version": "3.9.15"
  }
 },
 "nbformat": 4,
 "nbformat_minor": 5
}
